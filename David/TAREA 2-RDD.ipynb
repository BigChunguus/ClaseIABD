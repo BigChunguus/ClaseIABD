{
 "cells": [
  {
   "cell_type": "code",
   "execution_count": 2,
   "id": "bdbcd579-0385-42ea-91f7-1ce13ad41213",
   "metadata": {},
   "outputs": [
    {
     "name": "stdout",
     "output_type": "stream",
     "text": [
      "Parte A:-----------------------------------------------------------------------------------------------------------------+\n",
      "Ciudades con 'e': ['Castro Urdiales', 'Valencia', 'Barcelona', 'Sevilla']\n",
      "+------------------------------------------------------------------------------------------------------------------------+\n",
      "\n",
      "Parte B:-----------------------------------------------------------------------------------------------------------------+\n",
      "Ciudades con 'd' y las veces que aparece 'd':\n",
      "Castro Urdiales: 1\n",
      "Madrid: 2\n",
      "+------------------------------------------------------------------------------------------------------------------------+\n",
      "\n",
      "Parte C:-----------------------------------------------------------------------------------------------------------------+\n",
      "Ciudades con una 'e': ['Castro Urdiales', 'Valencia', 'Barcelona', 'Sevilla']\n",
      "+------------------------------------------------------------------------------------------------------------------------+\n",
      "\n",
      "Parte D:-----------------------------------------------------------------------------------------------------------------+\n",
      "['Alicante', 'Elche', 'Valencia', 'Madrid', 'Barcelona', 'Bilbao', 'Sevilla', 'Murcia', 'San Sebastián', 'Melilla', 'Aspe']\n",
      "+------------------------------------------------------------------------------------------------------------------------+\n",
      "\n"
     ]
    }
   ],
   "source": [
    "# Ejercicio 1:\n",
    "from pyspark import SparkConf, SparkContext\n",
    "\n",
    "conf = SparkConf().setAppName(\"FiltrarCiudades\").setMaster(\"local\")\n",
    "sc = SparkContext(conf=conf)\n",
    "\n",
    "lista_ciudades = ['Castro Urdiales', 'Malaga', 'Valencia', 'Madrid', 'Barcelona', 'Bilbao', 'Sevilla']\n",
    "\n",
    "rdd = sc.parallelize(lista_ciudades)\n",
    "\n",
    "# Parte A: Filtrar ciudades que contienen la letra 'e'\n",
    "ciudades_con_e = rdd.filter(lambda ciudad: 'e' in ciudad)\n",
    "\n",
    "print(\"Parte A:-----------------------------------------------------------------------------------------------------------------+\")\n",
    "print(\"Ciudades con 'e':\", ciudades_con_e.collect())\n",
    "print(\"+------------------------------------------------------------------------------------------------------------------------+\\n\")\n",
    "\n",
    "# Parte B: Filtrar ciudades que contienen la letra 'd'\n",
    "ciudades_con_d = rdd.filter(lambda ciudad: 'd' in ciudad)\n",
    "\n",
    "cuenta_ciudades_con_d = ciudades_con_d.map(lambda ciudad: (ciudad, ciudad.count('d')))\n",
    "\n",
    "print(\"Parte B:-----------------------------------------------------------------------------------------------------------------+\")\n",
    "print(\"Ciudades con 'd' y las veces que aparece 'd':\")\n",
    "for ciudad, cuenta in cuenta_ciudades_con_d.collect():\n",
    "    print(f\"{ciudad}: {cuenta}\")\n",
    "print(\"+------------------------------------------------------------------------------------------------------------------------+\\n\")\n",
    "\n",
    "# Parte C: Filtrar ciudades con una unica 'e'\n",
    "cuenta_ciudades_con_e = ciudades_con_e.map(lambda ciudad: (ciudad, ciudad.count('e')))\n",
    "\n",
    "ciudades_con_1_e = []\n",
    "\n",
    "for ciudad, cuenta in cuenta_ciudades_con_e.collect():\n",
    "    if cuenta == 1:\n",
    "        ciudades_con_1_e.append(ciudad)\n",
    "\n",
    "print(\"Parte C:-----------------------------------------------------------------------------------------------------------------+\")\n",
    "print(\"Ciudades con una 'e':\", ciudades_con_1_e)\n",
    "print(\"+------------------------------------------------------------------------------------------------------------------------+\\n\")\n",
    "\n",
    "# Parte D: Organizar ciudades\n",
    "ciudades_mal = [['Alicante.Elche','Valencia','Madrid.Barcelona','Bilbao.Sevilla'],['Murcia','San Sebastián','Melilla.Aspe']]\n",
    "\n",
    "ciudades_bien = []\n",
    "\n",
    "for sublista in ciudades_mal:\n",
    "    for ciudad in sublista:\n",
    "        ciudades_bien.extend(ciudad.split('.'))\n",
    "\n",
    "print(\"Parte D:-----------------------------------------------------------------------------------------------------------------+\")\n",
    "print(ciudades_bien)\n",
    "print(\"+------------------------------------------------------------------------------------------------------------------------+\\n\")\n",
    "\n",
    "sc.stop()\n"
   ]
  },
  {
   "cell_type": "code",
   "execution_count": 3,
   "id": "b54b9d44-5e64-4dab-8372-d29751ea87ab",
   "metadata": {},
   "outputs": [
    {
     "name": "stdout",
     "output_type": "stream",
     "text": [
      "+--------------------------------------------------------------------------------------------------------------------------+\n",
      "Muestra de 5 elementos: [98, 56, 34, 22, 21]\n",
      "Elemento mayor de la muestra: 98\n",
      "Dos elementos menores: [22, 21]\n",
      "+--------------------------------------------------------------------------------------------------------------------------+\n"
     ]
    }
   ],
   "source": [
    "# Ejercicio 2: Ordenar la lista\n",
    "lista = [4, 6, 34, 7, 9, 2, 3, 4, 4, 21, 4, 6, 8, 9, 7, 8, 5, 4, 3, 22, 34, 56, 98]\n",
    "\n",
    "# Eliminar elementos duplicados y ordenar de forma descendente\n",
    "lista_unica_ordenada = sorted(set(lista), reverse=True)\n",
    "\n",
    "# Tomar una muestra de 5 elementos\n",
    "muestra = lista_unica_ordenada[:5]\n",
    "\n",
    "# Parte a) Seleccionar el mayor elemento de la muestra\n",
    "mayor_elemento = muestra[0]\n",
    "\n",
    "# Parte b) Mostrar los dos elementos menores\n",
    "menores_elementos = muestra[-2:]\n",
    "\n",
    "print(\"+--------------------------------------------------------------------------------------------------------------------------+\")\n",
    "print(\"Muestra de 5 elementos:\", muestra)\n",
    "print(\"Elemento mayor de la muestra:\", mayor_elemento)\n",
    "print(\"Dos elementos menores:\", menores_elementos)\n",
    "print(\"+--------------------------------------------------------------------------------------------------------------------------+\")\n"
   ]
  },
  {
   "cell_type": "code",
   "execution_count": 4,
   "id": "789e8e6c-ce14-4555-b129-1afee88d0148",
   "metadata": {
    "editable": true,
    "slideshow": {
     "slide_type": ""
    },
    "tags": []
   },
   "outputs": [
    {
     "name": "stdout",
     "output_type": "stream",
     "text": [
      "Palabras que se escriben igual en inglés y español: [('angel', 'angel'), ('animal', 'animal'), ('chocolate', 'chocolate'), ('doctor', 'doctor'), ('hospital', 'hospital')]\n",
      "Palabras que son distintas en inglés y español: [('hello', 'hola'), ('table', 'mesa'), ('cat', 'gato'), ('dog', 'perro'), ('dark', 'oscuro'), ('computer', 'ordenador')]\n",
      "Lista de palabras distintas entre inglés y español: ['hello', 'hola', 'table', 'mesa', 'cat', 'gato', 'dog', 'perro', 'dark', 'oscuro', 'computer', 'ordenador']\n",
      "Palabras que empiezan por vocal: [('angel', 'angel'), ('animal', 'animal'), ('angel', 'angel'), ('animal', 'animal'), ('dark', 'oscuro'), ('computer', 'ordenador')]\n",
      "Palabras que empiezan por consonante: [('hello', 'hola'), ('table', 'mesa'), ('cat', 'gato'), ('dog', 'perro'), ('chocolate', 'chocolate'), ('dark', 'oscuro'), ('doctor', 'doctor'), ('hospital', 'hospital'), ('computer', 'ordenador'), ('hello', 'hola'), ('table', 'mesa'), ('cat', 'gato'), ('dog', 'perro'), ('chocolate', 'chocolate'), ('doctor', 'doctor'), ('hospital', 'hospital')]\n"
     ]
    }
   ],
   "source": [
    "from pyspark import SparkConf, SparkContext\n",
    "\n",
    "conf = SparkConf().setAppName(\"Traducciones\").setMaster(\"local\")\n",
    "sc = SparkContext(conf=conf)\n",
    "\n",
    "ingles = ['hello', 'table', 'angel', 'cat', 'dog', 'animal', 'chocolate', 'dark', 'doctor', 'hospital', 'computer']\n",
    "espanol = ['hola', 'mesa', 'angel', 'gato', 'perro', 'animal', 'chocolate', 'oscuro', 'doctor', 'hospital', 'ordenador']\n",
    "\n",
    "rdd = sc.parallelize(list(zip(ingles, espanol)))\n",
    "\n",
    "# Parte A: Palabras que se escriben igual en inglés y en español\n",
    "\n",
    "palabras_iguales = rdd.filter(lambda x: x[0] == x[1]).collect()\n",
    "\n",
    "print(\"Palabras que se escriben igual en inglés y español:\", palabras_iguales)\n",
    "\n",
    "# Parte B: Palabras que en español son distintas que en inglés\n",
    "\n",
    "palabras_distintas = rdd.filter(lambda x: x[0] != x[1]).collect()\n",
    "\n",
    "print(\"Palabras que son distintas en inglés y español:\", palabras_distintas)\n",
    "\n",
    "# Parte C: Lista con las palabras en ambos idiomas que son distintas entre ellas\n",
    "\n",
    "palabras_distintas_lista = [word for pair in palabras_distintas for word in pair]\n",
    "\n",
    "print(\"Lista de palabras distintas entre inglés y español:\", palabras_distintas_lista)\n",
    "\n",
    "# Parte D: Crear dos grupos con las palabras que empiezan por vocal o consonante\n",
    "\n",
    "def empieza_por_vocal(palabra):\n",
    "    return palabra[0].lower() in 'aeiou'\n",
    "\n",
    "palabras_vocal = rdd.filter(lambda x: empieza_por_vocal(x[0])).collect() + rdd.filter(lambda x: empieza_por_vocal(x[1])).collect()\n",
    "\n",
    "palabras_consonante = rdd.filter(lambda x: not empieza_por_vocal(x[0])).collect() + rdd.filter(lambda x: not empieza_por_vocal(x[1])).collect()\n",
    "\n",
    "print(\"Palabras que empiezan por vocal:\", palabras_vocal)\n",
    "print(\"Palabras que empiezan por consonante:\", palabras_consonante)\n",
    "\n",
    "\n",
    "sc.stop()\n"
   ]
  },
  {
   "cell_type": "code",
   "execution_count": null,
   "id": "282f5246-d874-405d-8439-3a57674617ca",
   "metadata": {},
   "outputs": [],
   "source": []
  }
 ],
 "metadata": {
  "kernelspec": {
   "display_name": "Python 3 (ipykernel)",
   "language": "python",
   "name": "python3"
  },
  "language_info": {
   "codemirror_mode": {
    "name": "ipython",
    "version": 3
   },
   "file_extension": ".py",
   "mimetype": "text/x-python",
   "name": "python",
   "nbconvert_exporter": "python",
   "pygments_lexer": "ipython3",
   "version": "3.11.6"
  }
 },
 "nbformat": 4,
 "nbformat_minor": 5
}
