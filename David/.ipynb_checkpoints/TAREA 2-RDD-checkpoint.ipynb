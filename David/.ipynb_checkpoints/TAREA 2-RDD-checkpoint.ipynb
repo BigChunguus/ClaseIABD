{
 "cells": [
  {
   "cell_type": "code",
   "execution_count": 1,
   "id": "bdbcd579-0385-42ea-91f7-1ce13ad41213",
   "metadata": {},
   "outputs": [
    {
     "ename": "SyntaxError",
     "evalue": "invalid syntax (3503581495.py, line 52)",
     "output_type": "error",
     "traceback": [
      "\u001b[0;36m  Cell \u001b[0;32mIn[1], line 52\u001b[0;36m\u001b[0m\n\u001b[0;31m    print(ciudades_bien)+\u001b[0m\n\u001b[0m                         ^\u001b[0m\n\u001b[0;31mSyntaxError\u001b[0m\u001b[0;31m:\u001b[0m invalid syntax\n"
     ]
    }
   ],
   "source": [
    "# Ejercicio 1:\n",
    "from pyspark import SparkConf, SparkContext\n",
    "\n",
    "conf = SparkConf().setAppName(\"FiltrarCiudades\").setMaster(\"local\")\n",
    "sc = SparkContext(conf=conf)\n",
    "\n",
    "lista_ciudades = ['Castro Urdiales', 'Malaga', 'Valencia', 'Madrid', 'Barcelona', 'Bilbao', 'Sevilla']\n",
    "\n",
    "rdd = sc.parallelize(lista_ciudades)\n",
    "\n",
    "# Parte A: Filtrar ciudades que contienen la letra 'e'\n",
    "ciudades_con_e = rdd.filter(lambda ciudad: 'e' in ciudad)\n",
    "\n",
    "print(\"Parte A:-----------------------------------------------------------------------------------------------------------------+\")\n",
    "print(\"Ciudades con 'e':\", ciudades_con_e.collect())\n",
    "print(\"+------------------------------------------------------------------------------------------------------------------------+\")\n",
    "\n",
    "# Parte B: Filtrar ciudades que contienen la letra 'd'\n",
    "ciudades_con_d = rdd.filter(lambda ciudad: 'd' in ciudad)\n",
    "\n",
    "cuenta_ciudades_con_d = ciudades_con_d.map(lambda ciudad: (ciudad, ciudad.count('d')))\n",
    "\n",
    "print(\"Parte B:-----------------------------------------------------------------------------------------------------------------+\")\n",
    "print(\"\\nCiudades con 'd' y las veces que aparece 'd':\")\n",
    "for ciudad, cuenta in cuenta_ciudades_con_d.collect():\n",
    "    print(f\"{ciudad}: {cuenta}\")\n",
    "print(\"+------------------------------------------------------------------------------------------------------------------------+\")\n",
    "\n",
    "# Parte C: Filtrar ciudades con una unica 'e'\n",
    "cuenta_ciudades_con_e = ciudades_con_e.map(lambda ciudad: (ciudad, ciudad.count('e')))\n",
    "\n",
    "ciudades_con_1_e = []\n",
    "\n",
    "for ciudad, cuenta in cuenta_ciudades_con_e.collect():\n",
    "    if cuenta == 1:\n",
    "        ciudades_con_1_e.append(ciudad)\n",
    "\n",
    "print(\"Parte C:-----------------------------------------------------------------------------------------------------------------+\")\n",
    "print(\"Ciudades con una 'e':\", ciudades_con_1_e)\n",
    "print(\"+------------------------------------------------------------------------------------------------------------------------+\")\n",
    "\n",
    "# Parte D: Organizar ciudades\n",
    "ciudades_mal = [['Alicante.Elche','Valencia','Madrid.Barcelona','Bilbao.Sevilla'],['Murcia','San Sebastián','Melilla.Aspe']]\n",
    "\n",
    "ciudades_bien = []\n",
    "\n",
    "for sublista in ciudades_mal:\n",
    "    for ciudad in sublista:\n",
    "        ciudades_bien.extend(ciudad.split('.'))\n",
    "\n",
    "print(\"Parte D:-----------------------------------------------------------------------------------------------------------------+\")\n",
    "print(ciudades_bien)\n",
    "print(\"+------------------------------------------------------------------------------------------------------------------------+\")\n",
    "\n",
    "sc.stop()\n"
   ]
  },
  {
   "cell_type": "code",
   "execution_count": null,
   "id": "b54b9d44-5e64-4dab-8372-d29751ea87ab",
   "metadata": {},
   "outputs": [],
   "source": []
  }
 ],
 "metadata": {
  "kernelspec": {
   "display_name": "Python 3 (ipykernel)",
   "language": "python",
   "name": "python3"
  },
  "language_info": {
   "codemirror_mode": {
    "name": "ipython",
    "version": 3
   },
   "file_extension": ".py",
   "mimetype": "text/x-python",
   "name": "python",
   "nbconvert_exporter": "python",
   "pygments_lexer": "ipython3",
   "version": "3.11.6"
  }
 },
 "nbformat": 4,
 "nbformat_minor": 5
}
