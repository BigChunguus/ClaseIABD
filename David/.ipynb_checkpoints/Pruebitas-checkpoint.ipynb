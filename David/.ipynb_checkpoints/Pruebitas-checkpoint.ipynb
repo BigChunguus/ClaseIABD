{
 "cells": [
  {
   "cell_type": "code",
   "execution_count": 5,
   "id": "dab2e2f2-7519-4549-a000-7d112c52bffc",
   "metadata": {},
   "outputs": [
    {
     "name": "stdout",
     "output_type": "stream",
     "text": [
      "[1, 4, 9, 16, 25]\n",
      "Líneas que contienen 'spark': 102\n"
     ]
    }
   ],
   "source": [
    "# Importar módulos de PySpark\n",
    "from pyspark import SparkContext, SparkConf\n",
    "from pyspark.sql import SparkSession\n",
    "# Verificar si SparkContext ya existe y detenerlo si es necesario\n",
    "if 'sc' in globals():\n",
    " sc.stop()\n",
    "# Configurar SparkContext y SparkSession\n",
    "conf = SparkConf().setAppName(\"MyApp\").setMaster(\"local[*]\") # Utiliza todos los núcleos disponibles\n",
    "sc = SparkContext(conf=conf)\n",
    "spark = SparkSession.builder.config(conf=conf).getOrCreate()\n",
    "# Crear un RDD a partir de una colección\n",
    "data = [1, 2, 3, 4, 5]\n",
    "rdd = sc.parallelize(data)\n",
    "# Operaciones en el RDD\n",
    "squared_rdd = rdd.map(lambda x: x ** 2)\n",
    "print(squared_rdd.collect()) # [1, 4, 9, 16, 25]\n",
    "# Crear un RDD a partir de un archivo de texto\n",
    "text_rdd = sc.textFile(\"el_quijote.txt\")\n",
    "# Operación en el RDD: contar las líneas que contienen una palabra específica\n",
    "palabra_buscar = \"panza\"\n",
    "line_count = text_rdd.filter(lambda line: palabra_buscar in line.lower()).count()\n",
    "print(f\"Líneas que contienen '{palabra_buscar}': {line_count}\")\n"
   ]
  },
  {
   "cell_type": "code",
   "execution_count": null,
   "id": "73a2e4cc-aa1f-47b9-a3a9-99727f830e0d",
   "metadata": {},
   "outputs": [],
   "source": []
  }
 ],
 "metadata": {
  "kernelspec": {
   "display_name": "Python 3 (ipykernel)",
   "language": "python",
   "name": "python3"
  },
  "language_info": {
   "codemirror_mode": {
    "name": "ipython",
    "version": 3
   },
   "file_extension": ".py",
   "mimetype": "text/x-python",
   "name": "python",
   "nbconvert_exporter": "python",
   "pygments_lexer": "ipython3",
   "version": "3.11.6"
  }
 },
 "nbformat": 4,
 "nbformat_minor": 5
}
