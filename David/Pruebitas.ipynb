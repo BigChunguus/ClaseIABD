{
 "cells": [
  {
   "cell_type": "code",
   "execution_count": 7,
   "id": "dab2e2f2-7519-4549-a000-7d112c52bffc",
   "metadata": {},
   "outputs": [
    {
     "name": "stdout",
     "output_type": "stream",
     "text": [
      "[1, 4, 9, 16, 25]\n",
      "Líneas que contienen 'gigante': 46\n"
     ]
    },
    {
     "name": "stderr",
     "output_type": "stream",
     "text": [
      "----------------------------------------\n",
      "Exception occurred during processing of request from ('127.0.0.1', 33074)\n",
      "Traceback (most recent call last):\n",
      "  File \"/opt/conda/lib/python3.11/socketserver.py\", line 317, in _handle_request_noblock\n",
      "    self.process_request(request, client_address)\n",
      "  File \"/opt/conda/lib/python3.11/socketserver.py\", line 348, in process_request\n",
      "    self.finish_request(request, client_address)\n",
      "  File \"/opt/conda/lib/python3.11/socketserver.py\", line 361, in finish_request\n",
      "    self.RequestHandlerClass(request, client_address, self)\n",
      "  File \"/opt/conda/lib/python3.11/socketserver.py\", line 755, in __init__\n",
      "    self.handle()\n",
      "  File \"/usr/local/spark/python/pyspark/accumulators.py\", line 295, in handle\n",
      "    poll(accum_updates)\n",
      "  File \"/usr/local/spark/python/pyspark/accumulators.py\", line 267, in poll\n",
      "    if self.rfile in r and func():\n",
      "                           ^^^^^^\n",
      "  File \"/usr/local/spark/python/pyspark/accumulators.py\", line 271, in accum_updates\n",
      "    num_updates = read_int(self.rfile)\n",
      "                  ^^^^^^^^^^^^^^^^^^^^\n",
      "  File \"/usr/local/spark/python/pyspark/serializers.py\", line 596, in read_int\n",
      "    raise EOFError\n",
      "EOFError\n",
      "----------------------------------------\n"
     ]
    }
   ],
   "source": [
    "# Importar módulos de PySpark\n",
    "from pyspark import SparkContext, SparkConf\n",
    "from pyspark.sql import SparkSession\n",
    "# Verificar si SparkContext ya existe y detenerlo si es necesario\n",
    "if 'sc' in globals():\n",
    " sc.stop()\n",
    "# Configurar SparkContext y SparkSession\n",
    "conf = SparkConf().setAppName(\"MyApp\").setMaster(\"local[*]\") # Utiliza todos los núcleos disponibles\n",
    "sc = SparkContext(conf=conf)\n",
    "spark = SparkSession.builder.config(conf=conf).getOrCreate()\n",
    "# Crear un RDD a partir de una colección\n",
    "data = [1, 2, 3, 4, 5]\n",
    "rdd = sc.parallelize(data)\n",
    "# Operaciones en el RDD\n",
    "squared_rdd = rdd.map(lambda x: x ** 2)\n",
    "print(squared_rdd.collect()) # [1, 4, 9, 16, 25]\n",
    "# Crear un RDD a partir de un archivo de texto\n",
    "text_rdd = sc.textFile(\"el_quijote.txt\")\n",
    "# Operación en el RDD: contar las líneas que contienen una palabra específica\n",
    "palabra_buscar = \"gigante\"\n",
    "line_count = text_rdd.filter(lambda line: palabra_buscar in line.lower()).count()\n",
    "print(f\"Líneas que contienen '{palabra_buscar}': {line_count}\")\n"
   ]
  },
  {
   "cell_type": "code",
   "execution_count": 1,
   "id": "73a2e4cc-aa1f-47b9-a3a9-99727f830e0d",
   "metadata": {},
   "outputs": [
    {
     "name": "stdout",
     "output_type": "stream",
     "text": [
      "Found 14 items\n",
      "drwxr-xr-x   - 1000 users       4096 2024-11-08 15:58 .ipynb_checkpoints\n",
      "drwxrwxrwx   - root root        4096 2024-11-11 16:22 Hadoop_cluster_iabd12\n",
      "drwxrwxrwx   - root root        4096 2024-11-11 18:56 Hadoop_jupyter\n",
      "drwxrwxrwx   - root root        4096 2024-11-25 18:44 Jupyter_Hadoop\n",
      "drwxrwxrwx   - root root        4096 2024-11-22 16:05 MongoDB\n",
      "drwxrwxrwx   - root root        4096 2024-10-21 16:20 PitonVirtual\n",
      "drwxrwxrwx   - root root        4096 2024-11-25 19:04 Prueba_Jupyter_Hadoop\n",
      "-rw-r--r--   1 1000 users       4891 2024-11-11 19:26 Pruebitas.ipynb\n",
      "drwxrwxrwx   - root root        4096 2024-11-05 19:08 Spark\n",
      "-rw-r--r--   1 1000 users      10724 2024-11-08 17:08 TAREA 2-RDD.ipynb\n",
      "drwxrwxrwx   - root root        4096 2024-10-18 14:57 Tema_1\n",
      "drwxrwxrwx   - root root        4096 2024-10-18 15:10 Tema_2\n",
      "drwxrwxrwx   - root root        4096 2024-11-05 18:59 docker-spark-cluster-master\n",
      "-rwxrwxrwx   1 root root     1060259 2024-11-08 15:51 el_quijote.txt\n"
     ]
    }
   ],
   "source": [
    "!hdfs dfs -ls"
   ]
  },
  {
   "cell_type": "code",
   "execution_count": null,
   "id": "0ca38c06-9fb6-4c00-a7da-342119c6f20f",
   "metadata": {},
   "outputs": [],
   "source": []
  }
 ],
 "metadata": {
  "kernelspec": {
   "display_name": "Python 3 (ipykernel)",
   "language": "python",
   "name": "python3"
  },
  "language_info": {
   "codemirror_mode": {
    "name": "ipython",
    "version": 3
   },
   "file_extension": ".py",
   "mimetype": "text/x-python",
   "name": "python",
   "nbconvert_exporter": "python",
   "pygments_lexer": "ipython3",
   "version": "3.9.2"
  }
 },
 "nbformat": 4,
 "nbformat_minor": 5
}
