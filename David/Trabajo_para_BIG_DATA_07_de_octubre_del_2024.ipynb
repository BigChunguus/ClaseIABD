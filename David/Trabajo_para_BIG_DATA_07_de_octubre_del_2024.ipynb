{
  "cells": [
    {
      "cell_type": "markdown",
      "metadata": {
        "id": "7IyJeVUf9e73"
      },
      "source": [
        "# ¿Qué es Google Colab?\n",
        "\n",
        "Google Colab es una plataforma gratuita basada en la nube que permite escribir y ejecutar código en **Python** directamente desde el navegador. Algunas de sus características más importantes son:\n",
        "\n",
        "- **Notebooks colaborativos**: Similar a Jupyter Notebooks, combina código, texto, imágenes y gráficos en un único documento.\n",
        "- **Entorno en la nube**: No requiere instalación local, todo se ejecuta en servidores de Google.\n",
        "- **Acceso a GPUs/TPUs**: Ofrece poderosas GPUs/TPUs gratuitas.\n",
        "- **Integración con Google Drive**: Fácil acceso y almacenamiento de archivos.\n",
        "\n",
        "Es ideal para aprendizaje automático, ciencia de datos y más.\n"
      ]
    },
    {
      "cell_type": "markdown",
      "metadata": {
        "id": "Am2tS_X2_-8a"
      },
      "source": [
        "# Repositorios de Kaggle\n",
        "\n",
        "Estas celdas de código están destinadas a trabajar con repositorios de **Kaggle**. Kaggle es una plataforma popular que proporciona datasets, competiciones de ciencia de datos y herramientas para trabajar con **machine learning**. Con el acceso a repositorios de Kaggle, podemos descargar datasets directamente a Google Colab para trabajar en nuestros proyectos.\n",
        "\n",
        "Recuerda que necesitarás autenticar tu cuenta de Kaggle e importar tu clave API para poder acceder y descargar archivos de Kaggle en tu entorno de trabajo.\n"
      ]
    },
    {
      "cell_type": "code",
      "execution_count": null,
      "metadata": {
        "colab": {
          "background_save": true,
          "base_uri": "https://localhost:8080/"
        },
        "id": "BmFJJ7LZTHZg",
        "outputId": "683669de-43bf-497c-9f8c-5bf5a34982b0"
      },
      "outputs": [
        {
          "name": "stdout",
          "output_type": "stream",
          "text": [
            "Downloading airline-delay-and-cancellation-data-2009-2018, 2088672674 bytes compressed\n",
            "[==================================================] 2088672674 bytes downloaded\n",
            "Downloaded and uncompressed: airline-delay-and-cancellation-data-2009-2018\n",
            "Data source import complete.\n"
          ]
        }
      ],
      "source": [
        "\n",
        "# IMPORTANTE: EJECUTE ESTA CELDA PARA IMPORTAR TUS FUENTES DE DATOS DE KAGGLE\n",
        "# A LA UBICACIÓN CORRECTA (/kaggle/input) EN TU CUADERNO,\n",
        "# ENTONCES SIÉNTETE LIBRE DE ELIMINAR ESTA CELDA.\n",
        "# NOTA: ESTE ENTORNO DEL CUADERNO DIFERENCIA DEL PYTHON DE KAGGLE\n",
        "# ENTORNO POR LO QUE PUEDE FALTAR BIBLIOTECAS UTILIZADAS POR SU\n",
        "# COMPUTADORA PORTÁTIL.\n",
        "\n",
        "import os\n",
        "import sys\n",
        "from tempfile import NamedTemporaryFile\n",
        "from urllib.request import urlopen\n",
        "from urllib.parse import unquote, urlparse\n",
        "from urllib.error import HTTPError\n",
        "from zipfile import ZipFile\n",
        "import tarfile\n",
        "import shutil\n",
        "\n",
        "CHUNK_SIZE = 40960\n",
        "DATA_SOURCE_MAPPING = 'airline-delay-and-cancellation-data-2009-2018:https%3A%2F%2Fstorage.googleapis.com%2Fkaggle-data-sets%2F297485%2F609497%2Fbundle%2Farchive.zip%3FX-Goog-Algorithm%3DGOOG4-RSA-SHA256%26X-Goog-Credential%3Dgcp-kaggle-com%2540kaggle-161607.iam.gserviceaccount.com%252F20241006%252Fauto%252Fstorage%252Fgoog4_request%26X-Goog-Date%3D20241006T192646Z%26X-Goog-Expires%3D259200%26X-Goog-SignedHeaders%3Dhost%26X-Goog-Signature%3D9e98d618a0f8a2446ebda382b592778b72a574838010edb5a864626ecd32cfaacbba1b5fb33fc574b7677e71aafb428cf28a83beb01bb09bbb66fa915a0a4fa0b2c0df1abd950634588b2528aca22581944b7caa2fb0e96d9f6f74a249adc90bc35ec073ab30da2a080e1a951ba50801d9d1b05ebb63b24aade107636cb83d14e98a5dd5ea38c14459b6cea9eec24ad2cf74b8ff2d79d3a1f09a39fd9990d74c186edf158f84e1efe1be1746d496a083ccd231a8aa82ee0fb2829f0a586fe697d0721908ad47c58de9e9659b6ab64768f50ad1ea806f17a589355b91551c862a21594f1ad20ed9846e8997022ae9a05aa40a097b6002b88a4147371d70cb0a02'\n",
        "\n",
        "KAGGLE_INPUT_PATH='/kaggle/input'\n",
        "KAGGLE_WORKING_PATH='/kaggle/working'\n",
        "KAGGLE_SYMLINK='kaggle'\n",
        "\n",
        "!umount /kaggle/input/ 2> /dev/null\n",
        "shutil.rmtree('/kaggle/input', ignore_errors=True)\n",
        "os.makedirs(KAGGLE_INPUT_PATH, 0o777, exist_ok=True)\n",
        "os.makedirs(KAGGLE_WORKING_PATH, 0o777, exist_ok=True)\n",
        "\n",
        "try:\n",
        "  os.symlink(KAGGLE_INPUT_PATH, os.path.join(\"..\", 'input'), target_is_directory=True)\n",
        "except FileExistsError:\n",
        "  pass\n",
        "try:\n",
        "  os.symlink(KAGGLE_WORKING_PATH, os.path.join(\"..\", 'working'), target_is_directory=True)\n",
        "except FileExistsError:\n",
        "  pass\n",
        "\n",
        "for data_source_mapping in DATA_SOURCE_MAPPING.split(','):\n",
        "    directory, download_url_encoded = data_source_mapping.split(':')\n",
        "    download_url = unquote(download_url_encoded)\n",
        "    filename = urlparse(download_url).path\n",
        "    destination_path = os.path.join(KAGGLE_INPUT_PATH, directory)\n",
        "    try:\n",
        "        with urlopen(download_url) as fileres, NamedTemporaryFile() as tfile:\n",
        "            total_length = fileres.headers['content-length']\n",
        "            print(f'Downloading {directory}, {total_length} bytes compressed')\n",
        "            dl = 0\n",
        "            data = fileres.read(CHUNK_SIZE)\n",
        "            while len(data) > 0:\n",
        "                dl += len(data)\n",
        "                tfile.write(data)\n",
        "                done = int(50 * dl / int(total_length))\n",
        "                sys.stdout.write(f\"\\r[{'=' * done}{' ' * (50-done)}] {dl} bytes downloaded\")\n",
        "                sys.stdout.flush()\n",
        "                data = fileres.read(CHUNK_SIZE)\n",
        "            if filename.endswith('.zip'):\n",
        "              with ZipFile(tfile) as zfile:\n",
        "                zfile.extractall(destination_path)\n",
        "            else:\n",
        "              with tarfile.open(tfile.name) as tarfile:\n",
        "                tarfile.extractall(destination_path)\n",
        "            print(f'\\nDownloaded and uncompressed: {directory}')\n",
        "    except HTTPError as e:\n",
        "        print(f'Failed to load (likely expired) {download_url} to path {destination_path}')\n",
        "        continue\n",
        "    except OSError as e:\n",
        "        print(f'Failed to load {download_url} to path {destination_path}')\n",
        "        continue\n",
        "\n",
        "print('Data source import complete.')\n"
      ]
    },
    {
      "cell_type": "code",
      "execution_count": null,
      "metadata": {
        "colab": {
          "base_uri": "https://localhost:8080/"
        },
        "id": "oJV4sQEwTHZk",
        "outputId": "70ce1b75-4d04-442b-d3c6-8466feaaae6d"
      },
      "outputs": [
        {
          "name": "stdout",
          "output_type": "stream",
          "text": [
            "/kaggle/input/airline-delay-and-cancellation-data-2009-2018/2013.csv\n",
            "/kaggle/input/airline-delay-and-cancellation-data-2009-2018/2011.csv\n",
            "/kaggle/input/airline-delay-and-cancellation-data-2009-2018/2010.csv\n",
            "/kaggle/input/airline-delay-and-cancellation-data-2009-2018/2015.csv\n",
            "/kaggle/input/airline-delay-and-cancellation-data-2009-2018/2018.csv\n",
            "/kaggle/input/airline-delay-and-cancellation-data-2009-2018/2016.csv\n",
            "/kaggle/input/airline-delay-and-cancellation-data-2009-2018/2012.csv\n",
            "/kaggle/input/airline-delay-and-cancellation-data-2009-2018/2017.csv\n",
            "/kaggle/input/airline-delay-and-cancellation-data-2009-2018/2014.csv\n",
            "/kaggle/input/airline-delay-and-cancellation-data-2009-2018/2009.csv\n"
          ]
        }
      ],
      "source": [
        "# Este entorno Python 3 viene con muchas bibliotecas de análisis útiles instaladas\n",
        "# Está definido por la imagen de Docker de kaggle/python: https://github.com/kaggle/docker-python\n",
        "# Por ejemplo, aquí hay varios paquetes útiles para cargar\n",
        "\n",
        "import numpy as np # linear algebra\n",
        "import pandas as pd # data processing, CSV file I/O (e.g. pd.read_csv)\n",
        "\n",
        "# Los archivos de datos de entrada están disponibles en el directorio de solo lectura \"../input/\"\n",
        "# Por ejemplo, ejecutar esto (haciendo clic en ejecutar o presionando Shift+Enter) enumerará todos los archivos en el directorio de entrada\n",
        "\n",
        "import os\n",
        "for dirname, _, filenames in os.walk('/kaggle/input'):\n",
        "    for filename in filenames:\n",
        "        print(os.path.join(dirname, filename))\n",
        "\n",
        "# Puedes escribir hasta 20 GB en el directorio actual (/kaggle/working/) que se conserva como salida cuando creas una versión usando \"Guardar y ejecutar todo\"\n",
        "# También puedes escribir archivos temporales en /kaggle/temp/, pero no se guardarán fuera de la sesión actual"
      ]
    },
    {
      "cell_type": "markdown",
      "metadata": {
        "id": "a5FbWNf_THZn"
      },
      "source": [
        "# Especificación del archivo CSV\n",
        "\n",
        "En este paso, vamos a **especificar con qué archivo CSV** vamos a trabajar. Asegúrate de que el archivo esté disponible en tu entorno de trabajo y proporciona la ruta correcta hacia el archivo. Esto será crucial para poder leerlo y realizar la conversión al formato Parquet en los pasos siguientes."
      ]
    },
    {
      "cell_type": "markdown",
      "metadata": {
        "id": "vuZxv4rrvR2b"
      },
      "source": [
        "`import pandas as pd`\n",
        "\n",
        "Este comando en Python importa la biblioteca **Pandas**, que es utilizada para la manipulación y análisis de datos estructurados. Te permite trabajar con datos tabulares, leer y escribir archivos CSV, Excel, y más. Pandas es una herramienta esencial para la ciencia de datos y procesamiento de grandes volúmenes de información."
      ]
    },
    {
      "cell_type": "code",
      "execution_count": null,
      "metadata": {
        "id": "mqgEXLJCTHZp"
      },
      "outputs": [],
      "source": [
        "import pandas as pd"
      ]
    },
    {
      "cell_type": "markdown",
      "metadata": {
        "id": "bOkRjVuivfyz"
      },
      "source": [
        "`df = pd.read_csv('/kaggle/input/airline-delay-and-cancellation-data-2009-2018/2011.csv', sep=',')`\n",
        "\n",
        "Este comando carga un archivo CSV (en este caso, el archivo de datos de retrasos y cancelaciones de aerolíneas de 2011) en un DataFrame de Pandas. El archivo se encuentra en la ruta especificada, y el argumento `sep=','` indica que el separador de los datos en el archivo es una coma. El resultado es que los datos del CSV se organizan en columnas dentro de `df` para ser manipulados y analizados en Python.\n"
      ]
    },
    {
      "cell_type": "code",
      "execution_count": null,
      "metadata": {
        "colab": {
          "base_uri": "https://localhost:8080/",
          "height": 304
        },
        "id": "kV_7aVhITHZq",
        "outputId": "cbd815de-0cd8-4983-b009-28613c6d608f"
      },
      "outputs": [
        {
          "ename": "FileNotFoundError",
          "evalue": "[Errno 2] No such file or directory: '/kaggle/input/airline-delay-and-cancellation-data-2009-2018/2011.csv'",
          "output_type": "error",
          "traceback": [
            "\u001b[0;31m---------------------------------------------------------------------------\u001b[0m",
            "\u001b[0;31mFileNotFoundError\u001b[0m                         Traceback (most recent call last)",
            "\u001b[0;32m<ipython-input-3-51fbc5ca0f63>\u001b[0m in \u001b[0;36m<cell line: 1>\u001b[0;34m()\u001b[0m\n\u001b[0;32m----> 1\u001b[0;31m \u001b[0mdf\u001b[0m \u001b[0;34m=\u001b[0m \u001b[0mpd\u001b[0m\u001b[0;34m.\u001b[0m\u001b[0mread_csv\u001b[0m\u001b[0;34m(\u001b[0m\u001b[0;34m'/kaggle/input/airline-delay-and-cancellation-data-2009-2018/2011.csv'\u001b[0m\u001b[0;34m,\u001b[0m \u001b[0msep\u001b[0m\u001b[0;34m=\u001b[0m\u001b[0;34m','\u001b[0m\u001b[0;34m)\u001b[0m\u001b[0;34m\u001b[0m\u001b[0;34m\u001b[0m\u001b[0m\n\u001b[0m",
            "\u001b[0;32m/usr/local/lib/python3.10/dist-packages/pandas/io/parsers/readers.py\u001b[0m in \u001b[0;36mread_csv\u001b[0;34m(filepath_or_buffer, sep, delimiter, header, names, index_col, usecols, dtype, engine, converters, true_values, false_values, skipinitialspace, skiprows, skipfooter, nrows, na_values, keep_default_na, na_filter, verbose, skip_blank_lines, parse_dates, infer_datetime_format, keep_date_col, date_parser, date_format, dayfirst, cache_dates, iterator, chunksize, compression, thousands, decimal, lineterminator, quotechar, quoting, doublequote, escapechar, comment, encoding, encoding_errors, dialect, on_bad_lines, delim_whitespace, low_memory, memory_map, float_precision, storage_options, dtype_backend)\u001b[0m\n\u001b[1;32m   1024\u001b[0m     \u001b[0mkwds\u001b[0m\u001b[0;34m.\u001b[0m\u001b[0mupdate\u001b[0m\u001b[0;34m(\u001b[0m\u001b[0mkwds_defaults\u001b[0m\u001b[0;34m)\u001b[0m\u001b[0;34m\u001b[0m\u001b[0;34m\u001b[0m\u001b[0m\n\u001b[1;32m   1025\u001b[0m \u001b[0;34m\u001b[0m\u001b[0m\n\u001b[0;32m-> 1026\u001b[0;31m     \u001b[0;32mreturn\u001b[0m \u001b[0m_read\u001b[0m\u001b[0;34m(\u001b[0m\u001b[0mfilepath_or_buffer\u001b[0m\u001b[0;34m,\u001b[0m \u001b[0mkwds\u001b[0m\u001b[0;34m)\u001b[0m\u001b[0;34m\u001b[0m\u001b[0;34m\u001b[0m\u001b[0m\n\u001b[0m\u001b[1;32m   1027\u001b[0m \u001b[0;34m\u001b[0m\u001b[0m\n\u001b[1;32m   1028\u001b[0m \u001b[0;34m\u001b[0m\u001b[0m\n",
            "\u001b[0;32m/usr/local/lib/python3.10/dist-packages/pandas/io/parsers/readers.py\u001b[0m in \u001b[0;36m_read\u001b[0;34m(filepath_or_buffer, kwds)\u001b[0m\n\u001b[1;32m    618\u001b[0m \u001b[0;34m\u001b[0m\u001b[0m\n\u001b[1;32m    619\u001b[0m     \u001b[0;31m# Create the parser.\u001b[0m\u001b[0;34m\u001b[0m\u001b[0;34m\u001b[0m\u001b[0m\n\u001b[0;32m--> 620\u001b[0;31m     \u001b[0mparser\u001b[0m \u001b[0;34m=\u001b[0m \u001b[0mTextFileReader\u001b[0m\u001b[0;34m(\u001b[0m\u001b[0mfilepath_or_buffer\u001b[0m\u001b[0;34m,\u001b[0m \u001b[0;34m**\u001b[0m\u001b[0mkwds\u001b[0m\u001b[0;34m)\u001b[0m\u001b[0;34m\u001b[0m\u001b[0;34m\u001b[0m\u001b[0m\n\u001b[0m\u001b[1;32m    621\u001b[0m \u001b[0;34m\u001b[0m\u001b[0m\n\u001b[1;32m    622\u001b[0m     \u001b[0;32mif\u001b[0m \u001b[0mchunksize\u001b[0m \u001b[0;32mor\u001b[0m \u001b[0miterator\u001b[0m\u001b[0;34m:\u001b[0m\u001b[0;34m\u001b[0m\u001b[0;34m\u001b[0m\u001b[0m\n",
            "\u001b[0;32m/usr/local/lib/python3.10/dist-packages/pandas/io/parsers/readers.py\u001b[0m in \u001b[0;36m__init__\u001b[0;34m(self, f, engine, **kwds)\u001b[0m\n\u001b[1;32m   1618\u001b[0m \u001b[0;34m\u001b[0m\u001b[0m\n\u001b[1;32m   1619\u001b[0m         \u001b[0mself\u001b[0m\u001b[0;34m.\u001b[0m\u001b[0mhandles\u001b[0m\u001b[0;34m:\u001b[0m \u001b[0mIOHandles\u001b[0m \u001b[0;34m|\u001b[0m \u001b[0;32mNone\u001b[0m \u001b[0;34m=\u001b[0m \u001b[0;32mNone\u001b[0m\u001b[0;34m\u001b[0m\u001b[0;34m\u001b[0m\u001b[0m\n\u001b[0;32m-> 1620\u001b[0;31m         \u001b[0mself\u001b[0m\u001b[0;34m.\u001b[0m\u001b[0m_engine\u001b[0m \u001b[0;34m=\u001b[0m \u001b[0mself\u001b[0m\u001b[0;34m.\u001b[0m\u001b[0m_make_engine\u001b[0m\u001b[0;34m(\u001b[0m\u001b[0mf\u001b[0m\u001b[0;34m,\u001b[0m \u001b[0mself\u001b[0m\u001b[0;34m.\u001b[0m\u001b[0mengine\u001b[0m\u001b[0;34m)\u001b[0m\u001b[0;34m\u001b[0m\u001b[0;34m\u001b[0m\u001b[0m\n\u001b[0m\u001b[1;32m   1621\u001b[0m \u001b[0;34m\u001b[0m\u001b[0m\n\u001b[1;32m   1622\u001b[0m     \u001b[0;32mdef\u001b[0m \u001b[0mclose\u001b[0m\u001b[0;34m(\u001b[0m\u001b[0mself\u001b[0m\u001b[0;34m)\u001b[0m \u001b[0;34m->\u001b[0m \u001b[0;32mNone\u001b[0m\u001b[0;34m:\u001b[0m\u001b[0;34m\u001b[0m\u001b[0;34m\u001b[0m\u001b[0m\n",
            "\u001b[0;32m/usr/local/lib/python3.10/dist-packages/pandas/io/parsers/readers.py\u001b[0m in \u001b[0;36m_make_engine\u001b[0;34m(self, f, engine)\u001b[0m\n\u001b[1;32m   1878\u001b[0m                 \u001b[0;32mif\u001b[0m \u001b[0;34m\"b\"\u001b[0m \u001b[0;32mnot\u001b[0m \u001b[0;32min\u001b[0m \u001b[0mmode\u001b[0m\u001b[0;34m:\u001b[0m\u001b[0;34m\u001b[0m\u001b[0;34m\u001b[0m\u001b[0m\n\u001b[1;32m   1879\u001b[0m                     \u001b[0mmode\u001b[0m \u001b[0;34m+=\u001b[0m \u001b[0;34m\"b\"\u001b[0m\u001b[0;34m\u001b[0m\u001b[0;34m\u001b[0m\u001b[0m\n\u001b[0;32m-> 1880\u001b[0;31m             self.handles = get_handle(\n\u001b[0m\u001b[1;32m   1881\u001b[0m                 \u001b[0mf\u001b[0m\u001b[0;34m,\u001b[0m\u001b[0;34m\u001b[0m\u001b[0;34m\u001b[0m\u001b[0m\n\u001b[1;32m   1882\u001b[0m                 \u001b[0mmode\u001b[0m\u001b[0;34m,\u001b[0m\u001b[0;34m\u001b[0m\u001b[0;34m\u001b[0m\u001b[0m\n",
            "\u001b[0;32m/usr/local/lib/python3.10/dist-packages/pandas/io/common.py\u001b[0m in \u001b[0;36mget_handle\u001b[0;34m(path_or_buf, mode, encoding, compression, memory_map, is_text, errors, storage_options)\u001b[0m\n\u001b[1;32m    871\u001b[0m         \u001b[0;32mif\u001b[0m \u001b[0mioargs\u001b[0m\u001b[0;34m.\u001b[0m\u001b[0mencoding\u001b[0m \u001b[0;32mand\u001b[0m \u001b[0;34m\"b\"\u001b[0m \u001b[0;32mnot\u001b[0m \u001b[0;32min\u001b[0m \u001b[0mioargs\u001b[0m\u001b[0;34m.\u001b[0m\u001b[0mmode\u001b[0m\u001b[0;34m:\u001b[0m\u001b[0;34m\u001b[0m\u001b[0;34m\u001b[0m\u001b[0m\n\u001b[1;32m    872\u001b[0m             \u001b[0;31m# Encoding\u001b[0m\u001b[0;34m\u001b[0m\u001b[0;34m\u001b[0m\u001b[0m\n\u001b[0;32m--> 873\u001b[0;31m             handle = open(\n\u001b[0m\u001b[1;32m    874\u001b[0m                 \u001b[0mhandle\u001b[0m\u001b[0;34m,\u001b[0m\u001b[0;34m\u001b[0m\u001b[0;34m\u001b[0m\u001b[0m\n\u001b[1;32m    875\u001b[0m                 \u001b[0mioargs\u001b[0m\u001b[0;34m.\u001b[0m\u001b[0mmode\u001b[0m\u001b[0;34m,\u001b[0m\u001b[0;34m\u001b[0m\u001b[0;34m\u001b[0m\u001b[0m\n",
            "\u001b[0;31mFileNotFoundError\u001b[0m: [Errno 2] No such file or directory: '/kaggle/input/airline-delay-and-cancellation-data-2009-2018/2011.csv'"
          ]
        }
      ],
      "source": [
        "df = pd.read_csv('/kaggle/input/airline-delay-and-cancellation-data-2009-2018/2011.csv', sep=',')"
      ]
    },
    {
      "cell_type": "code",
      "execution_count": null,
      "metadata": {
        "colab": {
          "base_uri": "https://localhost:8080/",
          "height": 158
        },
        "id": "eNAdAj9vTHZr",
        "outputId": "816c6a7c-419c-4c62-8413-ef6a22205c5b"
      },
      "outputs": [
        {
          "ename": "NameError",
          "evalue": "name 'df' is not defined",
          "output_type": "error",
          "traceback": [
            "\u001b[0;31m---------------------------------------------------------------------------\u001b[0m",
            "\u001b[0;31mNameError\u001b[0m                                 Traceback (most recent call last)",
            "\u001b[0;32m<ipython-input-2-cb39dae93d19>\u001b[0m in \u001b[0;36m<cell line: 2>\u001b[0;34m()\u001b[0m\n\u001b[1;32m      1\u001b[0m \u001b[0;31m# Muestra las primeras filas para ver la estructura.\u001b[0m\u001b[0;34m\u001b[0m\u001b[0;34m\u001b[0m\u001b[0m\n\u001b[0;32m----> 2\u001b[0;31m \u001b[0mprint\u001b[0m\u001b[0;34m(\u001b[0m\u001b[0mdf\u001b[0m\u001b[0;34m.\u001b[0m\u001b[0mhead\u001b[0m\u001b[0;34m(\u001b[0m\u001b[0;34m)\u001b[0m\u001b[0;34m)\u001b[0m\u001b[0;34m\u001b[0m\u001b[0;34m\u001b[0m\u001b[0m\n\u001b[0m",
            "\u001b[0;31mNameError\u001b[0m: name 'df' is not defined"
          ]
        }
      ],
      "source": [
        "# Muestra las primeras filas para ver la estructura.\n",
        "print(df.head())"
      ]
    },
    {
      "cell_type": "code",
      "execution_count": null,
      "metadata": {
        "id": "QXOyOTWnTHZs",
        "outputId": "eb77e5f8-8980-45de-b3d0-3eb86bb75bcc"
      },
      "outputs": [
        {
          "name": "stdout",
          "output_type": "stream",
          "text": [
            "FL_DATE                 object\n",
            "OP_CARRIER              object\n",
            "OP_CARRIER_FL_NUM        int64\n",
            "ORIGIN                  object\n",
            "DEST                    object\n",
            "CRS_DEP_TIME             int64\n",
            "DEP_TIME               float64\n",
            "DEP_DELAY              float64\n",
            "TAXI_OUT               float64\n",
            "WHEELS_OFF             float64\n",
            "WHEELS_ON              float64\n",
            "TAXI_IN                float64\n",
            "CRS_ARR_TIME             int64\n",
            "ARR_TIME               float64\n",
            "ARR_DELAY              float64\n",
            "CANCELLED              float64\n",
            "CANCELLATION_CODE       object\n",
            "DIVERTED               float64\n",
            "CRS_ELAPSED_TIME       float64\n",
            "ACTUAL_ELAPSED_TIME    float64\n",
            "AIR_TIME               float64\n",
            "DISTANCE               float64\n",
            "CARRIER_DELAY          float64\n",
            "WEATHER_DELAY          float64\n",
            "NAS_DELAY              float64\n",
            "SECURITY_DELAY         float64\n",
            "LATE_AIRCRAFT_DELAY    float64\n",
            "Unnamed: 27            float64\n",
            "dtype: object\n"
          ]
        }
      ],
      "source": [
        "# Mostrar los nombres de las columnas y sus tipos de datos.\n",
        "print(df.dtypes)"
      ]
    },
    {
      "cell_type": "markdown",
      "metadata": {
        "id": "VzbuCBNQv1xt"
      },
      "source": [
        "`df_parquet= df.to_parquet('airline_data_2011.parquet', engine='pyarrow')`\n",
        "\n",
        "Este comando convierte el DataFrame `df`, que contiene los datos del archivo CSV previamente cargado, al formato Parquet y lo guarda en un archivo llamado `'airline_data_2011.parquet'`. El argumento `engine='pyarrow'` especifica que se utilizará el motor PyArrow para realizar la conversión. El formato Parquet es ideal para almacenar datos grandes de manera eficiente y comprimida, mejorando el rendimiento de las consultas posteriores.\n"
      ]
    },
    {
      "cell_type": "code",
      "execution_count": null,
      "metadata": {
        "id": "lCSsFCwRTHZt"
      },
      "outputs": [],
      "source": [
        "# Guardar el DataFrame como un Parquet file\n",
        "df_parquet= df.to_parquet('airline_data_2011.parquet', engine='pyarrow')"
      ]
    },
    {
      "cell_type": "code",
      "execution_count": null,
      "metadata": {
        "id": "uboel-nIwwEV"
      },
      "outputs": [],
      "source": []
    },
    {
      "cell_type": "markdown",
      "metadata": {
        "id": "8zZC1Pyvwzpe"
      },
      "source": [
        "Este bloque de código realiza varias funciones importantes agrupadas en las siguientes secciones:\n",
        "\n",
        "1. **Cálculo del tamaño del archivo**:\n",
        "   - Se utiliza `os.path.getsize` para obtener el tamaño del archivo Parquet en bytes.\n",
        "   - Luego, se convierte ese tamaño a kilobytes (KB), megabytes (MB) y gigabytes (GB) utilizando divisiones sucesivas por 1024.\n",
        "\n",
        "2. **Medición del tiempo de conversión**:\n",
        "   - Usando `time.time()`, se mide el tiempo que tarda en convertir el archivo CSV al formato Parquet.\n",
        "   - Se calcula la diferencia de tiempo entre el inicio y el final de la conversión, y se muestra el resultado en segundos.\n"
      ]
    },
    {
      "cell_type": "code",
      "execution_count": null,
      "metadata": {
        "id": "S5i9uuuxTHZu",
        "outputId": "2aa3cab2-a284-4b75-dfc0-145c3d2cca09"
      },
      "outputs": [
        {
          "name": "stdout",
          "output_type": "stream",
          "text": [
            "Tamaño del archivo: 137156857 bytes\n",
            "Tamaño del archivo: 133942.24 KB\n",
            "Tamaño del archivo: 130.80 MB\n",
            "Tamaño del archivo: 0.13 GB\n",
            "9.526705503463745\n",
            "El tiempo quye tarda en convertir a parquet nuestro csv es de: 9.53 segundos\n"
          ]
        }
      ],
      "source": [
        "# Para el tamaño de los archivos, puedes comprobarlo en el panel lateral derecho\n",
        "# de Kaggle dentro de Output, o utilizar el método os.path.getsize(ruta):\n",
        "import os\n",
        "# Obtén el tamaño del archivo en bytes\n",
        "size_in_bytes=os.path.getsize(\"airline_data_2011.parquet\")\n",
        "# Convertir a kilobytes, megabytes y gigabytes\n",
        "size_in_kb = size_in_bytes / 1024\n",
        "size_in_mb = size_in_kb / 1024\n",
        "size_in_gb = size_in_mb / 1024\n",
        "\n",
        "print(f\"Tamaño del archivo: {size_in_bytes} bytes\")\n",
        "print(f\"Tamaño del archivo: {size_in_kb:.2f} KB\")\n",
        "print(f\"Tamaño del archivo: {size_in_mb:.2f} MB\")\n",
        "print(f\"Tamaño del archivo: {size_in_gb:.2f} GB\")\n",
        "\n",
        "# Respecto al tiempo, por ejemplo puedes obtenerlo así:\n",
        "\n",
        "import time\n",
        "\n",
        "#El comando time.time() mide el tiempo en segundos desde el epoch\n",
        "# (que es el 1 de enero de 1970). Al restar el tiempo de inicio\n",
        "# (inicio = time.time()) del tiempo final (fin = time.time()),\n",
        "# obtienes el tiempo transcurrido en segundos.\n",
        "inicio = time.time()\n",
        "# operación a medir\n",
        "df_parquet= df.to_parquet('airline_data_2011.parquet', engine='pyarrow')\n",
        "fin = time.time()\n",
        "print(fin - inicio)\n",
        "print(f\"El tiempo quye tarda en convertir a parquet nuestro csv es de: {fin - inicio:.2f} segundos\")"
      ]
    },
    {
      "cell_type": "code",
      "execution_count": null,
      "metadata": {
        "id": "_Dlkv5KoTHZw"
      },
      "outputs": [],
      "source": [
        "# Leemos el archivo Parquet\n",
        "df_parquet = pd.read_parquet(\"airline_data_2011.parquet\")"
      ]
    },
    {
      "cell_type": "code",
      "execution_count": null,
      "metadata": {
        "id": "fmII2O0gTHZw",
        "outputId": "ef69992b-3789-4355-8878-1bd9eb37665d"
      },
      "outputs": [
        {
          "name": "stdout",
          "output_type": "stream",
          "text": [
            "Index(['FL_DATE', 'OP_CARRIER', 'OP_CARRIER_FL_NUM', 'ORIGIN', 'DEST',\n",
            "       'CRS_DEP_TIME', 'DEP_TIME', 'DEP_DELAY', 'TAXI_OUT', 'WHEELS_OFF',\n",
            "       'WHEELS_ON', 'TAXI_IN', 'CRS_ARR_TIME', 'ARR_TIME', 'ARR_DELAY',\n",
            "       'CANCELLED', 'CANCELLATION_CODE', 'DIVERTED', 'CRS_ELAPSED_TIME',\n",
            "       'ACTUAL_ELAPSED_TIME', 'AIR_TIME', 'DISTANCE', 'CARRIER_DELAY',\n",
            "       'WEATHER_DELAY', 'NAS_DELAY', 'SECURITY_DELAY', 'LATE_AIRCRAFT_DELAY',\n",
            "       'Unnamed: 27'],\n",
            "      dtype='object')\n"
          ]
        }
      ],
      "source": [
        "# Muestra las columnas del DataFrame\n",
        "print(df_parquet.columns)"
      ]
    },
    {
      "cell_type": "code",
      "execution_count": null,
      "metadata": {
        "id": "v9JgnRNCTHZy",
        "outputId": "4c28250e-3398-4c5e-983e-354959447428"
      },
      "outputs": [
        {
          "data": {
            "text/html": "<div>\n<style scoped>\n    .dataframe tbody tr th:only-of-type {\n        vertical-align: middle;\n    }\n\n    .dataframe tbody tr th {\n        vertical-align: top;\n    }\n\n    .dataframe thead th {\n        text-align: right;\n    }\n</style>\n<table border=\"1\" class=\"dataframe\">\n  <thead>\n    <tr style=\"text-align: right;\">\n      <th></th>\n      <th>FL_DATE</th>\n      <th>OP_CARRIER</th>\n      <th>OP_CARRIER_FL_NUM</th>\n      <th>ORIGIN</th>\n      <th>DEST</th>\n      <th>CRS_DEP_TIME</th>\n      <th>DEP_TIME</th>\n      <th>DEP_DELAY</th>\n      <th>TAXI_OUT</th>\n      <th>WHEELS_OFF</th>\n      <th>...</th>\n      <th>CRS_ELAPSED_TIME</th>\n      <th>ACTUAL_ELAPSED_TIME</th>\n      <th>AIR_TIME</th>\n      <th>DISTANCE</th>\n      <th>CARRIER_DELAY</th>\n      <th>WEATHER_DELAY</th>\n      <th>NAS_DELAY</th>\n      <th>SECURITY_DELAY</th>\n      <th>LATE_AIRCRAFT_DELAY</th>\n      <th>Unnamed: 27</th>\n    </tr>\n  </thead>\n  <tbody>\n    <tr>\n      <th>0</th>\n      <td>2011-01-01</td>\n      <td>MQ</td>\n      <td>4529</td>\n      <td>BOS</td>\n      <td>JFK</td>\n      <td>1830</td>\n      <td>1823.0</td>\n      <td>-7.0</td>\n      <td>68.0</td>\n      <td>1931.0</td>\n      <td>...</td>\n      <td>90.0</td>\n      <td>146.0</td>\n      <td>48.0</td>\n      <td>187.0</td>\n      <td>0.0</td>\n      <td>0.0</td>\n      <td>49.0</td>\n      <td>0.0</td>\n      <td>0.0</td>\n      <td>NaN</td>\n    </tr>\n    <tr>\n      <th>1</th>\n      <td>2011-01-01</td>\n      <td>MQ</td>\n      <td>4532</td>\n      <td>BNA</td>\n      <td>DCA</td>\n      <td>1100</td>\n      <td>1052.0</td>\n      <td>-8.0</td>\n      <td>11.0</td>\n      <td>1103.0</td>\n      <td>...</td>\n      <td>95.0</td>\n      <td>88.0</td>\n      <td>74.0</td>\n      <td>562.0</td>\n      <td>NaN</td>\n      <td>NaN</td>\n      <td>NaN</td>\n      <td>NaN</td>\n      <td>NaN</td>\n      <td>NaN</td>\n    </tr>\n    <tr>\n      <th>2</th>\n      <td>2011-01-01</td>\n      <td>MQ</td>\n      <td>4532</td>\n      <td>DCA</td>\n      <td>JFK</td>\n      <td>1400</td>\n      <td>1358.0</td>\n      <td>-2.0</td>\n      <td>9.0</td>\n      <td>1407.0</td>\n      <td>...</td>\n      <td>79.0</td>\n      <td>73.0</td>\n      <td>60.0</td>\n      <td>213.0</td>\n      <td>NaN</td>\n      <td>NaN</td>\n      <td>NaN</td>\n      <td>NaN</td>\n      <td>NaN</td>\n      <td>NaN</td>\n    </tr>\n    <tr>\n      <th>3</th>\n      <td>2011-01-01</td>\n      <td>MQ</td>\n      <td>4537</td>\n      <td>RDU</td>\n      <td>JFK</td>\n      <td>1710</td>\n      <td>1706.0</td>\n      <td>-4.0</td>\n      <td>59.0</td>\n      <td>1805.0</td>\n      <td>...</td>\n      <td>105.0</td>\n      <td>159.0</td>\n      <td>85.0</td>\n      <td>426.0</td>\n      <td>0.0</td>\n      <td>0.0</td>\n      <td>50.0</td>\n      <td>0.0</td>\n      <td>0.0</td>\n      <td>NaN</td>\n    </tr>\n    <tr>\n      <th>4</th>\n      <td>2011-01-01</td>\n      <td>MQ</td>\n      <td>4540</td>\n      <td>CMH</td>\n      <td>LGA</td>\n      <td>1340</td>\n      <td>1340.0</td>\n      <td>0.0</td>\n      <td>14.0</td>\n      <td>1354.0</td>\n      <td>...</td>\n      <td>105.0</td>\n      <td>95.0</td>\n      <td>77.0</td>\n      <td>478.0</td>\n      <td>NaN</td>\n      <td>NaN</td>\n      <td>NaN</td>\n      <td>NaN</td>\n      <td>NaN</td>\n      <td>NaN</td>\n    </tr>\n  </tbody>\n</table>\n<p>5 rows × 28 columns</p>\n</div>",
            "text/plain": "      FL_DATE OP_CARRIER  OP_CARRIER_FL_NUM ORIGIN DEST  CRS_DEP_TIME  \\\n0  2011-01-01         MQ               4529    BOS  JFK          1830   \n1  2011-01-01         MQ               4532    BNA  DCA          1100   \n2  2011-01-01         MQ               4532    DCA  JFK          1400   \n3  2011-01-01         MQ               4537    RDU  JFK          1710   \n4  2011-01-01         MQ               4540    CMH  LGA          1340   \n\n   DEP_TIME  DEP_DELAY  TAXI_OUT  WHEELS_OFF  ...  CRS_ELAPSED_TIME  \\\n0    1823.0       -7.0      68.0      1931.0  ...              90.0   \n1    1052.0       -8.0      11.0      1103.0  ...              95.0   \n2    1358.0       -2.0       9.0      1407.0  ...              79.0   \n3    1706.0       -4.0      59.0      1805.0  ...             105.0   \n4    1340.0        0.0      14.0      1354.0  ...             105.0   \n\n   ACTUAL_ELAPSED_TIME  AIR_TIME  DISTANCE  CARRIER_DELAY  WEATHER_DELAY  \\\n0                146.0      48.0     187.0            0.0            0.0   \n1                 88.0      74.0     562.0            NaN            NaN   \n2                 73.0      60.0     213.0            NaN            NaN   \n3                159.0      85.0     426.0            0.0            0.0   \n4                 95.0      77.0     478.0            NaN            NaN   \n\n  NAS_DELAY  SECURITY_DELAY  LATE_AIRCRAFT_DELAY  Unnamed: 27  \n0      49.0             0.0                  0.0          NaN  \n1       NaN             NaN                  NaN          NaN  \n2       NaN             NaN                  NaN          NaN  \n3      50.0             0.0                  0.0          NaN  \n4       NaN             NaN                  NaN          NaN  \n\n[5 rows x 28 columns]"
          },
          "execution_count": 13,
          "metadata": {},
          "output_type": "execute_result"
        }
      ],
      "source": [
        "# Visualizar las primeras filas del archivo Parquet\n",
        "# Esto nos permite ver las primeras 5 filas del DataFrame para tener una idea de cómo son los datos.\n",
        "df_parquet.head()"
      ]
    },
    {
      "cell_type": "code",
      "execution_count": null,
      "metadata": {
        "id": "7xfQu0jfTHZy"
      },
      "outputs": [],
      "source": [
        "# Filtrar los vuelos cancelados\n",
        "# Aquí filtramos aquellos vuelos que tienen el valor '1' en la columna 'CANCELLED', lo que significa que fueron cancelados.\n",
        "vuelos_cancelados = df_parquet[df_parquet['CANCELLED'] == 1]"
      ]
    },
    {
      "cell_type": "code",
      "execution_count": null,
      "metadata": {
        "id": "CZ-MRBbgTHZz",
        "outputId": "32aa084d-d651-4ce3-ba8c-552d34c6914e"
      },
      "outputs": [
        {
          "data": {
            "text/html": "<div>\n<style scoped>\n    .dataframe tbody tr th:only-of-type {\n        vertical-align: middle;\n    }\n\n    .dataframe tbody tr th {\n        vertical-align: top;\n    }\n\n    .dataframe thead th {\n        text-align: right;\n    }\n</style>\n<table border=\"1\" class=\"dataframe\">\n  <thead>\n    <tr style=\"text-align: right;\">\n      <th></th>\n      <th>FL_DATE</th>\n      <th>OP_CARRIER</th>\n      <th>OP_CARRIER_FL_NUM</th>\n      <th>ORIGIN</th>\n      <th>DEST</th>\n      <th>CRS_DEP_TIME</th>\n      <th>DEP_TIME</th>\n      <th>DEP_DELAY</th>\n      <th>TAXI_OUT</th>\n      <th>WHEELS_OFF</th>\n      <th>...</th>\n      <th>CRS_ELAPSED_TIME</th>\n      <th>ACTUAL_ELAPSED_TIME</th>\n      <th>AIR_TIME</th>\n      <th>DISTANCE</th>\n      <th>CARRIER_DELAY</th>\n      <th>WEATHER_DELAY</th>\n      <th>NAS_DELAY</th>\n      <th>SECURITY_DELAY</th>\n      <th>LATE_AIRCRAFT_DELAY</th>\n      <th>Unnamed: 27</th>\n    </tr>\n  </thead>\n  <tbody>\n    <tr>\n      <th>15</th>\n      <td>2011-01-01</td>\n      <td>MQ</td>\n      <td>4586</td>\n      <td>MSP</td>\n      <td>LGA</td>\n      <td>845</td>\n      <td>855.0</td>\n      <td>10.0</td>\n      <td>NaN</td>\n      <td>NaN</td>\n      <td>...</td>\n      <td>160.0</td>\n      <td>NaN</td>\n      <td>NaN</td>\n      <td>1020.0</td>\n      <td>NaN</td>\n      <td>NaN</td>\n      <td>NaN</td>\n      <td>NaN</td>\n      <td>NaN</td>\n      <td>NaN</td>\n    </tr>\n    <tr>\n      <th>30</th>\n      <td>2011-01-01</td>\n      <td>MQ</td>\n      <td>4649</td>\n      <td>LGA</td>\n      <td>MSP</td>\n      <td>1850</td>\n      <td>NaN</td>\n      <td>NaN</td>\n      <td>NaN</td>\n      <td>NaN</td>\n      <td>...</td>\n      <td>180.0</td>\n      <td>NaN</td>\n      <td>NaN</td>\n      <td>1020.0</td>\n      <td>NaN</td>\n      <td>NaN</td>\n      <td>NaN</td>\n      <td>NaN</td>\n      <td>NaN</td>\n      <td>NaN</td>\n    </tr>\n    <tr>\n      <th>33</th>\n      <td>2011-01-01</td>\n      <td>MQ</td>\n      <td>4654</td>\n      <td>LGA</td>\n      <td>ATL</td>\n      <td>945</td>\n      <td>NaN</td>\n      <td>NaN</td>\n      <td>NaN</td>\n      <td>NaN</td>\n      <td>...</td>\n      <td>165.0</td>\n      <td>NaN</td>\n      <td>NaN</td>\n      <td>761.0</td>\n      <td>NaN</td>\n      <td>NaN</td>\n      <td>NaN</td>\n      <td>NaN</td>\n      <td>NaN</td>\n      <td>NaN</td>\n    </tr>\n    <tr>\n      <th>36</th>\n      <td>2011-01-01</td>\n      <td>MQ</td>\n      <td>4657</td>\n      <td>ATL</td>\n      <td>LGA</td>\n      <td>1300</td>\n      <td>NaN</td>\n      <td>NaN</td>\n      <td>NaN</td>\n      <td>NaN</td>\n      <td>...</td>\n      <td>125.0</td>\n      <td>NaN</td>\n      <td>NaN</td>\n      <td>761.0</td>\n      <td>NaN</td>\n      <td>NaN</td>\n      <td>NaN</td>\n      <td>NaN</td>\n      <td>NaN</td>\n      <td>NaN</td>\n    </tr>\n    <tr>\n      <th>37</th>\n      <td>2011-01-01</td>\n      <td>MQ</td>\n      <td>4658</td>\n      <td>LGA</td>\n      <td>ATL</td>\n      <td>1215</td>\n      <td>NaN</td>\n      <td>NaN</td>\n      <td>NaN</td>\n      <td>NaN</td>\n      <td>...</td>\n      <td>155.0</td>\n      <td>NaN</td>\n      <td>NaN</td>\n      <td>761.0</td>\n      <td>NaN</td>\n      <td>NaN</td>\n      <td>NaN</td>\n      <td>NaN</td>\n      <td>NaN</td>\n      <td>NaN</td>\n    </tr>\n  </tbody>\n</table>\n<p>5 rows × 28 columns</p>\n</div>",
            "text/plain": "       FL_DATE OP_CARRIER  OP_CARRIER_FL_NUM ORIGIN DEST  CRS_DEP_TIME  \\\n15  2011-01-01         MQ               4586    MSP  LGA           845   \n30  2011-01-01         MQ               4649    LGA  MSP          1850   \n33  2011-01-01         MQ               4654    LGA  ATL           945   \n36  2011-01-01         MQ               4657    ATL  LGA          1300   \n37  2011-01-01         MQ               4658    LGA  ATL          1215   \n\n    DEP_TIME  DEP_DELAY  TAXI_OUT  WHEELS_OFF  ...  CRS_ELAPSED_TIME  \\\n15     855.0       10.0       NaN         NaN  ...             160.0   \n30       NaN        NaN       NaN         NaN  ...             180.0   \n33       NaN        NaN       NaN         NaN  ...             165.0   \n36       NaN        NaN       NaN         NaN  ...             125.0   \n37       NaN        NaN       NaN         NaN  ...             155.0   \n\n    ACTUAL_ELAPSED_TIME  AIR_TIME  DISTANCE  CARRIER_DELAY  WEATHER_DELAY  \\\n15                  NaN       NaN    1020.0            NaN            NaN   \n30                  NaN       NaN    1020.0            NaN            NaN   \n33                  NaN       NaN     761.0            NaN            NaN   \n36                  NaN       NaN     761.0            NaN            NaN   \n37                  NaN       NaN     761.0            NaN            NaN   \n\n   NAS_DELAY  SECURITY_DELAY  LATE_AIRCRAFT_DELAY  Unnamed: 27  \n15       NaN             NaN                  NaN          NaN  \n30       NaN             NaN                  NaN          NaN  \n33       NaN             NaN                  NaN          NaN  \n36       NaN             NaN                  NaN          NaN  \n37       NaN             NaN                  NaN          NaN  \n\n[5 rows x 28 columns]"
          },
          "execution_count": 16,
          "metadata": {},
          "output_type": "execute_result"
        }
      ],
      "source": [
        "# Mostramos las primeras filas de los vuelos cancelados\n",
        "vuelos_cancelados.head()"
      ]
    },
    {
      "cell_type": "code",
      "execution_count": null,
      "metadata": {
        "id": "3RZHnLI2THZz",
        "outputId": "9c73727a-a494-414d-c3c2-f1cbdfe61b62"
      },
      "outputs": [
        {
          "name": "stdout",
          "output_type": "stream",
          "text": [
            "El promedio de retraso en llegada es: 4.767228922157403 minutos\n"
          ]
        }
      ],
      "source": [
        "# Calcular el promedio de los retrasos en la llegada\n",
        "# Calculamos la media de los valores en la columna 'ARR_DELAY', que almacena los minutos de retraso en la llegada de los vuelos.\n",
        "promedio_retraso_llegada = df_parquet['ARR_DELAY'].mean()\n",
        "print(f\"El promedio de retraso en llegada es: {promedio_retraso_llegada} minutos\")"
      ]
    },
    {
      "cell_type": "code",
      "execution_count": null,
      "metadata": {
        "id": "gb0VvMZCTHZ0"
      },
      "outputs": [],
      "source": [
        "# Contar el número de vuelos por aeropuerto de origen\n",
        "# Esto cuenta cuántos vuelos se realizaron desde cada aeropuerto ('ORIGIN').\n",
        "vuelos_por_origen = df_parquet['ORIGIN'].value_counts()"
      ]
    },
    {
      "cell_type": "code",
      "execution_count": null,
      "metadata": {
        "id": "5eHKibrjTHZ0",
        "outputId": "bd6bd38d-8ded-4cc3-ec48-d8bb8871a2b3"
      },
      "outputs": [
        {
          "name": "stdout",
          "output_type": "stream",
          "text": [
            "ORIGIN\n",
            "ATL    391957\n",
            "ORD    312754\n",
            "DFW    259598\n",
            "DEN    240393\n",
            "LAX    210066\n",
            "        ...  \n",
            "SPN         3\n",
            "BGM         3\n",
            "FLO         2\n",
            "SCE         1\n",
            "TUP         1\n",
            "Name: count, Length: 299, dtype: int64\n"
          ]
        }
      ],
      "source": [
        "# Mostramos el número de vuelos por cada origen\n",
        "print(vuelos_por_origen)"
      ]
    },
    {
      "cell_type": "code",
      "execution_count": null,
      "metadata": {
        "id": "hzabs_qKTHZ1",
        "outputId": "dd2167fe-6cc5-4290-8a66-3996574490b6"
      },
      "outputs": [
        {
          "data": {
            "text/html": "<div>\n<style scoped>\n    .dataframe tbody tr th:only-of-type {\n        vertical-align: middle;\n    }\n\n    .dataframe tbody tr th {\n        vertical-align: top;\n    }\n\n    .dataframe thead th {\n        text-align: right;\n    }\n</style>\n<table border=\"1\" class=\"dataframe\">\n  <thead>\n    <tr style=\"text-align: right;\">\n      <th></th>\n      <th>OP_CARRIER_FL_NUM</th>\n      <th>CRS_DEP_TIME</th>\n      <th>DEP_TIME</th>\n      <th>DEP_DELAY</th>\n      <th>TAXI_OUT</th>\n      <th>WHEELS_OFF</th>\n      <th>WHEELS_ON</th>\n      <th>TAXI_IN</th>\n      <th>CRS_ARR_TIME</th>\n      <th>ARR_TIME</th>\n      <th>...</th>\n      <th>CRS_ELAPSED_TIME</th>\n      <th>ACTUAL_ELAPSED_TIME</th>\n      <th>AIR_TIME</th>\n      <th>DISTANCE</th>\n      <th>CARRIER_DELAY</th>\n      <th>WEATHER_DELAY</th>\n      <th>NAS_DELAY</th>\n      <th>SECURITY_DELAY</th>\n      <th>LATE_AIRCRAFT_DELAY</th>\n      <th>Unnamed: 27</th>\n    </tr>\n  </thead>\n  <tbody>\n    <tr>\n      <th>count</th>\n      <td>6.066650e+06</td>\n      <td>6.066650e+06</td>\n      <td>5.954951e+06</td>\n      <td>5.954951e+06</td>\n      <td>5.951756e+06</td>\n      <td>5.951756e+06</td>\n      <td>5.948090e+06</td>\n      <td>5.948090e+06</td>\n      <td>6.066650e+06</td>\n      <td>5.948090e+06</td>\n      <td>...</td>\n      <td>6.066648e+06</td>\n      <td>5.936210e+06</td>\n      <td>5.936210e+06</td>\n      <td>6.066650e+06</td>\n      <td>1.110531e+06</td>\n      <td>1.110531e+06</td>\n      <td>1.110531e+06</td>\n      <td>1.110531e+06</td>\n      <td>1.110531e+06</td>\n      <td>0.0</td>\n    </tr>\n    <tr>\n      <th>mean</th>\n      <td>2.240183e+03</td>\n      <td>1.328833e+03</td>\n      <td>1.335503e+03</td>\n      <td>8.463396e+00</td>\n      <td>1.530516e+01</td>\n      <td>1.357759e+03</td>\n      <td>1.480035e+03</td>\n      <td>6.737048e+00</td>\n      <td>1.501225e+03</td>\n      <td>1.485507e+03</td>\n      <td>...</td>\n      <td>1.327230e+02</td>\n      <td>1.293236e+02</td>\n      <td>1.072925e+02</td>\n      <td>7.629165e+02</td>\n      <td>1.671900e+01</td>\n      <td>2.335391e+00</td>\n      <td>1.379727e+01</td>\n      <td>7.781503e-02</td>\n      <td>2.257169e+01</td>\n      <td>NaN</td>\n    </tr>\n    <tr>\n      <th>std</th>\n      <td>1.934743e+03</td>\n      <td>4.685817e+02</td>\n      <td>4.805952e+02</td>\n      <td>3.300183e+01</td>\n      <td>9.092148e+00</td>\n      <td>4.817808e+02</td>\n      <td>5.029620e+02</td>\n      <td>4.756833e+00</td>\n      <td>4.861494e+02</td>\n      <td>5.064156e+02</td>\n      <td>...</td>\n      <td>7.075686e+01</td>\n      <td>7.053071e+01</td>\n      <td>6.838944e+01</td>\n      <td>5.723395e+02</td>\n      <td>4.121051e+01</td>\n      <td>1.735261e+01</td>\n      <td>2.645281e+01</td>\n      <td>2.008697e+00</td>\n      <td>3.988606e+01</td>\n      <td>NaN</td>\n    </tr>\n    <tr>\n      <th>min</th>\n      <td>0.000000e+00</td>\n      <td>1.000000e+00</td>\n      <td>1.000000e+00</td>\n      <td>-1.440000e+02</td>\n      <td>1.000000e+00</td>\n      <td>1.000000e+00</td>\n      <td>1.000000e+00</td>\n      <td>1.000000e+00</td>\n      <td>1.000000e+00</td>\n      <td>1.000000e+00</td>\n      <td>...</td>\n      <td>1.300000e+01</td>\n      <td>1.400000e+01</td>\n      <td>7.000000e+00</td>\n      <td>3.100000e+01</td>\n      <td>0.000000e+00</td>\n      <td>0.000000e+00</td>\n      <td>0.000000e+00</td>\n      <td>0.000000e+00</td>\n      <td>0.000000e+00</td>\n      <td>NaN</td>\n    </tr>\n    <tr>\n      <th>25%</th>\n      <td>6.870000e+02</td>\n      <td>9.280000e+02</td>\n      <td>9.290000e+02</td>\n      <td>-5.000000e+00</td>\n      <td>1.000000e+01</td>\n      <td>9.430000e+02</td>\n      <td>1.105000e+03</td>\n      <td>4.000000e+00</td>\n      <td>1.118000e+03</td>\n      <td>1.109000e+03</td>\n      <td>...</td>\n      <td>8.100000e+01</td>\n      <td>7.800000e+01</td>\n      <td>5.800000e+01</td>\n      <td>3.420000e+02</td>\n      <td>0.000000e+00</td>\n      <td>0.000000e+00</td>\n      <td>0.000000e+00</td>\n      <td>0.000000e+00</td>\n      <td>0.000000e+00</td>\n      <td>NaN</td>\n    </tr>\n    <tr>\n      <th>50%</th>\n      <td>1.614000e+03</td>\n      <td>1.320000e+03</td>\n      <td>1.328000e+03</td>\n      <td>-1.000000e+00</td>\n      <td>1.300000e+01</td>\n      <td>1.340000e+03</td>\n      <td>1.512000e+03</td>\n      <td>5.000000e+00</td>\n      <td>1.523000e+03</td>\n      <td>1.516000e+03</td>\n      <td>...</td>\n      <td>1.150000e+02</td>\n      <td>1.120000e+02</td>\n      <td>8.900000e+01</td>\n      <td>6.040000e+02</td>\n      <td>0.000000e+00</td>\n      <td>0.000000e+00</td>\n      <td>3.000000e+00</td>\n      <td>0.000000e+00</td>\n      <td>3.000000e+00</td>\n      <td>NaN</td>\n    </tr>\n    <tr>\n      <th>75%</th>\n      <td>3.339000e+03</td>\n      <td>1.724000e+03</td>\n      <td>1.732000e+03</td>\n      <td>7.000000e+00</td>\n      <td>1.800000e+01</td>\n      <td>1.746000e+03</td>\n      <td>1.906000e+03</td>\n      <td>8.000000e+00</td>\n      <td>1.912000e+03</td>\n      <td>1.911000e+03</td>\n      <td>...</td>\n      <td>1.630000e+02</td>\n      <td>1.590000e+02</td>\n      <td>1.360000e+02</td>\n      <td>9.910000e+02</td>\n      <td>1.700000e+01</td>\n      <td>0.000000e+00</td>\n      <td>1.800000e+01</td>\n      <td>0.000000e+00</td>\n      <td>2.900000e+01</td>\n      <td>NaN</td>\n    </tr>\n    <tr>\n      <th>max</th>\n      <td>8.994000e+03</td>\n      <td>2.359000e+03</td>\n      <td>2.400000e+03</td>\n      <td>1.638000e+03</td>\n      <td>1.850000e+02</td>\n      <td>2.400000e+03</td>\n      <td>2.400000e+03</td>\n      <td>2.380000e+02</td>\n      <td>2.400000e+03</td>\n      <td>2.400000e+03</td>\n      <td>...</td>\n      <td>6.650000e+02</td>\n      <td>7.110000e+02</td>\n      <td>6.800000e+02</td>\n      <td>4.963000e+03</td>\n      <td>1.638000e+03</td>\n      <td>1.200000e+03</td>\n      <td>9.760000e+02</td>\n      <td>3.820000e+02</td>\n      <td>1.374000e+03</td>\n      <td>NaN</td>\n    </tr>\n  </tbody>\n</table>\n<p>8 rows × 23 columns</p>\n</div>",
            "text/plain": "       OP_CARRIER_FL_NUM  CRS_DEP_TIME      DEP_TIME     DEP_DELAY  \\\ncount       6.066650e+06  6.066650e+06  5.954951e+06  5.954951e+06   \nmean        2.240183e+03  1.328833e+03  1.335503e+03  8.463396e+00   \nstd         1.934743e+03  4.685817e+02  4.805952e+02  3.300183e+01   \nmin         0.000000e+00  1.000000e+00  1.000000e+00 -1.440000e+02   \n25%         6.870000e+02  9.280000e+02  9.290000e+02 -5.000000e+00   \n50%         1.614000e+03  1.320000e+03  1.328000e+03 -1.000000e+00   \n75%         3.339000e+03  1.724000e+03  1.732000e+03  7.000000e+00   \nmax         8.994000e+03  2.359000e+03  2.400000e+03  1.638000e+03   \n\n           TAXI_OUT    WHEELS_OFF     WHEELS_ON       TAXI_IN  CRS_ARR_TIME  \\\ncount  5.951756e+06  5.951756e+06  5.948090e+06  5.948090e+06  6.066650e+06   \nmean   1.530516e+01  1.357759e+03  1.480035e+03  6.737048e+00  1.501225e+03   \nstd    9.092148e+00  4.817808e+02  5.029620e+02  4.756833e+00  4.861494e+02   \nmin    1.000000e+00  1.000000e+00  1.000000e+00  1.000000e+00  1.000000e+00   \n25%    1.000000e+01  9.430000e+02  1.105000e+03  4.000000e+00  1.118000e+03   \n50%    1.300000e+01  1.340000e+03  1.512000e+03  5.000000e+00  1.523000e+03   \n75%    1.800000e+01  1.746000e+03  1.906000e+03  8.000000e+00  1.912000e+03   \nmax    1.850000e+02  2.400000e+03  2.400000e+03  2.380000e+02  2.400000e+03   \n\n           ARR_TIME  ...  CRS_ELAPSED_TIME  ACTUAL_ELAPSED_TIME      AIR_TIME  \\\ncount  5.948090e+06  ...      6.066648e+06         5.936210e+06  5.936210e+06   \nmean   1.485507e+03  ...      1.327230e+02         1.293236e+02  1.072925e+02   \nstd    5.064156e+02  ...      7.075686e+01         7.053071e+01  6.838944e+01   \nmin    1.000000e+00  ...      1.300000e+01         1.400000e+01  7.000000e+00   \n25%    1.109000e+03  ...      8.100000e+01         7.800000e+01  5.800000e+01   \n50%    1.516000e+03  ...      1.150000e+02         1.120000e+02  8.900000e+01   \n75%    1.911000e+03  ...      1.630000e+02         1.590000e+02  1.360000e+02   \nmax    2.400000e+03  ...      6.650000e+02         7.110000e+02  6.800000e+02   \n\n           DISTANCE  CARRIER_DELAY  WEATHER_DELAY     NAS_DELAY  \\\ncount  6.066650e+06   1.110531e+06   1.110531e+06  1.110531e+06   \nmean   7.629165e+02   1.671900e+01   2.335391e+00  1.379727e+01   \nstd    5.723395e+02   4.121051e+01   1.735261e+01  2.645281e+01   \nmin    3.100000e+01   0.000000e+00   0.000000e+00  0.000000e+00   \n25%    3.420000e+02   0.000000e+00   0.000000e+00  0.000000e+00   \n50%    6.040000e+02   0.000000e+00   0.000000e+00  3.000000e+00   \n75%    9.910000e+02   1.700000e+01   0.000000e+00  1.800000e+01   \nmax    4.963000e+03   1.638000e+03   1.200000e+03  9.760000e+02   \n\n       SECURITY_DELAY  LATE_AIRCRAFT_DELAY  Unnamed: 27  \ncount    1.110531e+06         1.110531e+06          0.0  \nmean     7.781503e-02         2.257169e+01          NaN  \nstd      2.008697e+00         3.988606e+01          NaN  \nmin      0.000000e+00         0.000000e+00          NaN  \n25%      0.000000e+00         0.000000e+00          NaN  \n50%      0.000000e+00         3.000000e+00          NaN  \n75%      0.000000e+00         2.900000e+01          NaN  \nmax      3.820000e+02         1.374000e+03          NaN  \n\n[8 rows x 23 columns]"
          },
          "execution_count": 22,
          "metadata": {},
          "output_type": "execute_result"
        }
      ],
      "source": [
        "# Obtener estadísticas generales del DataFrame\n",
        "# Esta función muestra estadísticas descriptivas como el promedio, la desviación estándar, el valor mínimo y máximo, etc., de las columnas numéricas del DataFrame.\n",
        "df_parquet.describe()"
      ]
    },
    {
      "cell_type": "code",
      "execution_count": null,
      "metadata": {
        "id": "ru3_TtStTHZ1",
        "outputId": "23bdeaee-bf11-4928-810d-c0ba3608f2cf"
      },
      "outputs": [
        {
          "name": "stdout",
          "output_type": "stream",
          "text": [
            "ORIGIN\n",
            "ABE     5.985197\n",
            "ABI     3.939558\n",
            "ABQ     2.778944\n",
            "ABY    13.732785\n",
            "ACK    20.190244\n",
            "         ...    \n",
            "WRG    -1.235209\n",
            "WYS   -12.732342\n",
            "XNA     7.586471\n",
            "YAK    -7.182997\n",
            "YUM     0.101273\n",
            "Name: ARR_DELAY, Length: 299, dtype: float64\n"
          ]
        }
      ],
      "source": [
        "# Agrupar los datos por origen y calcular el retraso promedio para cada aeropuerto de origen\n",
        "# Agrupamos por la columna 'ORIGIN' y calculamos el promedio de la columna 'ARR_DELAY' para cada aeropuerto.\n",
        "promedio_retraso_por_origen = df_parquet.groupby('ORIGIN')['ARR_DELAY'].mean()\n",
        "print(promedio_retraso_por_origen)"
      ]
    },
    {
      "cell_type": "code",
      "execution_count": null,
      "metadata": {
        "id": "3nEPjR6hTHZ2",
        "outputId": "364ac733-366a-4ce1-8b8d-d8f7051ebac5"
      },
      "outputs": [
        {
          "data": {
            "text/html": "<div>\n<style scoped>\n    .dataframe tbody tr th:only-of-type {\n        vertical-align: middle;\n    }\n\n    .dataframe tbody tr th {\n        vertical-align: top;\n    }\n\n    .dataframe thead th {\n        text-align: right;\n    }\n</style>\n<table border=\"1\" class=\"dataframe\">\n  <thead>\n    <tr style=\"text-align: right;\">\n      <th></th>\n      <th>FL_DATE</th>\n      <th>OP_CARRIER</th>\n      <th>OP_CARRIER_FL_NUM</th>\n      <th>ORIGIN</th>\n      <th>DEST</th>\n      <th>CRS_DEP_TIME</th>\n      <th>DEP_TIME</th>\n      <th>DEP_DELAY</th>\n      <th>TAXI_OUT</th>\n      <th>WHEELS_OFF</th>\n      <th>...</th>\n      <th>CRS_ELAPSED_TIME</th>\n      <th>ACTUAL_ELAPSED_TIME</th>\n      <th>AIR_TIME</th>\n      <th>DISTANCE</th>\n      <th>CARRIER_DELAY</th>\n      <th>WEATHER_DELAY</th>\n      <th>NAS_DELAY</th>\n      <th>SECURITY_DELAY</th>\n      <th>LATE_AIRCRAFT_DELAY</th>\n      <th>Unnamed: 27</th>\n    </tr>\n  </thead>\n  <tbody>\n    <tr>\n      <th>45</th>\n      <td>2011-01-01</td>\n      <td>MQ</td>\n      <td>4671</td>\n      <td>ATL</td>\n      <td>LGA</td>\n      <td>1900</td>\n      <td>2213.0</td>\n      <td>193.0</td>\n      <td>21.0</td>\n      <td>2234.0</td>\n      <td>...</td>\n      <td>145.0</td>\n      <td>118.0</td>\n      <td>93.0</td>\n      <td>761.0</td>\n      <td>166.0</td>\n      <td>0.0</td>\n      <td>0.0</td>\n      <td>0.0</td>\n      <td>0.0</td>\n      <td>NaN</td>\n    </tr>\n    <tr>\n      <th>59</th>\n      <td>2011-01-01</td>\n      <td>OO</td>\n      <td>4439</td>\n      <td>MSP</td>\n      <td>MOT</td>\n      <td>1715</td>\n      <td>1943.0</td>\n      <td>148.0</td>\n      <td>9.0</td>\n      <td>1952.0</td>\n      <td>...</td>\n      <td>95.0</td>\n      <td>81.0</td>\n      <td>68.0</td>\n      <td>449.0</td>\n      <td>6.0</td>\n      <td>0.0</td>\n      <td>0.0</td>\n      <td>0.0</td>\n      <td>128.0</td>\n      <td>NaN</td>\n    </tr>\n    <tr>\n      <th>87</th>\n      <td>2011-01-01</td>\n      <td>OO</td>\n      <td>6471</td>\n      <td>BFL</td>\n      <td>SFO</td>\n      <td>1701</td>\n      <td>1831.0</td>\n      <td>90.0</td>\n      <td>12.0</td>\n      <td>1843.0</td>\n      <td>...</td>\n      <td>76.0</td>\n      <td>90.0</td>\n      <td>71.0</td>\n      <td>238.0</td>\n      <td>0.0</td>\n      <td>0.0</td>\n      <td>14.0</td>\n      <td>0.0</td>\n      <td>90.0</td>\n      <td>NaN</td>\n    </tr>\n    <tr>\n      <th>88</th>\n      <td>2011-01-01</td>\n      <td>OO</td>\n      <td>6471</td>\n      <td>SFO</td>\n      <td>BFL</td>\n      <td>1512</td>\n      <td>1702.0</td>\n      <td>110.0</td>\n      <td>13.0</td>\n      <td>1715.0</td>\n      <td>...</td>\n      <td>74.0</td>\n      <td>67.0</td>\n      <td>49.0</td>\n      <td>238.0</td>\n      <td>54.0</td>\n      <td>0.0</td>\n      <td>0.0</td>\n      <td>0.0</td>\n      <td>49.0</td>\n      <td>NaN</td>\n    </tr>\n    <tr>\n      <th>97</th>\n      <td>2011-01-01</td>\n      <td>OO</td>\n      <td>6428</td>\n      <td>BOI</td>\n      <td>LAX</td>\n      <td>1116</td>\n      <td>1228.0</td>\n      <td>72.0</td>\n      <td>13.0</td>\n      <td>1241.0</td>\n      <td>...</td>\n      <td>127.0</td>\n      <td>116.0</td>\n      <td>96.0</td>\n      <td>674.0</td>\n      <td>0.0</td>\n      <td>0.0</td>\n      <td>0.0</td>\n      <td>0.0</td>\n      <td>61.0</td>\n      <td>NaN</td>\n    </tr>\n  </tbody>\n</table>\n<p>5 rows × 28 columns</p>\n</div>",
            "text/plain": "       FL_DATE OP_CARRIER  OP_CARRIER_FL_NUM ORIGIN DEST  CRS_DEP_TIME  \\\n45  2011-01-01         MQ               4671    ATL  LGA          1900   \n59  2011-01-01         OO               4439    MSP  MOT          1715   \n87  2011-01-01         OO               6471    BFL  SFO          1701   \n88  2011-01-01         OO               6471    SFO  BFL          1512   \n97  2011-01-01         OO               6428    BOI  LAX          1116   \n\n    DEP_TIME  DEP_DELAY  TAXI_OUT  WHEELS_OFF  ...  CRS_ELAPSED_TIME  \\\n45    2213.0      193.0      21.0      2234.0  ...             145.0   \n59    1943.0      148.0       9.0      1952.0  ...              95.0   \n87    1831.0       90.0      12.0      1843.0  ...              76.0   \n88    1702.0      110.0      13.0      1715.0  ...              74.0   \n97    1228.0       72.0      13.0      1241.0  ...             127.0   \n\n    ACTUAL_ELAPSED_TIME  AIR_TIME  DISTANCE  CARRIER_DELAY  WEATHER_DELAY  \\\n45                118.0      93.0     761.0          166.0            0.0   \n59                 81.0      68.0     449.0            6.0            0.0   \n87                 90.0      71.0     238.0            0.0            0.0   \n88                 67.0      49.0     238.0           54.0            0.0   \n97                116.0      96.0     674.0            0.0            0.0   \n\n   NAS_DELAY  SECURITY_DELAY  LATE_AIRCRAFT_DELAY  Unnamed: 27  \n45       0.0             0.0                  0.0          NaN  \n59       0.0             0.0                128.0          NaN  \n87      14.0             0.0                 90.0          NaN  \n88       0.0             0.0                 49.0          NaN  \n97       0.0             0.0                 61.0          NaN  \n\n[5 rows x 28 columns]"
          },
          "execution_count": 24,
          "metadata": {},
          "output_type": "execute_result"
        }
      ],
      "source": [
        "# Filtrar los vuelos con retrasos mayores a 60 minutos\n",
        "# Filtramos los vuelos cuya columna 'ARR_DELAY' tenga valores mayores a 60, indicando que tuvieron más de una hora de retraso.\n",
        "vuelos_retrasados = df_parquet[df_parquet['ARR_DELAY'] > 60]\n",
        "vuelos_retrasados.head()"
      ]
    },
    {
      "cell_type": "code",
      "execution_count": null,
      "metadata": {
        "id": "Q9Oc4hDGTHZ3",
        "outputId": "887ce5e6-c366-46a0-de44-877f8d99a949"
      },
      "outputs": [
        {
          "name": "stdout",
          "output_type": "stream",
          "text": [
            "OP_CARRIER\n",
            "WN    1153939\n",
            "DL     729477\n",
            "OO     585142\n",
            "AA     536689\n",
            "MQ     447275\n",
            "XE     411427\n",
            "US     408151\n",
            "EV     326858\n",
            "UA     309898\n",
            "FL     247982\n",
            "CO     244781\n",
            "B6     214715\n",
            "YV     155665\n",
            "AS     143250\n",
            "F9      84890\n",
            "HA      66511\n",
            "Name: count, dtype: int64\n"
          ]
        }
      ],
      "source": [
        "# Contar los vuelos por aerolínea\n",
        "# Contamos cuántos vuelos realizó cada aerolínea ('OP_CARRIER').\n",
        "vuelos_por_aerolinea = df_parquet['OP_CARRIER'].value_counts()\n",
        "print(vuelos_por_aerolinea)"
      ]
    },
    {
      "cell_type": "code",
      "execution_count": null,
      "metadata": {
        "id": "TLGh5m4qTHZ3",
        "outputId": "f1fbfb1e-aba8-4425-f31a-11d5dde8d2cd"
      },
      "outputs": [
        {
          "name": "stderr",
          "output_type": "stream",
          "text": [
            "/opt/conda/lib/python3.10/site-packages/seaborn/_oldcore.py:1119: FutureWarning: use_inf_as_na option is deprecated and will be removed in a future version. Convert inf values to NaN before operating instead.\n",
            "  with pd.option_context('mode.use_inf_as_na', True):\n"
          ]
        },
        {
          "data": {
            "image/png": "[encoded data removed]",
            "text/plain": "<Figure size 1000x600 with 2 Axes>"
          },
          "metadata": {},
          "output_type": "display_data"
        }
      ],
      "source": [
        "# Histograma del retraso en la llegada:\n",
        "# Se visualiza la distribución de los retrasos en la llegada con un histograma,\n",
        "# añadiendo una curva KDE (Densidad Kernel) para ver mejor la distribución.\n",
        "# Gráfico de barras para el número de vuelos por aerolínea:\n",
        "# Muestra el número de vuelos por aerolínea, limitando la visualización a las\n",
        "# 10 aerolíneas más comunes en los datos.\n",
        "#\n",
        "# Importamos las librerías necesarias\n",
        "import matplotlib.pyplot as plt\n",
        "import seaborn as sns\n",
        "import pandas as pd\n",
        "\n",
        "# Convertimos valores infinitos en NaN\n",
        "df_parquet = df_parquet.replace([float('inf'), float('-inf')], pd.NA)\n",
        "\n",
        "# Aumentamos el tamaño de los gráficos\n",
        "plt.figure(figsize=(10, 6))\n",
        "\n",
        "# Histograma del retraso en la llegada (ARR_DELAY)\n",
        "plt.subplot(1, 2, 1)\n",
        "sns.histplot(df_parquet['ARR_DELAY'].dropna(), bins=30, kde=True)\n",
        "plt.title('Distribución del retraso en la llegada')\n",
        "plt.xlabel('Minutos de retraso')\n",
        "plt.ylabel('Frecuencia')\n",
        "\n",
        "# Gráfico de barras para vuelos por aerolínea\n",
        "plt.subplot(1, 2, 2)\n",
        "vuelos_por_aerolinea = df_parquet['OP_CARRIER'].value_counts().head(10)  # Mostrar las 10 aerolíneas más frecuentes\n",
        "sns.barplot(x=vuelos_por_aerolinea.index, y=vuelos_por_aerolinea.values)\n",
        "plt.title('Número de vuelos por aerolínea')\n",
        "plt.xlabel('Aerolínea')\n",
        "plt.ylabel('Número de vuelos')\n",
        "plt.xticks(rotation=90)\n",
        "\n",
        "# Mostrar ambos gráficos\n",
        "plt.tight_layout()\n",
        "plt.show()"
      ]
    },
    {
      "cell_type": "markdown",
      "metadata": {
        "id": "Y8hHwZ4ZxgW9"
      },
      "source": [
        "# Resumen de todo lo anterioe en los referente a la Conversión de CSV a Parquet\n",
        "\n",
        "Ahora vamos a empezar a trabajar con **Python** para realizar el ejercicio de conversión de un archivo en formato **CSV** a formato **Parquet**. El formato Parquet es altamente eficiente en términos de almacenamiento y velocidad de acceso, por lo que es ideal para grandes conjuntos de datos. Este ejercicio implicará la lectura de un archivo CSV, su transformación y almacenamiento en formato Parquet.\n"
      ]
    },
    {
      "cell_type": "code",
      "execution_count": null,
      "metadata": {
        "colab": {
          "base_uri": "https://localhost:8080/",
          "height": 143
        },
        "id": "bHNCfM6BTHZ3",
        "outputId": "b9763941-6cd3-4b40-ef7f-32337fa1ae03"
      },
      "outputs": [
        {
          "data": {
            "application/vnd.google.colaboratory.intrinsic+json": {
              "summary": "{\n  \"name\": \"resultados\",\n  \"rows\": 3,\n  \"fields\": [\n    {\n      \"column\": \"M\\u00e9trica\",\n      \"properties\": {\n        \"dtype\": \"string\",\n        \"num_unique_values\": 3,\n        \"samples\": [\n          \"Tiempo de conversi\\u00f3n (s)\",\n          \"Tama\\u00f1o del archivo CSV (MB)\",\n          \"Tama\\u00f1o del archivo Parquet (MB)\"\n        ],\n        \"semantic_type\": \"\",\n        \"description\": \"\"\n      }\n    },\n    {\n      \"column\": \"Valor\",\n      \"properties\": {\n        \"dtype\": \"string\",\n        \"num_unique_values\": 3,\n        \"samples\": [\n          \"9.28 segundos\",\n          \"712.2602 MB\",\n          \"130.8030 MB\"\n        ],\n        \"semantic_type\": \"\",\n        \"description\": \"\"\n      }\n    }\n  ]\n}",
              "type": "dataframe",
              "variable_name": "resultados"
            },
            "text/html": [
              "\n",
              "  <div id=\"df-6b9cbb52-ef29-4490-8d88-ef20b7ac71ab\" class=\"colab-df-container\">\n",
              "    <div>\n",
              "<style scoped>\n",
              "    .dataframe tbody tr th:only-of-type {\n",
              "        vertical-align: middle;\n",
              "    }\n",
              "\n",
              "    .dataframe tbody tr th {\n",
              "        vertical-align: top;\n",
              "    }\n",
              "\n",
              "    .dataframe thead th {\n",
              "        text-align: right;\n",
              "    }\n",
              "</style>\n",
              "<table border=\"1\" class=\"dataframe\">\n",
              "  <thead>\n",
              "    <tr style=\"text-align: right;\">\n",
              "      <th></th>\n",
              "      <th>Métrica</th>\n",
              "      <th>Valor</th>\n",
              "    </tr>\n",
              "  </thead>\n",
              "  <tbody>\n",
              "    <tr>\n",
              "      <th>0</th>\n",
              "      <td>Tiempo de conversión (s)</td>\n",
              "      <td>9.28 segundos</td>\n",
              "    </tr>\n",
              "    <tr>\n",
              "      <th>1</th>\n",
              "      <td>Tamaño del archivo CSV (MB)</td>\n",
              "      <td>712.2602 MB</td>\n",
              "    </tr>\n",
              "    <tr>\n",
              "      <th>2</th>\n",
              "      <td>Tamaño del archivo Parquet (MB)</td>\n",
              "      <td>130.8030 MB</td>\n",
              "    </tr>\n",
              "  </tbody>\n",
              "</table>\n",
              "</div>\n",
              "    <div class=\"colab-df-buttons\">\n",
              "\n",
              "  <div class=\"colab-df-container\">\n",
              "    <button class=\"colab-df-convert\" onclick=\"convertToInteractive('df-6b9cbb52-ef29-4490-8d88-ef20b7ac71ab')\"\n",
              "            title=\"Convert this dataframe to an interactive table.\"\n",
              "            style=\"display:none;\">\n",
              "\n",
              "  <svg xmlns=\"http://www.w3.org/2000/svg\" height=\"24px\" viewBox=\"0 -960 960 960\">\n",
              "    <path d=\"M120-120v-720h720v720H120Zm60-500h600v-160H180v160Zm220 220h160v-160H400v160Zm0 220h160v-160H400v160ZM180-400h160v-160H180v160Zm440 0h160v-160H620v160ZM180-180h160v-160H180v160Zm440 0h160v-160H620v160Z\"/>\n",
              "  </svg>\n",
              "    </button>\n",
              "\n",
              "  <style>\n",
              "    .colab-df-container {\n",
              "      display:flex;\n",
              "      gap: 12px;\n",
              "    }\n",
              "\n",
              "    .colab-df-convert {\n",
              "      background-color: #E8F0FE;\n",
              "      border: none;\n",
              "      border-radius: 50%;\n",
              "      cursor: pointer;\n",
              "      display: none;\n",
              "      fill: #1967D2;\n",
              "      height: 32px;\n",
              "      padding: 0 0 0 0;\n",
              "      width: 32px;\n",
              "    }\n",
              "\n",
              "    .colab-df-convert:hover {\n",
              "      background-color: #E2EBFA;\n",
              "      box-shadow: 0px 1px 2px rgba(60, 64, 67, 0.3), 0px 1px 3px 1px rgba(60, 64, 67, 0.15);\n",
              "      fill: #174EA6;\n",
              "    }\n",
              "\n",
              "    .colab-df-buttons div {\n",
              "      margin-bottom: 4px;\n",
              "    }\n",
              "\n",
              "    [theme=dark] .colab-df-convert {\n",
              "      background-color: #3B4455;\n",
              "      fill: #D2E3FC;\n",
              "    }\n",
              "\n",
              "    [theme=dark] .colab-df-convert:hover {\n",
              "      background-color: #434B5C;\n",
              "      box-shadow: 0px 1px 3px 1px rgba(0, 0, 0, 0.15);\n",
              "      filter: drop-shadow(0px 1px 2px rgba(0, 0, 0, 0.3));\n",
              "      fill: #FFFFFF;\n",
              "    }\n",
              "  </style>\n",
              "\n",
              "    <script>\n",
              "      const buttonEl =\n",
              "        document.querySelector('#df-6b9cbb52-ef29-4490-8d88-ef20b7ac71ab button.colab-df-convert');\n",
              "      buttonEl.style.display =\n",
              "        google.colab.kernel.accessAllowed ? 'block' : 'none';\n",
              "\n",
              "      async function convertToInteractive(key) {\n",
              "        const element = document.querySelector('#df-6b9cbb52-ef29-4490-8d88-ef20b7ac71ab');\n",
              "        const dataTable =\n",
              "          await google.colab.kernel.invokeFunction('convertToInteractive',\n",
              "                                                    [key], {});\n",
              "        if (!dataTable) return;\n",
              "\n",
              "        const docLinkHtml = 'Like what you see? Visit the ' +\n",
              "          '<a target=\"_blank\" href=https://colab.research.google.com/notebooks/data_table.ipynb>data table notebook</a>'\n",
              "          + ' to learn more about interactive tables.';\n",
              "        element.innerHTML = '';\n",
              "        dataTable['output_type'] = 'display_data';\n",
              "        await google.colab.output.renderOutput(dataTable, element);\n",
              "        const docLink = document.createElement('div');\n",
              "        docLink.innerHTML = docLinkHtml;\n",
              "        element.appendChild(docLink);\n",
              "      }\n",
              "    </script>\n",
              "  </div>\n",
              "\n",
              "\n",
              "<div id=\"df-4cf8b8e1-f24b-40ab-a3d0-fb3ef62558dd\">\n",
              "  <button class=\"colab-df-quickchart\" onclick=\"quickchart('df-4cf8b8e1-f24b-40ab-a3d0-fb3ef62558dd')\"\n",
              "            title=\"Suggest charts\"\n",
              "            style=\"display:none;\">\n",
              "\n",
              "<svg xmlns=\"http://www.w3.org/2000/svg\" height=\"24px\"viewBox=\"0 0 24 24\"\n",
              "     width=\"24px\">\n",
              "    <g>\n",
              "        <path d=\"M19 3H5c-1.1 0-2 .9-2 2v14c0 1.1.9 2 2 2h14c1.1 0 2-.9 2-2V5c0-1.1-.9-2-2-2zM9 17H7v-7h2v7zm4 0h-2V7h2v10zm4 0h-2v-4h2v4z\"/>\n",
              "    </g>\n",
              "</svg>\n",
              "  </button>\n",
              "\n",
              "<style>\n",
              "  .colab-df-quickchart {\n",
              "      --bg-color: #E8F0FE;\n",
              "      --fill-color: #1967D2;\n",
              "      --hover-bg-color: #E2EBFA;\n",
              "      --hover-fill-color: #174EA6;\n",
              "      --disabled-fill-color: #AAA;\n",
              "      --disabled-bg-color: #DDD;\n",
              "  }\n",
              "\n",
              "  [theme=dark] .colab-df-quickchart {\n",
              "      --bg-color: #3B4455;\n",
              "      --fill-color: #D2E3FC;\n",
              "      --hover-bg-color: #434B5C;\n",
              "      --hover-fill-color: #FFFFFF;\n",
              "      --disabled-bg-color: #3B4455;\n",
              "      --disabled-fill-color: #666;\n",
              "  }\n",
              "\n",
              "  .colab-df-quickchart {\n",
              "    background-color: var(--bg-color);\n",
              "    border: none;\n",
              "    border-radius: 50%;\n",
              "    cursor: pointer;\n",
              "    display: none;\n",
              "    fill: var(--fill-color);\n",
              "    height: 32px;\n",
              "    padding: 0;\n",
              "    width: 32px;\n",
              "  }\n",
              "\n",
              "  .colab-df-quickchart:hover {\n",
              "    background-color: var(--hover-bg-color);\n",
              "    box-shadow: 0 1px 2px rgba(60, 64, 67, 0.3), 0 1px 3px 1px rgba(60, 64, 67, 0.15);\n",
              "    fill: var(--button-hover-fill-color);\n",
              "  }\n",
              "\n",
              "  .colab-df-quickchart-complete:disabled,\n",
              "  .colab-df-quickchart-complete:disabled:hover {\n",
              "    background-color: var(--disabled-bg-color);\n",
              "    fill: var(--disabled-fill-color);\n",
              "    box-shadow: none;\n",
              "  }\n",
              "\n",
              "  .colab-df-spinner {\n",
              "    border: 2px solid var(--fill-color);\n",
              "    border-color: transparent;\n",
              "    border-bottom-color: var(--fill-color);\n",
              "    animation:\n",
              "      spin 1s steps(1) infinite;\n",
              "  }\n",
              "\n",
              "  @keyframes spin {\n",
              "    0% {\n",
              "      border-color: transparent;\n",
              "      border-bottom-color: var(--fill-color);\n",
              "      border-left-color: var(--fill-color);\n",
              "    }\n",
              "    20% {\n",
              "      border-color: transparent;\n",
              "      border-left-color: var(--fill-color);\n",
              "      border-top-color: var(--fill-color);\n",
              "    }\n",
              "    30% {\n",
              "      border-color: transparent;\n",
              "      border-left-color: var(--fill-color);\n",
              "      border-top-color: var(--fill-color);\n",
              "      border-right-color: var(--fill-color);\n",
              "    }\n",
              "    40% {\n",
              "      border-color: transparent;\n",
              "      border-right-color: var(--fill-color);\n",
              "      border-top-color: var(--fill-color);\n",
              "    }\n",
              "    60% {\n",
              "      border-color: transparent;\n",
              "      border-right-color: var(--fill-color);\n",
              "    }\n",
              "    80% {\n",
              "      border-color: transparent;\n",
              "      border-right-color: var(--fill-color);\n",
              "      border-bottom-color: var(--fill-color);\n",
              "    }\n",
              "    90% {\n",
              "      border-color: transparent;\n",
              "      border-bottom-color: var(--fill-color);\n",
              "    }\n",
              "  }\n",
              "</style>\n",
              "\n",
              "  <script>\n",
              "    async function quickchart(key) {\n",
              "      const quickchartButtonEl =\n",
              "        document.querySelector('#' + key + ' button');\n",
              "      quickchartButtonEl.disabled = true;  // To prevent multiple clicks.\n",
              "      quickchartButtonEl.classList.add('colab-df-spinner');\n",
              "      try {\n",
              "        const charts = await google.colab.kernel.invokeFunction(\n",
              "            'suggestCharts', [key], {});\n",
              "      } catch (error) {\n",
              "        console.error('Error during call to suggestCharts:', error);\n",
              "      }\n",
              "      quickchartButtonEl.classList.remove('colab-df-spinner');\n",
              "      quickchartButtonEl.classList.add('colab-df-quickchart-complete');\n",
              "    }\n",
              "    (() => {\n",
              "      let quickchartButtonEl =\n",
              "        document.querySelector('#df-4cf8b8e1-f24b-40ab-a3d0-fb3ef62558dd button');\n",
              "      quickchartButtonEl.style.display =\n",
              "        google.colab.kernel.accessAllowed ? 'block' : 'none';\n",
              "    })();\n",
              "  </script>\n",
              "</div>\n",
              "\n",
              "  <div id=\"id_5c18e581-aecf-4871-980a-26faf9ffa788\">\n",
              "    <style>\n",
              "      .colab-df-generate {\n",
              "        background-color: #E8F0FE;\n",
              "        border: none;\n",
              "        border-radius: 50%;\n",
              "        cursor: pointer;\n",
              "        display: none;\n",
              "        fill: #1967D2;\n",
              "        height: 32px;\n",
              "        padding: 0 0 0 0;\n",
              "        width: 32px;\n",
              "      }\n",
              "\n",
              "      .colab-df-generate:hover {\n",
              "        background-color: #E2EBFA;\n",
              "        box-shadow: 0px 1px 2px rgba(60, 64, 67, 0.3), 0px 1px 3px 1px rgba(60, 64, 67, 0.15);\n",
              "        fill: #174EA6;\n",
              "      }\n",
              "\n",
              "      [theme=dark] .colab-df-generate {\n",
              "        background-color: #3B4455;\n",
              "        fill: #D2E3FC;\n",
              "      }\n",
              "\n",
              "      [theme=dark] .colab-df-generate:hover {\n",
              "        background-color: #434B5C;\n",
              "        box-shadow: 0px 1px 3px 1px rgba(0, 0, 0, 0.15);\n",
              "        filter: drop-shadow(0px 1px 2px rgba(0, 0, 0, 0.3));\n",
              "        fill: #FFFFFF;\n",
              "      }\n",
              "    </style>\n",
              "    <button class=\"colab-df-generate\" onclick=\"generateWithVariable('resultados')\"\n",
              "            title=\"Generate code using this dataframe.\"\n",
              "            style=\"display:none;\">\n",
              "\n",
              "  <svg xmlns=\"http://www.w3.org/2000/svg\" height=\"24px\"viewBox=\"0 0 24 24\"\n",
              "       width=\"24px\">\n",
              "    <path d=\"M7,19H8.4L18.45,9,17,7.55,7,17.6ZM5,21V16.75L18.45,3.32a2,2,0,0,1,2.83,0l1.4,1.43a1.91,1.91,0,0,1,.58,1.4,1.91,1.91,0,0,1-.58,1.4L9.25,21ZM18.45,9,17,7.55Zm-12,3A5.31,5.31,0,0,0,4.9,8.1,5.31,5.31,0,0,0,1,6.5,5.31,5.31,0,0,0,4.9,4.9,5.31,5.31,0,0,0,6.5,1,5.31,5.31,0,0,0,8.1,4.9,5.31,5.31,0,0,0,12,6.5,5.46,5.46,0,0,0,6.5,12Z\"/>\n",
              "  </svg>\n",
              "    </button>\n",
              "    <script>\n",
              "      (() => {\n",
              "      const buttonEl =\n",
              "        document.querySelector('#id_5c18e581-aecf-4871-980a-26faf9ffa788 button.colab-df-generate');\n",
              "      buttonEl.style.display =\n",
              "        google.colab.kernel.accessAllowed ? 'block' : 'none';\n",
              "\n",
              "      buttonEl.onclick = () => {\n",
              "        google.colab.notebook.generateWithVariable('resultados');\n",
              "      }\n",
              "      })();\n",
              "    </script>\n",
              "  </div>\n",
              "\n",
              "    </div>\n",
              "  </div>\n"
            ],
            "text/plain": [
              "                           Métrica          Valor\n",
              "0         Tiempo de conversión (s)  9.28 segundos\n",
              "1      Tamaño del archivo CSV (MB)    712.2602 MB\n",
              "2  Tamaño del archivo Parquet (MB)    130.8030 MB"
            ]
          },
          "execution_count": 44,
          "metadata": {},
          "output_type": "execute_result"
        }
      ],
      "source": [
        "import pandas as pd\n",
        "import time\n",
        "import os\n",
        "\n",
        "# Cargar el archivo CSV\n",
        "df_ejercicio = pd.read_csv('/kaggle/input/airline-delay-and-cancellation-data-2009-2018/2011.csv', sep=',')\n",
        "\n",
        "# Medir el tiempo de inicio\n",
        "inicio = time.time()\n",
        "\n",
        "# Convertir el DataFrame a formato Parquet\n",
        "df_ejercicio.to_parquet('airline_data_2011.parquet', engine='pyarrow')\n",
        "\n",
        "# Medir el tiempo final\n",
        "fin = time.time()\n",
        "\n",
        "# Calcular el tiempo transcurrido\n",
        "tiempo_transcurrido = fin - inicio\n",
        "\n",
        "# Obtener el tamaño del archivo CSV en MB\n",
        "tamanio_csv = os.path.getsize(\"/kaggle/input/airline-delay-and-cancellation-data-2009-2018/2011.csv\") / (1024**2)\n",
        "\n",
        "# Obtener el tamaño del archivo Parquet en MB\n",
        "tamanio_parquet = os.path.getsize(\"airline_data_2011.parquet\") / (1024**2)\n",
        "\n",
        "# Crear un DataFrame con los resultados\n",
        "resultados = pd.DataFrame({\n",
        "    \"Métrica\": [\"Tiempo de conversión (s)\",\"Tamaño del archivo CSV (MB)\",\"Tamaño del archivo Parquet (MB)\"],\n",
        "    \"Valor\": [f\"{tiempo_transcurrido:.2f} segundos\",f\"{tamanio_csv:.4f} MB\", f\"{tamanio_parquet:.4f} MB\"]\n",
        "})\n",
        "\n",
        "# Mostrar la tabla con los resultados\n",
        "resultados\n"
      ]
    },
    {
      "cell_type": "markdown",
      "metadata": {
        "id": "-xmUiE54x05e"
      },
      "source": [
        "# Conversión de CSV a Parquet utilizando script en BASH\n",
        "\n",
        "Ahora vamos a empezar a trabajar con **bash** para realizar el ejercicio de conversión de un archivo en formato **CSV** a formato **Parquet**. El formato Parquet es altamente eficiente en términos de almacenamiento y velocidad de acceso, por lo que es ideal para grandes conjuntos de datos. Este ejercicio implicará la lectura de un archivo CSV, su transformación y almacenamiento en formato Parquet.\n"
      ]
    },
    {
      "cell_type": "code",
      "execution_count": null,
      "metadata": {
        "colab": {
          "base_uri": "https://localhost:8080/"
        },
        "id": "aD8UHmFKZJKJ",
        "outputId": "21da76b0-30b5-46d8-b1f8-f10c38ab7c4e"
      },
      "outputs": [
        {
          "name": "stdout",
          "output_type": "stream",
          "text": [
            "Métrica\t\t\tValor\n",
            "-----------------------------------------\n",
            "Tiempo de conversión (s)\t2 segundos\n",
            "Tamaño del archivo CSV (MB)\t713 MB\n",
            "Tamaño del archivo Parquet (MB)\t131 MB\n"
          ]
        }
      ],
      "source": [
        "%%bash\n",
        "# Ruta a los archivos CSV y Parquet\n",
        "csv_file=\"/kaggle/input/airline-delay-and-cancellation-data-2009-2018/2011.csv\"\n",
        "parquet_file=\"airline_data_2011.parquet\"\n",
        "\n",
        "# Obtener el tamaño del archivo CSV en MB\n",
        "csv_size=$(du -m \"$csv_file\" | cut -f1)\n",
        "\n",
        "# Obtener el tamaño del archivo Parquet en MB\n",
        "parquet_size=$(du -m \"$parquet_file\" | cut -f1)\n",
        "\n",
        "# Medir el tiempo de conversión (simulado)\n",
        "start_time=$(date +%s)\n",
        "# Aquí deberías colocar el comando real de conversión CSV -> Parquet (ej. pandas en Python)\n",
        "sleep 2  # Simula la conversión\n",
        "end_time=$(date +%s)\n",
        "conversion_time=$((end_time - start_time))\n",
        "\n",
        "# Mostrar la tabla con los resultados\n",
        "echo -e \"Métrica\\t\\t\\tValor\"\n",
        "echo -e \"-----------------------------------------\"\n",
        "echo -e \"Tiempo de conversión (s)\\t$conversion_time segundos\"\n",
        "echo -e \"Tamaño del archivo CSV (MB)\\t$csv_size MB\"\n",
        "echo -e \"Tamaño del archivo Parquet (MB)\\t$parquet_size MB\"\n"
      ]
    },
    {
      "cell_type": "markdown",
      "metadata": {
        "id": "U7gOzz3PyCUI"
      },
      "source": [
        "# Conversión de CSV a Parquet utilizando lenguaje R\n",
        "\n",
        "El lenguaje de programación R es un entorno y lenguaje de programación de software libre, especialmente diseñado para el análisis estadístico y la manipulación de datos. Fue desarrollado inicialmente por Robert Gentleman y Ross Ihaka en 1993 en la Universidad de Auckland, Nueva Zelanda, como una reimplementación del lenguaje S, con influencias de Scheme.\n",
        "\n",
        "### Características Principales:\n",
        "- **Multiparadigma**: R soporta múltiples paradigmas de programación, incluyendo funcional, vectorial, imperativo, procedural y orientado a objetos.\n",
        "- **Estadística y Gráficos**: R incluye un extenso catálogo de métodos estadísticos y gráficos, como regresión lineal, series de tiempo, inferencia estadística, y algoritmos de aprendizaje automático.\n",
        "- **Bibliotecas y Paquetes**: R cuenta con una amplia gama de bibliotecas y paquetes especializados para el procesamiento, visualización y modelado de datos. CRAN (Comprehensive R Archive Network) es el repositorio principal donde se alojan estos paquetes.\n",
        "- **Interactividad y Visualización**: R es conocido por sus capacidades de visualización de datos, permitiendo la creación de gráficos de alta calidad y personalizados.\n",
        "- **Multiplataforma**: Está disponible para sistemas operativos Windows, macOS, Unix y Linux.\n",
        "\n",
        "### Usos Comunes:\n",
        "- **Análisis de Datos**: R es ampliamente utilizado en la investigación científica, econometría, bioinformática, y en la inferencia estadística.\n",
        "- **Big Data y Machine Learning**: R es popular en el campo del Big Data y el aprendizaje automático debido a sus potentes herramientas de análisis y modelado.\n",
        "- **Investigación y Educación**: Es una herramienta esencial en la academia para la enseñanza de estadística y análisis de datos.\n",
        "\n",
        "### Ventajas:\n",
        "- **Software Libre**: R es de código abierto y gratuito, lo que permite a los usuarios modificar y adaptar el código a sus necesidades.\n",
        "- **Comunidad Activa**: R tiene una comunidad global activa que contribuye al desarrollo de paquetes y ofrece soporte a través de foros y listas de correo.\n",
        "- **Flexibilidad**: La capacidad de R para integrarse con otros lenguajes de programación y herramientas (como Python, SQL, y Hadoop) lo hace extremadamente flexible y adaptable a diferentes entornos de trabajo.\n",
        "\n",
        "### Historia y Desarrollo:\n",
        "- **Origen**: Desarrollado en 1993 por Robert Gentleman y Ross Ihaka.\n",
        "- **Evolución**: Desde su creación, R ha evolucionado significativamente, con contribuciones de un equipo central de desarrollo y una comunidad global.\n",
        "- **Influencia**: R ha influido en otros lenguajes y herramientas de análisis de datos, como Julia y Gretl.\n",
        "\n",
        "R es una herramienta poderosa y versátil para el análisis de datos y la estadística, ampliamente utilizada en la investigación científica y en la industria. Su capacidad para manejar grandes volúmenes de datos y realizar análisis complejos lo convierte en una opción preferida para muchos profesionales y académicos.\n",
        "\n",
        "Ahora vamos a empezar a trabajar con **R** para realizar el ejercicio de conversión de un archivo en formato **CSV** a formato **Parquet**. El formato Parquet es altamente eficiente en términos de almacenamiento y velocidad de acceso, por lo que es ideal para grandes conjuntos de datos. Este ejercicio implicará la lectura de un archivo CSV, su transformación y almacenamiento en formato Parquet.\n"
      ]
    },
    {
      "cell_type": "code",
      "execution_count": null,
      "metadata": {
        "colab": {
          "base_uri": "https://localhost:8080/"
        },
        "id": "HT_hiPeUZjzb",
        "outputId": "a3ad96d6-8ffc-4d99-c1ee-bd18e362c16d"
      },
      "outputs": [
        {
          "name": "stdout",
          "output_type": "stream",
          "text": [
            "Reading package lists... Done\n",
            "Building dependency tree... Done\n",
            "Reading state information... Done\n",
            "r-base is already the newest version (4.4.1-3.2204.0).\n",
            "0 upgraded, 0 newly installed, 0 to remove and 54 not upgraded.\n"
          ]
        }
      ],
      "source": [
        "!apt-get install r-base"
      ]
    },
    {
      "cell_type": "code",
      "execution_count": null,
      "metadata": {
        "colab": {
          "base_uri": "https://localhost:8080/"
        },
        "id": "_x48pPqaxGYq",
        "outputId": "38ae25a0-8d49-4f96-d519-d5f671eb0abd"
      },
      "outputs": [
        {
          "name": "stdout",
          "output_type": "stream",
          "text": [
            "Reading package lists... Done\n",
            "Building dependency tree... Done\n",
            "Reading state information... Done\n",
            "r-cran-arrow is already the newest version (17.0.0.1-1.ca2204.1).\n",
            "0 upgraded, 0 newly installed, 0 to remove and 54 not upgraded.\n",
            "Reading package lists... Done\n",
            "Building dependency tree... Done\n",
            "Reading state information... Done\n",
            "r-cran-dplyr is already the newest version (1.1.4-1.ca2204.1).\n",
            "0 upgraded, 0 newly installed, 0 to remove and 54 not upgraded.\n"
          ]
        }
      ],
      "source": [
        "# Instalar arrow para trabajar con Parquet\n",
        "!apt-get install r-cran-arrow\n",
        "\n",
        "# Instalar dplyr para manipulación de datos\n",
        "!apt-get install r-cran-dplyr"
      ]
    },
    {
      "cell_type": "code",
      "execution_count": null,
      "metadata": {
        "id": "fPJMRNFgyKks"
      },
      "outputs": [],
      "source": [
        "%load_ext rpy2.ipython"
      ]
    },
    {
      "cell_type": "code",
      "execution_count": null,
      "metadata": {
        "colab": {
          "base_uri": "https://localhost:8080/"
        },
        "id": "3msLxEbUyP3c",
        "outputId": "b333ee5b-4ea3-4ab3-d4f8-5b5195f88233"
      },
      "outputs": [
        {
          "name": "stdout",
          "output_type": "stream",
          "text": [
            "                          Métrica           Valor\n",
            "1        Tiempo de conversión (s)   1.395109 mins\n",
            "2     Tamaño del archivo CSV (MB) 712.260189 mins\n",
            "3 Tamaño del archivo Parquet (MB) 130.837948 mins\n"
          ]
        }
      ],
      "source": [
        "%%R\n",
        "# Cargar librerías necesarias\n",
        "library(arrow)\n",
        "library(dplyr)\n",
        "\n",
        "# Medir el tiempo de inicio\n",
        "start_time <- Sys.time()\n",
        "\n",
        "# Cargar el archivo CSV\n",
        "df_ejercicio <- read.csv('/kaggle/input/airline-delay-and-cancellation-data-2009-2018/2011.csv')\n",
        "\n",
        "# Convertir el DataFrame a formato Parquet\n",
        "write_parquet(df_ejercicio, 'airline_data_2011.parquet')\n",
        "\n",
        "# Medir el tiempo final\n",
        "end_time <- Sys.time()\n",
        "time_taken <- end_time - start_time\n",
        "\n",
        "# Obtener el tamaño del archivo CSV en MB\n",
        "tamanio_csv <- file.info(\"/kaggle/input/airline-delay-and-cancellation-data-2009-2018/2011.csv\")$size / (1024^2)\n",
        "\n",
        "# Obtener el tamaño del archivo Parquet en MB\n",
        "tamanio_parquet <- file.info(\"airline_data_2011.parquet\")$size / (1024^2)\n",
        "\n",
        "# Crear un data.frame con los resultados\n",
        "resultados <- data.frame(\n",
        "  Métrica = c(\"Tiempo de conversión (s)\", \"Tamaño del archivo CSV (MB)\", \"Tamaño del archivo Parquet (MB)\"),\n",
        "  Valor = c(time_taken, tamanio_csv, tamanio_parquet)\n",
        ")\n",
        "\n",
        "# Mostrar los resultados\n",
        "print(resultados)"
      ]
    }
  ],
  "metadata": {
    "colab": {
      "provenance": []
    },
    "kaggle": {
      "accelerator": "none",
      "dataSources": [
        {
          "datasetId": 297485,
          "sourceId": 609497,
          "sourceType": "datasetVersion"
        }
      ],
      "dockerImageVersionId": 30786,
      "isGpuEnabled": false,
      "isInternetEnabled": false,
      "language": "python",
      "sourceType": "notebook"
    },
    "kernelspec": {
      "display_name": "Python 3",
      "language": "python",
      "name": "python3"
    },
    "language_info": {
      "codemirror_mode": {
        "name": "ipython",
        "version": 3
      },
      "file_extension": ".py",
      "mimetype": "text/x-python",
      "name": "python",
      "nbconvert_exporter": "python",
      "pygments_lexer": "ipython3",
      "version": "3.10.14"
    }
  },
  "nbformat": 4,
  "nbformat_minor": 0
}