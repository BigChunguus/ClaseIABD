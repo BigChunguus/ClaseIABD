{
 "cells": [
  {
   "cell_type": "markdown",
   "metadata": {
    "id": "OX_2RmmJwowf"
   },
   "source": [
    "# Tarea Online de Big Data Aplicado\n",
    "\n",
    "## Nombre del alumno:\n",
    "Completa tu nombre aquí.\n"
   ]
  },
  {
   "cell_type": "markdown",
   "metadata": {
    "id": "BQ_aT2SCwreO"
   },
   "source": [
    "###INTRODUCCIÓN.###\n",
    "\n",
    "El objetivo de esta tarea es desplegar un entorno Hadoop utilizando Docker y realizar un análisis de texto con Python y herramientas de NLP. Asegúrate de seguir los pasos y capturar evidencia de cada etapa.\n",
    "Para ello debes realizar paso a paso el proceso que se explicó en el aula para el despliegue de un cluster Hasoop en Docker. Después podrás entregar esta plantilla sustituyendo las celdas de markdown o de código por lo que se pide. Lee detenidamente el enunciado ya que a veces se pedirá que incluyas una imagen, otras texto y en algunas código ejecutable. El libro de Jupyter que entregues deberá tener las celdas completamente ejecutadas en orden secuencial, no debe tener errores y corresponderá con la ejecución real que obtuviste al ejecutarlo en el contenedor `NameNode` de tu equipo."
   ]
  },
  {
   "cell_type": "markdown",
   "metadata": {
    "id": "iIjZE1XAyvL2"
   },
   "source": [
    "Comienza copiando este libro NoteBook de Jupyter, `Plantilla_Tarea1_Evaluable_RA1_BDA.ipynb`, en el servidor de Jupyter.Cambia el nombre por `IABDXX_BDA01.ipynb`, donde IABDXX representa tu logon de usuario. Recuerda que tendrás que tener en tu equipo anfitrión, un directorio donde guardar en el futuro tus NoteBooks, este directorio estará montado en un directorio, de tu elección del contenedor que haga de NameNode, de tu cluster Hadoop en Docker. Cualquier cosa que sitúes en este directorio (o en un subdirectorio) será accesible tanto por el anfitrión como por el contenedor.\n",
    "\n",
    "Es posible que al intentar copiar el libro NoteBook de Jupyter `IABDXX_BDA01.ipynb` tengas un problema de permisos. Si esto sucede es porque el contenedor que hace de NameNode en tu cluster de Hadoop en Docker está asignando la propiedad de los archivos al usuario `hdadmin`. Este problema se puede solucionar de distintas formas:\n",
    "\n",
    "* Asignando permisos de escritura a todos los usuarios (comando `chmod` en Linux).\n",
    "* Usando el comando `sudo`.\n",
    "* Copiando el archivo desde el anfitrión al contenedor con el comando `cp` de `docker`:\n",
    "```bash\n",
    "docker cp IABDXX_BDA01.ipynb namenode:/media/notebooks/unidad\\ 1/\n",
    "```\n",
    "* Si todo lo anterior no funciona, pregunta en el foro.\n",
    "\n",
    "Una vez tengas la plantilla de la tarea en el servidor de Jupyter, comienza a completar las celdas."
   ]
  },
  {
   "cell_type": "markdown",
   "metadata": {
    "id": "mvB_U8Dqw2rX"
   },
   "source": [
    "### 1. Verifica las versiones de `docker` y `docker-compose`\n",
    "\n",
    "Ejecuta los siguientes comandos en tu equipo anfitrión y añade, al menos, una captura de pantalla:\n",
    "\n",
    "```bash\n",
    "docker --version\n",
    "docker-compose --version\n"
   ]
  },
  {
   "cell_type": "code",
   "execution_count": 2,
   "metadata": {
    "id": "_4HgPDH4w5ZJ"
   },
   "outputs": [
    {
     "name": "stdout",
     "output_type": "stream",
     "text": [
      "Found 4 items\n",
      "drwxr-xr-x   - hdadmin hadoop       4096 2024-11-04 18:15 .ipynb_checkpoints\n",
      "drwxrwxrwx   - root    root         4096 2024-11-04 17:35 Hadoop_cluster_iabd12\n",
      "-rwxrwxrwx   1 root    root        14007 2024-11-04 18:43 IABD12_BDA01.ipynb\n",
      "drwxrwxrwx   - root    root         4096 2024-10-18 14:51 Psroyano\n"
     ]
    }
   ],
   "source": [
    "!hdfs dfs -put C:\\Users\\IABD12\\Documents\\el_quijote.txt /user/hdadmin"
   ]
  },
  {
   "cell_type": "markdown",
   "metadata": {
    "id": "JMOnR7vsNNPT"
   },
   "source": [
    "### 2. Comienza a crear tu entorno Hadoop + Jupyter, cluster Hadoop + Jupyter, utilizando tus\n",
    "\n",
    "---\n",
    "\n",
    "archivos Dockerfile y docker-compose.yml.\n",
    "\n",
    "Documenta en este paso todo lo necesario para emplementar tu cluster de Hadoop + Jupyter y poder desplegarlo. Si es necesario crea celdas de texto para ir añadiendo contenido.\n"
   ]
  },
  {
   "cell_type": "code",
   "execution_count": null,
   "metadata": {
    "id": "yjmr7slVOHoD"
   },
   "outputs": [],
   "source": []
  },
  {
   "cell_type": "markdown",
   "metadata": {
    "id": "7dglrCrfw9RR"
   },
   "source": [
    "\n",
    "### 3. Despliega el entorno de Hadoop + Jupyter\n",
    "\n",
    "Con tu entorno de Hadoop+ Jupyter ya creado. Usa `docker-compose` para levantar el clúster de Hadoop + Jupyter.\n",
    "Incluye al menos,  una captura de pantalla del comando `docker-compose up` y verifica que el entorno esté funcionando correctamente.\n"
   ]
  },
  {
   "cell_type": "code",
   "execution_count": null,
   "metadata": {
    "id": "yPyUwJRcxBoX"
   },
   "outputs": [],
   "source": []
  },
  {
   "cell_type": "markdown",
   "metadata": {
    "id": "pNyeLRj4xB8Y"
   },
   "source": [
    "### 4. Muestra el contenido del directorio en Jupyter\n",
    "\n",
    "Ejecuta el siguiente comando para listar el contenido de tu directorio de trabajo:\n",
    "```bash\n",
    "! ls -l\n"
   ]
  },
  {
   "cell_type": "code",
   "execution_count": null,
   "metadata": {
    "id": "FEx97F4RxMXg"
   },
   "outputs": [],
   "source": []
  },
  {
   "cell_type": "markdown",
   "metadata": {
    "id": "Gt4RHelAxMqY"
   },
   "source": [
    "\n",
    "### 5. Conteo de palabras en un archivo de texto\n",
    "\n",
    "Realiza el conteo de palabras de un archivo de texto, por ejemplo, El Quijote, y muestra el resultado.\n",
    "Utiliza Python y comandos de terminal. Para cada \"instrucción\" o código que utilices, necesito que me expliques claramente que es lo que hace.\n",
    "\n",
    "####Aquí te dejo unos ejemplos de comandos y scripts:####\n",
    "\n",
    "```bash\n",
    "! head -30 El_Quijote.txt\n",
    "\n",
    "! tail -370 El_Quijote.txt | head -15\n",
    "\n",
    "with open('El_Quijote') as f:\n",
    "    lines = f.readlines()\n",
    "len(lines)\n",
    "\n",
    "head = 24\n",
    "tail = 360\n",
    "book = lines [head:-tail]\n",
    "\n",
    "book = \"\".join(book)\n",
    "book[0:100]\n",
    "\n",
    "import re\n",
    "book =re.split('\\W+', book)\n",
    "book[0:10]\n",
    "\n",
    "list(filter(lambda word:len(word) == 0, book))\n",
    "\n",
    "book = list(filter(lambda word:len(word), book))\n",
    "book[0:10]\n",
    "\n",
    "\"El  quijote contiene {} palabras\".format(len(book))\n"
   ]
  },
  {
   "cell_type": "code",
   "execution_count": null,
   "metadata": {
    "id": "bBkaeWTxxReA"
   },
   "outputs": [],
   "source": []
  },
  {
   "cell_type": "markdown",
   "metadata": {
    "id": "0Vpg82j9xRxw"
   },
   "source": [
    "### 6. Palabras más frecuentes en el archivo\n",
    "\n",
    "Crea un proceso en Python que muestre las 10 palabras más comunes en el archivo junto con su frecuencia de aparición.\n",
    "\n",
    "Celda de código de ejemplo:\n",
    "```bash\n",
    "from collections import Counter\n",
    "\n",
    "with open('archivo.txt') as f:\n",
    "    words = f.read().split()\n",
    "\n",
    "word_counts = Counter(words)\n",
    "top_10 = word_counts.most_common(10)\n",
    "print(top_10)\n"
   ]
  },
  {
   "cell_type": "code",
   "execution_count": null,
   "metadata": {
    "id": "0l6pcWFWxV9g"
   },
   "outputs": [],
   "source": []
  },
  {
   "cell_type": "markdown",
   "metadata": {
    "id": "sD7eZnl3MkVM"
   },
   "source": [
    "### 7.-(OPCIONAL) Aplicación de Procesamiento de Lenguaje Natural (NLP) en Big Data\n",
    "Los dos ejercicios anteriores son tareas comunes en el ámbito del Big Data y pertenecen a una disciplina conocida como Procesamiento de Lenguaje Natural (NLP). Sin embargo, las soluciones propuestas son simples y presentan varias limitaciones para su uso en un entorno profesional:\n",
    "\n",
    "* Limitación en el manejo de grandes volúmenes de datos: Las soluciones básicas no son adecuadas para procesar grandes cantidades de información. Este desafío es uno de los aspectos fundamentales que abordaremos en las próximas prácticas, donde exploraremos cómo escalar estas soluciones.\n",
    "* Suposiciones poco realistas en la segmentación y análisis de palabras: En el ejercicio 5, se asumió que cualquier carácter no alfanumérico podía separar palabras, lo cual no siempre es cierto. Por ejemplo, ¿cómo se debe tratar \"O.T.A.N.\"? ¿Es una palabra o cinco? Además, en el ejercicio 6, la frecuencia de aparición de palabras no consideró las variaciones de las mismas. Por ejemplo, ¿\"la\" y \"las\" se consideran la misma palabra? ¿Y \"fue\" e \"irá\"? La respuesta a estas preguntas depende del objetivo del análisis y no es uniforme.\n",
    "\n",
    "Las herramientas de NLP, como spaCy, ofrecen funcionalidades avanzadas para resolver estas limitaciones, incluyendo la tokenización (división del texto en palabras) y la [lematización (obtener la forma base de una palabra)](https://es.wikipedia.org/wiki/Lema_(ling%C3%BC%C3%ADstica)#:~:text=El%20lema%20es%20la%20unidad,o%20no%2C%20de%20un%20lema.). Para este ejercicio opcional, intenta resolver los ejercicios 5 y 6 utilizando [spaCy](https://spacy.io/), una biblioteca popular de NLP en Python."
   ]
  },
  {
   "cell_type": "markdown",
   "metadata": {
    "id": "C2bmX7R9RnF7"
   },
   "source": [
    "Utiliza `spaCy` para resolver los ejercicios 5 y 6. Sustituye esta celda por la solución.\n",
    "Usa `spaCy` para realizar un análisis más avanzado de las palabras, incluyendo lematización.\n",
    "Instala el modelo de idioma en español si aún no lo has hecho:\n",
    "```bash\n",
    "! pip install spacy\n",
    "! python3 -m spacy download es_core_news_sm"
   ]
  },
  {
   "cell_type": "markdown",
   "metadata": {
    "id": "UyfJrm9AxWN4"
   },
   "source": []
  }
 ],
 "metadata": {
  "colab": {
   "provenance": []
  },
  "kernelspec": {
   "display_name": "Python 3 (ipykernel)",
   "language": "python",
   "name": "python3"
  },
  "language_info": {
   "codemirror_mode": {
    "name": "ipython",
    "version": 3
   },
   "file_extension": ".py",
   "mimetype": "text/x-python",
   "name": "python",
   "nbconvert_exporter": "python",
   "pygments_lexer": "ipython3",
   "version": "3.11.6"
  }
 },
 "nbformat": 4,
 "nbformat_minor": 4
}
