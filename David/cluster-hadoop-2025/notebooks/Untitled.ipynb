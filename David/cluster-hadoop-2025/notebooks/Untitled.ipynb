{
 "cells": [
  {
   "cell_type": "code",
   "execution_count": 4,
   "metadata": {},
   "outputs": [
    {
     "data": {
      "text/plain": [
       "CompletedProcess(args='\\nfor i in {1..100000}; do\\n    echo \"$(date +%Y-%m-%d),usuario$((RANDOM%1000)),accion$((RANDOM%5)),producto$((RANDOM%500))\" >> logs_grandes.csv\\ndone\\necho \"Archivo logs_grandes.csv generado con 100,000 líneas.\"\\n', returncode=0)"
      ]
     },
     "execution_count": 4,
     "metadata": {},
     "output_type": "execute_result"
    }
   ],
   "source": [
    "import subprocess\n",
    "\n",
    "# Comando Bash que se ejecutará desde Python\n",
    "bash_command = \"\"\"\n",
    "for i in {1..100000}; do\n",
    "    echo \"$(date +%Y-%m-%d),usuario$((RANDOM%1000)),accion$((RANDOM%5)),producto$((RANDOM%500))\" >> logs_grandes.csv\n",
    "done\n",
    "echo \"Archivo logs_grandes.csv generado con 100,000 líneas.\"\n",
    "\"\"\"\n",
    "\n",
    "# Ejecutar el script de Bash desde Python\n",
    "subprocess.run(bash_command, shell=True, executable=\"/bin/bash\")\n"
   ]
  },
  {
   "cell_type": "code",
   "execution_count": null,
   "metadata": {},
   "outputs": [],
   "source": []
  }
 ],
 "metadata": {
  "kernelspec": {
   "display_name": "Python 3",
   "language": "python",
   "name": "python3"
  },
  "language_info": {
   "codemirror_mode": {
    "name": "ipython",
    "version": 3
   },
   "file_extension": ".py",
   "mimetype": "text/x-python",
   "name": "python",
   "nbconvert_exporter": "python",
   "pygments_lexer": "ipython3",
   "version": "3.8.5"
  }
 },
 "nbformat": 4,
 "nbformat_minor": 4
}
