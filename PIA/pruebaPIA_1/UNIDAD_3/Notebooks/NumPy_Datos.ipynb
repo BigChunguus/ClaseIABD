{
 "cells": [
  {
   "cell_type": "code",
   "execution_count": 28,
   "metadata": {},
   "outputs": [
    {
     "name": "stdout",
     "output_type": "stream",
     "text": [
      "Collecting matplotlib\n",
      "  Downloading matplotlib-3.10.0-cp312-cp312-win_amd64.whl.metadata (11 kB)\n",
      "Collecting contourpy>=1.0.1 (from matplotlib)\n",
      "  Using cached contourpy-1.3.1-cp312-cp312-win_amd64.whl.metadata (5.4 kB)\n",
      "Collecting cycler>=0.10 (from matplotlib)\n",
      "  Using cached cycler-0.12.1-py3-none-any.whl.metadata (3.8 kB)\n",
      "Collecting fonttools>=4.22.0 (from matplotlib)\n",
      "  Downloading fonttools-4.55.3-cp312-cp312-win_amd64.whl.metadata (168 kB)\n",
      "Collecting kiwisolver>=1.3.1 (from matplotlib)\n",
      "  Downloading kiwisolver-1.4.7-cp312-cp312-win_amd64.whl.metadata (6.4 kB)\n",
      "Requirement already satisfied: numpy>=1.23 in c:\\users\\iabd12\\appdata\\local\\programs\\python\\python312\\lib\\site-packages (from matplotlib) (2.2.0)\n",
      "Requirement already satisfied: packaging>=20.0 in c:\\users\\iabd12\\appdata\\roaming\\python\\python312\\site-packages (from matplotlib) (24.2)\n",
      "Collecting pillow>=8 (from matplotlib)\n",
      "  Using cached pillow-11.0.0-cp312-cp312-win_amd64.whl.metadata (9.3 kB)\n",
      "Collecting pyparsing>=2.3.1 (from matplotlib)\n",
      "  Downloading pyparsing-3.2.0-py3-none-any.whl.metadata (5.0 kB)\n",
      "Requirement already satisfied: python-dateutil>=2.7 in c:\\users\\iabd12\\appdata\\roaming\\python\\python312\\site-packages (from matplotlib) (2.9.0.post0)\n",
      "Requirement already satisfied: six>=1.5 in c:\\users\\iabd12\\appdata\\roaming\\python\\python312\\site-packages (from python-dateutil>=2.7->matplotlib) (1.17.0)\n",
      "Downloading matplotlib-3.10.0-cp312-cp312-win_amd64.whl (8.0 MB)\n",
      "   ---------------------------------------- 0.0/8.0 MB ? eta -:--:--\n",
      "   ---------------------------------------- 0.0/8.0 MB ? eta -:--:--\n",
      "   -- ------------------------------------- 0.5/8.0 MB 2.1 MB/s eta 0:00:04\n",
      "   ----- ---------------------------------- 1.0/8.0 MB 2.4 MB/s eta 0:00:03\n",
      "   --------- ------------------------------ 1.8/8.0 MB 2.9 MB/s eta 0:00:03\n",
      "   ----------- ---------------------------- 2.4/8.0 MB 2.9 MB/s eta 0:00:02\n",
      "   ----------- ---------------------------- 2.4/8.0 MB 2.9 MB/s eta 0:00:02\n",
      "   ------------- -------------------------- 2.6/8.0 MB 2.2 MB/s eta 0:00:03\n",
      "   --------------- ------------------------ 3.1/8.0 MB 2.0 MB/s eta 0:00:03\n",
      "   ------------------ --------------------- 3.7/8.0 MB 2.1 MB/s eta 0:00:03\n",
      "   -------------------- ------------------- 4.2/8.0 MB 2.2 MB/s eta 0:00:02\n",
      "   ------------------------ --------------- 5.0/8.0 MB 2.3 MB/s eta 0:00:02\n",
      "   --------------------------- ------------ 5.5/8.0 MB 2.4 MB/s eta 0:00:02\n",
      "   ----------------------------- ---------- 6.0/8.0 MB 2.4 MB/s eta 0:00:01\n",
      "   -------------------------------- ------- 6.6/8.0 MB 2.4 MB/s eta 0:00:01\n",
      "   ------------------------------------ --- 7.3/8.0 MB 2.4 MB/s eta 0:00:01\n",
      "   ---------------------------------------  7.9/8.0 MB 2.5 MB/s eta 0:00:01\n",
      "   ---------------------------------------- 8.0/8.0 MB 2.5 MB/s eta 0:00:00\n",
      "Using cached contourpy-1.3.1-cp312-cp312-win_amd64.whl (220 kB)\n",
      "Using cached cycler-0.12.1-py3-none-any.whl (8.3 kB)\n",
      "Downloading fonttools-4.55.3-cp312-cp312-win_amd64.whl (2.2 MB)\n",
      "   ---------------------------------------- 0.0/2.2 MB ? eta -:--:--\n",
      "   --------- ------------------------------ 0.5/2.2 MB 2.4 MB/s eta 0:00:01\n",
      "   ------------------ --------------------- 1.0/2.2 MB 2.8 MB/s eta 0:00:01\n",
      "   --------------------------------- ------ 1.8/2.2 MB 3.0 MB/s eta 0:00:01\n",
      "   ---------------------------------------- 2.2/2.2 MB 3.0 MB/s eta 0:00:00\n",
      "Downloading kiwisolver-1.4.7-cp312-cp312-win_amd64.whl (55 kB)\n",
      "Using cached pillow-11.0.0-cp312-cp312-win_amd64.whl (2.6 MB)\n",
      "Downloading pyparsing-3.2.0-py3-none-any.whl (106 kB)\n",
      "Installing collected packages: pyparsing, pillow, kiwisolver, fonttools, cycler, contourpy, matplotlib\n",
      "Successfully installed contourpy-1.3.1 cycler-0.12.1 fonttools-4.55.3 kiwisolver-1.4.7 matplotlib-3.10.0 pillow-11.0.0 pyparsing-3.2.0\n",
      "Note: you may need to restart the kernel to use updated packages.\n"
     ]
    },
    {
     "name": "stderr",
     "output_type": "stream",
     "text": [
      "  WARNING: The scripts fonttools.exe, pyftmerge.exe, pyftsubset.exe and ttx.exe are installed in 'c:\\Users\\IABD12\\AppData\\Local\\Programs\\Python\\Python312\\Scripts' which is not on PATH.\n",
      "  Consider adding this directory to PATH or, if you prefer to suppress this warning, use --no-warn-script-location.\n",
      "ERROR: pip's dependency resolver does not currently take into account all the packages that are installed. This behaviour is the source of the following dependency conflicts.\n",
      "face-recognition 1.3.0 requires Click>=6.0, which is not installed.\n",
      "mediapipe 0.10.14 requires attrs>=19.1.0, which is not installed.\n",
      "pywhatkit 5.4 requires Flask, which is not installed.\n",
      "pywhatkit 5.4 requires requests, which is not installed.\n"
     ]
    }
   ],
   "source": [
    "%pip install matplotlib"
   ]
  },
  {
   "cell_type": "code",
   "execution_count": 2,
   "metadata": {},
   "outputs": [
    {
     "data": {
      "text/plain": [
       "array([1, 2, 3, 4, 5])"
      ]
     },
     "execution_count": 2,
     "metadata": {},
     "output_type": "execute_result"
    }
   ],
   "source": [
    "import numpy as np"
   ]
  },
  {
   "cell_type": "markdown",
   "metadata": {},
   "source": [
    "1. Carga y exportacion de datos "
   ]
  },
  {
   "cell_type": "code",
   "execution_count": 4,
   "metadata": {},
   "outputs": [
    {
     "name": "stdout",
     "output_type": "stream",
     "text": [
      "Ruta actual: c:\\Users\\IABD12\\Documents\\GitHub\\ClaseIABD\\PIA\\pruebaPIA_1\\UNIDAD_3\\Notebooks\\indicator.csv\n"
     ]
    }
   ],
   "source": [
    "import os\n",
    "ruta = os.getcwd()\n",
    "ruta = os.path.join(ruta, \"indicator.csv\")\n"
   ]
  },
  {
   "cell_type": "code",
   "execution_count": 5,
   "metadata": {},
   "outputs": [
    {
     "data": {
      "text/plain": [
       "array([[   nan,    nan,  2022., ...,  2005.,  2004.,  2003.],\n",
       "       [48001.,    nan, 17251., ..., 20306., 20676., 19577.],\n",
       "       [20001.,    nan,  2019., ...,  2224.,  2084.,  2194.],\n",
       "       ...,\n",
       "       [ 1063.,    nan,  3372., ...,  4119.,  4179.,  4063.],\n",
       "       [20081.,    nan,  7522., ...,  9083.,  8730.,  8317.],\n",
       "       [20080.,    nan,  3258., ..., 53832., 56652., 65023.]],\n",
       "      shape=(252, 22))"
      ]
     },
     "execution_count": 5,
     "metadata": {},
     "output_type": "execute_result"
    }
   ],
   "source": [
    "# Establecemos el delimitador del csv y su codificación\n",
    "array = np.genfromtxt(ruta, delimiter=';', encoding='ISO-8859-1')\n",
    "array"
   ]
  },
  {
   "cell_type": "code",
   "execution_count": 6,
   "metadata": {},
   "outputs": [
    {
     "data": {
      "text/plain": [
       "array([[    0.,     0.,  2022., ...,  2005.,  2004.,  2003.],\n",
       "       [48001.,     0., 17251., ..., 20306., 20676., 19577.],\n",
       "       [20001.,     0.,  2019., ...,  2224.,  2084.,  2194.],\n",
       "       ...,\n",
       "       [ 1063.,     0.,  3372., ...,  4119.,  4179.,  4063.],\n",
       "       [20081.,     0.,  7522., ...,  9083.,  8730.,  8317.],\n",
       "       [20080.,     0.,  3258., ..., 53832., 56652., 65023.]],\n",
       "      shape=(252, 22))"
      ]
     },
     "execution_count": 6,
     "metadata": {},
     "output_type": "execute_result"
    }
   ],
   "source": [
    "# Como vemos múltiples huecos vacíos (NaN), vamos a utilizar el metodo \"filling_values\"\n",
    "array = np.genfromtxt(ruta, delimiter=';', encoding='ISO-8859-1', filling_values=0)\n",
    "array"
   ]
  },
  {
   "cell_type": "code",
   "execution_count": 11,
   "metadata": {},
   "outputs": [
    {
     "data": {
      "text/plain": [
       "array([[48001.,     0., 17251., ..., 20306., 20676., 19577.],\n",
       "       [20001.,     0.,  2019., ...,  2224.,  2084.,  2194.],\n",
       "       [48002.,     0.,  6706., ...,  5384.,  4998.,  4378.],\n",
       "       ...,\n",
       "       [ 1063.,     0.,  3372., ...,  4119.,  4179.,  4063.],\n",
       "       [20081.,     0.,  7522., ...,  9083.,  8730.,  8317.],\n",
       "       [20080.,     0.,  3258., ..., 53832., 56652., 65023.]],\n",
       "      shape=(251, 22))"
      ]
     },
     "execution_count": 11,
     "metadata": {},
     "output_type": "execute_result"
    }
   ],
   "source": [
    "# Como no tiene sentido la primera fila, la eliminamos\n",
    "array = np.genfromtxt(ruta, delimiter=';', encoding='ISO-8859-1', filling_values=0, skip_header=1)\n",
    "array"
   ]
  },
  {
   "cell_type": "code",
   "execution_count": 13,
   "metadata": {},
   "outputs": [
    {
     "data": {
      "text/plain": [
       "array([[48001,     0, 17251, ..., 20306, 20676, 19577],\n",
       "       [20001,     0,  2019, ...,  2224,  2084,  2194],\n",
       "       [48002,     0,  6706, ...,  5384,  4998,  4378],\n",
       "       ...,\n",
       "       [ 1063,     0,  3372, ...,  4119,  4179,  4063],\n",
       "       [20081,     0,  7522, ...,  9083,  8730,  8317],\n",
       "       [20080,     0,  3258, ..., 53832, 56652, 65023]], shape=(251, 22))"
      ]
     },
     "execution_count": 13,
     "metadata": {},
     "output_type": "execute_result"
    }
   ],
   "source": [
    "# Tampoco tiene sentido que todo sean float, si está trabajando con números enteros\n",
    "array = np.genfromtxt(ruta, delimiter=';', encoding='ISO-8859-1', filling_values=0, skip_header=1 , dtype=int)\n",
    "array"
   ]
  },
  {
   "cell_type": "code",
   "execution_count": 14,
   "metadata": {},
   "outputs": [],
   "source": [
    "# Para exportar un fichero\n",
    "ruta_salida = os.getcwd()\n",
    "ruta_salida = os.path.join(ruta_salida, \"indicator_copia.csv\")\n",
    "np.savetxt(ruta_salida, array, delimiter=';')"
   ]
  },
  {
   "cell_type": "code",
   "execution_count": 15,
   "metadata": {},
   "outputs": [],
   "source": [
    "# Como exporta por defecto en notación científica y no es lo que buscamos\n",
    "np.savetxt(ruta_salida, array, delimiter=';', fmt='%d')\n"
   ]
  },
  {
   "cell_type": "markdown",
   "metadata": {},
   "source": [
    "2. Imagenes en NumPy"
   ]
  },
  {
   "cell_type": "code",
   "execution_count": 20,
   "metadata": {},
   "outputs": [],
   "source": [
    "\n",
    "import cv2\n",
    "ruta = os.getcwd()\n",
    "ruta = os.path.join(ruta, \"minimagen.png\")"
   ]
  },
  {
   "cell_type": "code",
   "execution_count": 21,
   "metadata": {},
   "outputs": [
    {
     "data": {
      "text/plain": [
       "array([[187, 158, 104, 121, 143],\n",
       "       [198, 125, 255, 255, 147],\n",
       "       [209, 134, 255,  97, 182]], dtype=uint8)"
      ]
     },
     "execution_count": 21,
     "metadata": {},
     "output_type": "execute_result"
    }
   ],
   "source": [
    "# Guardamos la imagen\n",
    "minimagen = cv2.imread(ruta, 0) # 0 -- > Escala de grises, 1 --> BGR\n",
    "minimagen\n"
   ]
  },
  {
   "cell_type": "code",
   "execution_count": 22,
   "metadata": {},
   "outputs": [
    {
     "data": {
      "text/plain": [
       "array([[[187, 187, 187],\n",
       "        [158, 158, 158],\n",
       "        [104, 104, 104],\n",
       "        [121, 121, 121],\n",
       "        [143, 143, 143]],\n",
       "\n",
       "       [[198, 198, 198],\n",
       "        [125, 125, 125],\n",
       "        [255, 255, 255],\n",
       "        [255, 255, 255],\n",
       "        [147, 147, 147]],\n",
       "\n",
       "       [[209, 209, 209],\n",
       "        [134, 134, 134],\n",
       "        [255, 255, 255],\n",
       "        [ 97,  97,  97],\n",
       "        [182, 182, 182]]], dtype=uint8)"
      ]
     },
     "execution_count": 22,
     "metadata": {},
     "output_type": "execute_result"
    }
   ],
   "source": [
    "# Podemos observar que el blanco corresponde al 255\n",
    "minimagen_color = cv2.imread(ruta, 1)\n",
    "minimagen_color"
   ]
  },
  {
   "cell_type": "code",
   "execution_count": 24,
   "metadata": {},
   "outputs": [
    {
     "data": {
      "text/plain": [
       "array([[[187, 237, 187],\n",
       "        [158, 208, 158],\n",
       "        [104, 154, 104],\n",
       "        [121, 171, 121],\n",
       "        [143, 193, 143]],\n",
       "\n",
       "       [[198, 248, 198],\n",
       "        [125, 175, 125],\n",
       "        [255, 305, 255],\n",
       "        [255, 305, 255],\n",
       "        [147, 197, 147]],\n",
       "\n",
       "       [[209, 259, 209],\n",
       "        [134, 184, 134],\n",
       "        [255, 305, 255],\n",
       "        [ 97, 147,  97],\n",
       "        [182, 232, 182]]])"
      ]
     },
     "execution_count": 24,
     "metadata": {},
     "output_type": "execute_result"
    }
   ],
   "source": [
    "# Adjustar el color verde\n",
    "adjuste_verde = np.array([[[0,50,0]]])\n",
    "minimagen_verde = minimagen_color + adjuste_verde\n",
    "minimagen_verde"
   ]
  },
  {
   "cell_type": "code",
   "execution_count": 25,
   "metadata": {},
   "outputs": [
    {
     "data": {
      "text/plain": [
       "array([[[187, 237, 187],\n",
       "        [158, 208, 158],\n",
       "        [104, 154, 104],\n",
       "        [121, 171, 121],\n",
       "        [143, 193, 143]],\n",
       "\n",
       "       [[198, 248, 198],\n",
       "        [125, 175, 125],\n",
       "        [255, 255, 255],\n",
       "        [255, 255, 255],\n",
       "        [147, 197, 147]],\n",
       "\n",
       "       [[209, 255, 209],\n",
       "        [134, 184, 134],\n",
       "        [255, 255, 255],\n",
       "        [ 97, 147,  97],\n",
       "        [182, 232, 182]]])"
      ]
     },
     "execution_count": 25,
     "metadata": {},
     "output_type": "execute_result"
    }
   ],
   "source": [
    "# Limitamos el valor máximo\n",
    "minimagen_verde = np.clip(minimagen_verde, 0, 255)\n",
    "minimagen_verde"
   ]
  },
  {
   "cell_type": "code",
   "execution_count": 26,
   "metadata": {},
   "outputs": [
    {
     "data": {
      "text/plain": [
       "True"
      ]
     },
     "execution_count": 26,
     "metadata": {},
     "output_type": "execute_result"
    }
   ],
   "source": [
    "# Guardar la image\n",
    "cv2.imwrite(\"minimagen_verde.png\", minimagen_verde)"
   ]
  },
  {
   "cell_type": "code",
   "execution_count": 29,
   "metadata": {},
   "outputs": [
    {
     "data": {
      "text/plain": [
       "(np.float64(-0.5), np.float64(4.5), np.float64(2.5), np.float64(-0.5))"
      ]
     },
     "execution_count": 29,
     "metadata": {},
     "output_type": "execute_result"
    },
    {
     "data": {
      "image/png": "[encoded data removed]",
      "text/plain": [
       "<Figure size 640x480 with 1 Axes>"
      ]
     },
     "metadata": {},
     "output_type": "display_data"
    }
   ],
   "source": [
    "# Para mostrarla\n",
    "import matplotlib.pyplot as plt\n",
    "plt.imshow(minimagen_verde)\n",
    "plt.axis('off')"
   ]
  },
  {
   "cell_type": "code",
   "execution_count": 30,
   "metadata": {},
   "outputs": [
    {
     "data": {
      "text/plain": [
       "(np.float64(-0.5), np.float64(4.5), np.float64(2.5), np.float64(-0.5))"
      ]
     },
     "execution_count": 30,
     "metadata": {},
     "output_type": "execute_result"
    },
    {
     "data": {
      "image/png": "[encoded data removed]",
      "text/plain": [
       "<Figure size 640x480 with 1 Axes>"
      ]
     },
     "metadata": {},
     "output_type": "display_data"
    }
   ],
   "source": [
    "# Para mostrarla\n",
    "plt.imshow(minimagen)\n",
    "plt.axis('off')"
   ]
  }
 ],
 "metadata": {
  "kernelspec": {
   "display_name": "Python 3",
   "language": "python",
   "name": "python3"
  },
  "language_info": {
   "codemirror_mode": {
    "name": "ipython",
    "version": 3
   },
   "file_extension": ".py",
   "mimetype": "text/x-python",
   "name": "python",
   "nbconvert_exporter": "python",
   "pygments_lexer": "ipython3",
   "version": "3.12.7"
  }
 },
 "nbformat": 4,
 "nbformat_minor": 2
}
