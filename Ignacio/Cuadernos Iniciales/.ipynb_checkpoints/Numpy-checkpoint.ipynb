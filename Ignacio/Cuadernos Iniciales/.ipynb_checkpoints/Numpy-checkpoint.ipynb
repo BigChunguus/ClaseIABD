{
 "cells": [
  {
   "cell_type": "markdown",
   "id": "46bd7320-c3d9-4570-ae01-259306286a5d",
   "metadata": {},
   "source": [
    "# Arrays"
   ]
  },
  {
   "cell_type": "code",
   "execution_count": 3,
   "id": "a8679f03-29f4-4ad0-8ca4-208e9a9d0eda",
   "metadata": {
    "tags": []
   },
   "outputs": [
    {
     "name": "stdout",
     "output_type": "stream",
     "text": [
      "<class 'numpy.ndarray'>\n",
      "[1 2]\n"
     ]
    }
   ],
   "source": [
    "import numpy as np\n",
    "arr_datos = np.array([1,2])\n",
    "print(type(arr_datos))\n",
    "print(arr_datos)"
   ]
  },
  {
   "cell_type": "code",
   "execution_count": 4,
   "id": "8640f33f-87aa-4768-8827-8a6a35b92d37",
   "metadata": {
    "tags": []
   },
   "outputs": [
    {
     "name": "stdout",
     "output_type": "stream",
     "text": [
      "<class 'numpy.ndarray'>\n",
      "[[1 2]\n",
      " [3 4]]\n"
     ]
    }
   ],
   "source": [
    "import numpy as np\n",
    "arr_datos = np.array([[1,2],[3,4]])\n",
    "print(type(arr_datos))\n",
    "print(arr_datos)"
   ]
  },
  {
   "cell_type": "code",
   "execution_count": 5,
   "id": "569a0121-4f36-4662-8615-2451f76930d5",
   "metadata": {
    "tags": []
   },
   "outputs": [
    {
     "name": "stdout",
     "output_type": "stream",
     "text": [
      "<class 'numpy.ndarray'>\n",
      "[[1 2]\n",
      " [3 4]\n",
      " [5 6]]\n"
     ]
    }
   ],
   "source": [
    "import numpy as np\n",
    "arr_datos = np.array([[1,2],[3,4],[5,6]])\n",
    "print(type(arr_datos))\n",
    "print(arr_datos)"
   ]
  },
  {
   "cell_type": "markdown",
   "id": "b1fb872b-0ddb-4dd8-9345-6f5027548461",
   "metadata": {},
   "source": [
    "# Estadística"
   ]
  },
  {
   "cell_type": "code",
   "execution_count": 8,
   "id": "b5113b6f-fa36-48b1-a8b3-27a2a949dea3",
   "metadata": {
    "tags": []
   },
   "outputs": [
    {
     "name": "stdout",
     "output_type": "stream",
     "text": [
      "Media:  8.428571428571429\n",
      "Mediana:  7.0\n",
      "Mínimo:  1\n",
      "Máximo:  23\n",
      "Desviación Típica:  7.188426071662357\n",
      "Varianza:  51.673469387755105\n",
      "Percemntil 25:  3.0\n",
      "Percemntil 50:  7.0\n",
      "Cuartiles:  [ 3.  7. 11.]\n"
     ]
    }
   ],
   "source": [
    "import numpy as np\n",
    "arr_datos = np.array([4, 2, 7, 14, 8, 23, 1])\n",
    "media = np.mean(arr_datos)\n",
    "mediana = np.median(arr_datos)\n",
    "# En Numphy no hay una función para calcular la moda. Utilizar Scipy o Statistics\n",
    "minimo = np.min(arr_datos)\n",
    "maximo = np.max(arr_datos)\n",
    "desviacion_tipica = np.std(arr_datos)\n",
    "varianza = np.var(arr_datos)\n",
    "percentil25 = np.percentile(arr_datos, 25)\n",
    "# El percentil 50 es la mediana\n",
    "percentil50 = np.percentile(arr_datos, 50)\n",
    "cuartiles = np.percentile(arr_datos, [25, 50, 75])\n",
    "print('Media: ', media)\n",
    "print('Mediana: ', mediana)\n",
    "print('Mínimo: ', minimo)\n",
    "print('Máximo: ', maximo)\n",
    "print('Desviación Típica: ', desviacion_tipica)\n",
    "print('Varianza: ', varianza)\n",
    "print('Percemntil 25: ', percentil25)\n",
    "print('Percemntil 50: ', percentil50)\n",
    "print('Cuartiles: ', cuartiles)"
   ]
  },
  {
   "cell_type": "code",
   "execution_count": null,
   "id": "ba3e1459-872d-43a2-a9c9-021b380b2c9c",
   "metadata": {},
   "outputs": [],
   "source": []
  }
 ],
 "metadata": {
  "kernelspec": {
   "display_name": "Python 3 (ipykernel)",
   "language": "python",
   "name": "python3"
  },
  "language_info": {
   "codemirror_mode": {
    "name": "ipython",
    "version": 3
   },
   "file_extension": ".py",
   "mimetype": "text/x-python",
   "name": "python",
   "nbconvert_exporter": "python",
   "pygments_lexer": "ipython3",
   "version": "3.11.3"
  }
 },
 "nbformat": 4,
 "nbformat_minor": 5
}
