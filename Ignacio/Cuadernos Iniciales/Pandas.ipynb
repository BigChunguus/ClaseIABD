{
 "cells": [
  {
   "cell_type": "markdown",
   "id": "80226249-64c9-4132-a964-1cfe568cea1a",
   "metadata": {
    "tags": []
   },
   "source": [
    "# Series"
   ]
  },
  {
   "cell_type": "code",
   "execution_count": 3,
   "id": "40585714-b82c-451d-8ca8-d79c5fe8fe43",
   "metadata": {
    "tags": []
   },
   "outputs": [
    {
     "name": "stdout",
     "output_type": "stream",
     "text": [
      "0     Patatas\n",
      "1      Huevos\n",
      "2       Leche\n",
      "3    Manzanas\n",
      "4      Tomate\n",
      "dtype: object\n"
     ]
    }
   ],
   "source": [
    "import pandas as pd\n",
    "list_ingredientes = ['Patatas', 'Huevos', 'Leche', 'Manzanas', 'Tomate']\n",
    "ser_ingredientes = pd.Series(list_ingredientes)\n",
    "print(ser_ingredientes)"
   ]
  },
  {
   "cell_type": "markdown",
   "id": "963fb6cf-68f2-44b2-b230-76e5716fd668",
   "metadata": {
    "tags": []
   },
   "source": [
    "# DataFrames"
   ]
  },
  {
   "cell_type": "markdown",
   "id": "9e70022f-c37b-478d-8a1a-5a99a103d121",
   "metadata": {
    "tags": []
   },
   "source": [
    "## Creación de DataFrames"
   ]
  },
  {
   "cell_type": "code",
   "execution_count": 6,
   "id": "60a6618e-9e9a-4853-a5a2-cc056316bbdd",
   "metadata": {
    "tags": []
   },
   "outputs": [
    {
     "name": "stdout",
     "output_type": "stream",
     "text": [
      "      Education  JoiningYear       City  PaymentTier  Age  Gender EverBenched  \\\n",
      "0     Bachelors         2017  Bangalore            3   34    Male          No   \n",
      "1     Bachelors         2013       Pune            1   28  Female          No   \n",
      "2     Bachelors         2014  New Delhi            3   38  Female          No   \n",
      "3       Masters         2016  Bangalore            3   27    Male          No   \n",
      "4       Masters         2017       Pune            3   24    Male         Yes   \n",
      "...         ...          ...        ...          ...  ...     ...         ...   \n",
      "4648  Bachelors         2013  Bangalore            3   26  Female          No   \n",
      "4649    Masters         2013       Pune            2   37    Male          No   \n",
      "4650    Masters         2018  New Delhi            3   27    Male          No   \n",
      "4651  Bachelors         2012  Bangalore            3   30    Male         Yes   \n",
      "4652  Bachelors         2015  Bangalore            3   33    Male         Yes   \n",
      "\n",
      "      ExperienceInCurrentDomain  LeaveOrNot  \n",
      "0                             0           0  \n",
      "1                             3           1  \n",
      "2                             2           0  \n",
      "3                             5           1  \n",
      "4                             2           1  \n",
      "...                         ...         ...  \n",
      "4648                          4           0  \n",
      "4649                          2           1  \n",
      "4650                          5           1  \n",
      "4651                          2           0  \n",
      "4652                          4           0  \n",
      "\n",
      "[4653 rows x 9 columns]\n"
     ]
    }
   ],
   "source": [
    "import pandas as pd\n",
    "\n",
    "df_empleados = pd.read_csv(\"datos/Employee.csv\")\n",
    "print(df_empleados)"
   ]
  },
  {
   "cell_type": "code",
   "execution_count": 7,
   "id": "6ca3d19e-ff08-4c3c-bb23-30b000707b3d",
   "metadata": {
    "tags": []
   },
   "outputs": [
    {
     "name": "stdout",
     "output_type": "stream",
     "text": [
      "<class 'dict'>\n",
      "   PERSONA_ID NOMBRE FECHA_NACIMIENTO  SOLTERO  ALTURA  PESO\n",
      "0           1   Pepe       2007-10-11     True     180  82.5\n",
      "1           2    Ana       2005-11-15    False     178  74.8\n",
      "2           3   Luis       2000-01-21     True     174  80.5\n",
      "3           4    Eva       2002-06-02     True     182  81.0\n"
     ]
    }
   ],
   "source": [
    "import pandas as pd\n",
    "import numpy as np\n",
    "dic_personas = {\n",
    "    'PERSONA_ID' : [1, 2, 3, 4],\n",
    "    'NOMBRE' : ['Pepe', 'Ana', 'Luis', 'Eva'],\n",
    "    'FECHA_NACIMIENTO' : [np.datetime64('2007-10-11'), np.datetime64('2005-11-15'), np.datetime64('2000-01-21'), np.datetime64('2002-06-02')],\n",
    "    'SOLTERO' : [True, False, True, True],\n",
    "    'ALTURA' : [180, 178, 174, 182],\n",
    "    'PESO' : [82.5, 74.8, 80.5, 81]\n",
    "}\n",
    "print(type(dic_personas))\n",
    "df_personas = pd.DataFrame(dic_personas)\n",
    "print(df_personas)"
   ]
  },
  {
   "cell_type": "code",
   "execution_count": 8,
   "id": "8601867d-caad-4b1a-b25e-36d0ad8356f1",
   "metadata": {
    "tags": []
   },
   "outputs": [
    {
     "name": "stdout",
     "output_type": "stream",
     "text": [
      "   PERSONA_ID   NOMBRE FECHA_NACIMIENTO  SOLTERO  ALTURA  PESO\n",
      "0          55  Antonio       2001-01-10    False     174  78.1\n",
      "1          56     Juan       2002-05-22     True     189  99.5\n",
      "2          57    María       2000-10-11    False     172  72.5\n"
     ]
    }
   ],
   "source": [
    "import pandas as pd\n",
    "import numpy as np\n",
    "df_personas = pd.DataFrame(\n",
    "    [\n",
    "      [55, 'Antonio', np.datetime64('2001-01-10'), False, 174, 78.1], \n",
    "      [56, 'Juan', np.datetime64('2002-05-22'), True, 189, 99.5], \n",
    "      [57, 'María', np.datetime64('2000-10-11'), False, 172, 72.5]\n",
    "    ],\n",
    "    columns=['PERSONA_ID', 'NOMBRE', 'FECHA_NACIMIENTO', 'SOLTERO', 'ALTURA', 'PESO']\n",
    "    )\n",
    "print(df_personas)"
   ]
  },
  {
   "cell_type": "code",
   "execution_count": 12,
   "id": "82b2a46d-09d4-430e-a55d-1554a4571297",
   "metadata": {
    "tags": []
   },
   "outputs": [
    {
     "name": "stdout",
     "output_type": "stream",
     "text": [
      "<class 'numpy.ndarray'>\n",
      "   Nombre Apellido\n",
      "0     Ana     Ruiz\n",
      "1    Luis    Gómez\n",
      "2    Pepe      Cos\n",
      "3     Eva     Toro\n",
      "4    Juan   García\n",
      "5  Carlos     Sanz\n"
     ]
    }
   ],
   "source": [
    "import pandas as pd\n",
    "import numpy as np\n",
    "\n",
    "arr_alumnos = np.array([\n",
    "    ['Ana','Ruiz'],\n",
    "    ['Luis','Gómez'],\n",
    "    ['Pepe','Cos'],\n",
    "    ['Eva','Toro'],\n",
    "    ['Juan','García'],\n",
    "    ['Carlos','Sanz']\n",
    "])\n",
    "print(type(arr_alumnos))\n",
    "df_alumnos = pd.DataFrame(arr_alumnos, columns=['Nombre','Apellido'])\n",
    "print(df_alumnos)"
   ]
  },
  {
   "cell_type": "code",
   "execution_count": 1,
   "id": "92cecde0-7863-406f-8c99-c4e844b55713",
   "metadata": {
    "tags": []
   },
   "outputs": [
    {
     "name": "stdout",
     "output_type": "stream",
     "text": [
      "<class 'numpy.ndarray'>\n",
      "   Nombre Apellido\n",
      "0     Ana     Ruiz\n",
      "1    Luis    Gómez\n",
      "2    Pepe      Cos\n",
      "3     Eva     Toro\n",
      "4    Juan   García\n",
      "5  Carlos     Sanz\n"
     ]
    }
   ],
   "source": [
    "import pandas as pd\n",
    "import numpy as np\n",
    "\n",
    "arr_alumnos = np.array([\n",
    "    ['Ana','Luis','Pepe','Eva','Juan','Carlos'],\n",
    "    ['Ruiz','Gómez','Cos','Toro','García','Sanz']\n",
    "])\n",
    "print(type(arr_alumnos))\n",
    "df_alumnos = pd.DataFrame(arr_alumnos.T, columns=['Nombre','Apellido'])\n",
    "print(df_alumnos)\n"
   ]
  },
  {
   "cell_type": "code",
   "execution_count": 17,
   "id": "1e2f103b-b028-4042-ad80-60c49fc644ee",
   "metadata": {
    "tags": []
   },
   "outputs": [
    {
     "name": "stdout",
     "output_type": "stream",
     "text": [
      "<class 'list'>\n",
      "   Nombre Apellido\n",
      "0     Ana     Ruiz\n",
      "1    Luis    Gómez\n",
      "2    Pepe      Cos\n",
      "3     Eva     Toro\n",
      "4    Juan   García\n",
      "5  Carlos     Sanz\n"
     ]
    }
   ],
   "source": [
    "import pandas as pd\n",
    "import numpy as np\n",
    "\n",
    "list_alumnos = [\n",
    "    ['Ana','Luis','Pepe','Eva','Juan','Carlos'],\n",
    "    ['Ruiz','Gómez','Cos','Toro','García','Sanz']\n",
    "]\n",
    "print(type(list_alumnos))\n",
    "arr_alumnos = np.array(list_alumnos)\n",
    "df_alumnos = pd.DataFrame(arr_alumnos.T, columns=['Nombre','Apellido'])\n",
    "print(df_alumnos)"
   ]
  },
  {
   "cell_type": "code",
   "execution_count": 18,
   "id": "e238e641-306e-4050-8095-bde0ae448527",
   "metadata": {
    "tags": []
   },
   "outputs": [
    {
     "name": "stdout",
     "output_type": "stream",
     "text": [
      "<class 'list'>\n",
      "   Nombre Apellido\n",
      "0     Ana     Ruiz\n",
      "1    Luis    Gómez\n",
      "2    Pepe      Cos\n",
      "3     Eva     Toro\n",
      "4    Juan   García\n",
      "5  Carlos     Sanz\n"
     ]
    }
   ],
   "source": [
    "import pandas as pd\n",
    "import numpy as np\n",
    "\n",
    "list_alumnos = [\n",
    "    ['Ana','Ruiz'],\n",
    "    ['Luis','Gómez'],\n",
    "    ['Pepe','Cos'],\n",
    "    ['Eva','Toro'],\n",
    "    ['Juan','García'],\n",
    "    ['Carlos','Sanz']\n",
    "]\n",
    "print(type(list_alumnos))\n",
    "df_alumnos = pd.DataFrame(list_alumnos, columns=['Nombre','Apellido'])\n",
    "print(df_alumnos)"
   ]
  },
  {
   "cell_type": "markdown",
   "id": "ffc38244-3da7-4c24-92b4-55103d580b4b",
   "metadata": {
    "tags": []
   },
   "source": [
    "## Modificación de Estructura DataFrames"
   ]
  },
  {
   "cell_type": "code",
   "execution_count": 31,
   "id": "dbc0c788-c6bf-4bec-93d7-2a70df991705",
   "metadata": {
    "tags": []
   },
   "outputs": [
    {
     "name": "stdout",
     "output_type": "stream",
     "text": [
      "   Nombre Apellido\n",
      "0     Ana     Ruiz\n",
      "1    Luis    Gómez\n",
      "2    Pepe      Cos\n",
      "3     Eva     Toro\n",
      "4    Juan   García\n",
      "5  Carlos     Sanz\n"
     ]
    }
   ],
   "source": [
    "import pandas as pd\n",
    "import numpy as np\n",
    "\n",
    "arr_alumnos = np.array([\n",
    "    ['Ana','Ruiz'],\n",
    "    ['Luis','Gómez'],\n",
    "    ['Pepe','Cos'],\n",
    "    ['Eva','Toro'],\n",
    "    ['Juan','García'],\n",
    "    ['Carlos','Sanz']\n",
    "])\n",
    "df_alumnos = pd.DataFrame(arr_alumnos, columns=['Nombre','Apellido'])\n",
    "print(df_alumnos)"
   ]
  },
  {
   "cell_type": "code",
   "execution_count": 3,
   "id": "6509fbdf-d1a0-4676-a335-c79250055813",
   "metadata": {
    "tags": []
   },
   "outputs": [
    {
     "name": "stdout",
     "output_type": "stream",
     "text": [
      "<class 'list'>\n",
      "   Nombre Apellido  Matematicas  Lenguaje  Sociales\n",
      "0     Ana     Ruiz            3         4         4\n",
      "1    Luis    Gómez            7         4         4\n",
      "2    Pepe      Cos            5         8         8\n",
      "3     Eva     Toro            5         2         2\n",
      "4    Juan   García            1         6         6\n",
      "5  Carlos     Sanz            9         7         7\n"
     ]
    }
   ],
   "source": [
    "list_matematicas = [3, 7, 5, 5, 1, 9]\n",
    "arr_lenguaje = np.array([4, 4, 8, 2, 6, 7])\n",
    "ser_sociales = pd.Series([4, 4, 8, 2, 6, 7])\n",
    "print(type(list_matematicas))\n",
    "df_alumnos['Matematicas'] = list_matematicas\n",
    "df_alumnos['Lenguaje'] = arr_lenguaje\n",
    "df_alumnos['Sociales'] = ser_sociales\n",
    "print(df_alumnos)"
   ]
  },
  {
   "cell_type": "code",
   "execution_count": 32,
   "id": "f0dc843f-950b-41d1-ba8d-e01522a1308d",
   "metadata": {
    "tags": []
   },
   "outputs": [
    {
     "name": "stdout",
     "output_type": "stream",
     "text": [
      "   Nombre Apellido        DNI Localidad\n",
      "0     Ana     Ruiz  11111111A    Laredo\n",
      "1    Luis    Gómez  22222222B    Castro\n",
      "2    Pepe      Cos  33333333C    Cicero\n",
      "3     Eva     Toro  44444444D      Noja\n",
      "4    Juan   García  55555555E   Meruelo\n",
      "5  Carlos     Sanz  66666666F      Gama\n"
     ]
    }
   ],
   "source": [
    "arr_nuevas_columnas = np.array([\n",
    "    ['11111111A','Laredo'],\n",
    "    ['22222222B','Castro'],\n",
    "    ['33333333C','Cicero'],\n",
    "    ['44444444D','Noja'],\n",
    "    ['55555555E','Meruelo'],\n",
    "    ['66666666F','Gama']\n",
    "])\n",
    "df_nuevas_columnas = pd.DataFrame(arr_nuevas_columnas, columns=['DNI','Localidad'])\n",
    "# df_alumnos = pd.concat([df_alumnos, df_nuevas_columnas], axis = 1)\n",
    "df_alumnos = df_alumnos.join(df_nuevas_columnas)\n",
    "print(df_alumnos)"
   ]
  },
  {
   "cell_type": "code",
   "execution_count": 33,
   "id": "f4651dae-c917-496e-b462-73aaceb35c8e",
   "metadata": {},
   "outputs": [
    {
     "name": "stdout",
     "output_type": "stream",
     "text": [
      "<class 'pandas.core.series.Series'>\n",
      "0    11111111A\n",
      "1    22222222B\n",
      "2    33333333C\n",
      "3    44444444D\n",
      "4    55555555E\n",
      "5    66666666F\n",
      "Name: DNI, dtype: object\n",
      "<class 'pandas.core.frame.DataFrame'>\n",
      "         DNI Apellido\n",
      "0  11111111A     Ruiz\n",
      "1  22222222B    Gómez\n",
      "2  33333333C      Cos\n",
      "3  44444444D     Toro\n",
      "4  55555555E   García\n",
      "5  66666666F     Sanz\n"
     ]
    }
   ],
   "source": [
    "ser_alumnos_reducido = df_alumnos['DNI']\n",
    "df_alumnos_reducido = df_alumnos[['DNI','Apellido']]\n",
    "print(type(ser_alumnos_reducido))\n",
    "print(ser_alumnos_reducido)\n",
    "print(type(df_alumnos_reducido))\n",
    "print(df_alumnos_reducido)"
   ]
  },
  {
   "cell_type": "markdown",
   "id": "dbe966a1-77aa-4fb5-9ced-403a9fe18938",
   "metadata": {
    "jp-MarkdownHeadingCollapsed": true,
    "tags": []
   },
   "source": [
    "## Modificación del Contenido de un DataFrame"
   ]
  },
  {
   "cell_type": "code",
   "execution_count": 26,
   "id": "7bb07115-fd2d-49ae-aef1-1c9f0f39e08d",
   "metadata": {
    "tags": []
   },
   "outputs": [
    {
     "name": "stdout",
     "output_type": "stream",
     "text": [
      "   Nombre Apellido\n",
      "0     Ana     Ruiz\n",
      "1    Luis    Gómez\n",
      "2    Pepe      Cos\n",
      "3     Eva     Toro\n",
      "4    Juan   García\n",
      "5  Carlos     Sanz\n"
     ]
    }
   ],
   "source": [
    "import pandas as pd\n",
    "import numpy as np\n",
    "\n",
    "arr_alumnos = np.array([\n",
    "    ['Ana','Ruiz'],\n",
    "    ['Luis','Gómez'],\n",
    "    ['Pepe','Cos'],\n",
    "    ['Eva','Toro'],\n",
    "    ['Juan','García'],\n",
    "    ['Carlos','Sanz']\n",
    "])\n",
    "df_alumnos = pd.DataFrame(arr_alumnos, columns=['Nombre','Apellido'])\n",
    "print(df_alumnos)"
   ]
  },
  {
   "cell_type": "code",
   "execution_count": 28,
   "id": "1ee41cd8-470c-4fd3-bfe4-3370a4a9ba60",
   "metadata": {
    "tags": []
   },
   "outputs": [
    {
     "name": "stdout",
     "output_type": "stream",
     "text": [
      "    Nombre Apellido\n",
      "0      Ana     Ruiz\n",
      "1     Luis    Gómez\n",
      "2     Pepe      Cos\n",
      "3      Eva     Toro\n",
      "4     Juan   García\n",
      "5   Carlos     Sanz\n",
      "0      Ana     Ruiz\n",
      "1     Luis    Gómez\n",
      "0  Enrique   Clavel\n",
      "1   Teresa     Pozo\n"
     ]
    }
   ],
   "source": [
    "import pandas as pd\n",
    "import numpy as np\n",
    "\n",
    "arr_nuevos_alumnos = np.array([\n",
    "    ['Enrique','Clavel'],\n",
    "    ['Teresa','Pozo'],\n",
    "])\n",
    "df_nuevos_alumnos = pd.DataFrame(arr_nuevos_alumnos, columns=['Nombre','Apellido'])\n",
    "df_alumnos = pd.concat([df_alumnos, df_nuevos_alumnos], axis = 0)\n",
    "\n",
    "print(df_alumnos)"
   ]
  },
  {
   "cell_type": "markdown",
   "id": "d15256d6-bd44-4d92-a69c-53849d125fd4",
   "metadata": {
    "tags": []
   },
   "source": [
    "# Estadística"
   ]
  },
  {
   "cell_type": "code",
   "execution_count": 34,
   "id": "0fcaf5ee-cbc5-4f26-9429-684274336e43",
   "metadata": {
    "tags": []
   },
   "outputs": [
    {
     "name": "stdout",
     "output_type": "stream",
     "text": [
      "      Education  JoiningYear       City  PaymentTier  Age  Gender EverBenched  \\\n",
      "0     Bachelors         2017  Bangalore            3   34    Male          No   \n",
      "1     Bachelors         2013       Pune            1   28  Female          No   \n",
      "2     Bachelors         2014  New Delhi            3   38  Female          No   \n",
      "3       Masters         2016  Bangalore            3   27    Male          No   \n",
      "4       Masters         2017       Pune            3   24    Male         Yes   \n",
      "...         ...          ...        ...          ...  ...     ...         ...   \n",
      "4648  Bachelors         2013  Bangalore            3   26  Female          No   \n",
      "4649    Masters         2013       Pune            2   37    Male          No   \n",
      "4650    Masters         2018  New Delhi            3   27    Male          No   \n",
      "4651  Bachelors         2012  Bangalore            3   30    Male         Yes   \n",
      "4652  Bachelors         2015  Bangalore            3   33    Male         Yes   \n",
      "\n",
      "      ExperienceInCurrentDomain  LeaveOrNot  \n",
      "0                             0           0  \n",
      "1                             3           1  \n",
      "2                             2           0  \n",
      "3                             5           1  \n",
      "4                             2           1  \n",
      "...                         ...         ...  \n",
      "4648                          4           0  \n",
      "4649                          2           1  \n",
      "4650                          5           1  \n",
      "4651                          2           0  \n",
      "4652                          4           0  \n",
      "\n",
      "[4653 rows x 9 columns]\n"
     ]
    }
   ],
   "source": [
    "import pandas as pd\n",
    "\n",
    "df_empleados = pd.read_csv(\"datos/Employee.csv\")\n",
    "print(df_empleados)"
   ]
  },
  {
   "cell_type": "code",
   "execution_count": 40,
   "id": "fa41c03d-752b-47fe-aa88-afc97063b266",
   "metadata": {
    "tags": []
   },
   "outputs": [
    {
     "name": "stdout",
     "output_type": "stream",
     "text": [
      "Cantidad de Edades:  4653\n",
      "Suma de todas las Edades:  136767\n",
      "Suma acumulada de las Edades:\n",
      " 0           34\n",
      "1           62\n",
      "2          100\n",
      "3          127\n",
      "4          151\n",
      "         ...  \n",
      "4648    136640\n",
      "4649    136677\n",
      "4650    136704\n",
      "4651    136734\n",
      "4652    136767\n",
      "Name: Age, Length: 4653, dtype: int64\n",
      "Cantidad de Edades por Edad:\n",
      " 26    645\n",
      "28    630\n",
      "27    625\n",
      "25    418\n",
      "24    385\n",
      "29    230\n",
      "30    220\n",
      "37    141\n",
      "36    139\n",
      "34    136\n",
      "38    136\n",
      "40    134\n",
      "32    132\n",
      "39    131\n",
      "31    125\n",
      "33    124\n",
      "35    123\n",
      "41     82\n",
      "22     49\n",
      "23     48\n",
      "Name: Age, dtype: int64\n",
      "Mínimo:  22\n",
      "Máximo:  41\n",
      "Media:  29.393294648613796\n",
      "Varianza:  23.29111581965519\n",
      "Desviación Típica:  4.826087009126047\n",
      "describe:  count    4653.000000\n",
      "mean       29.393295\n",
      "std         4.826087\n",
      "min        22.000000\n",
      "25%        26.000000\n",
      "50%        28.000000\n",
      "75%        32.000000\n",
      "max        41.000000\n",
      "Name: Age, dtype: float64\n"
     ]
    }
   ],
   "source": [
    "ser_edades = df_empleados['Age']\n",
    "print('Cantidad de Edades: ', ser_edades.count())\n",
    "print('Suma de todas las Edades: ', ser_edades.sum())\n",
    "print('Suma acumulada de las Edades: \\n', ser_edades.cumsum())\n",
    "print('Cantidad de Edades por Edad: \\n', ser_edades.value_counts())\n",
    "print('Mínimo: ', ser_edades.min())\n",
    "print('Máximo: ', ser_edades.max())\n",
    "print('Media: ', ser_edades.mean())\n",
    "print('Varianza: ', ser_edades.var())\n",
    "print('Desviación Típica: ', ser_edades.std())\n",
    "print('Datos Estadísticos: \\n', ser_edades.describe())"
   ]
  },
  {
   "cell_type": "code",
   "execution_count": null,
   "id": "ef0ce787-5020-4e69-b28d-05b626136dbe",
   "metadata": {},
   "outputs": [],
   "source": []
  },
  {
   "cell_type": "code",
   "execution_count": null,
   "id": "15337485-8fc4-4f61-9ef7-cd999829420f",
   "metadata": {},
   "outputs": [],
   "source": []
  }
 ],
 "metadata": {
  "kernelspec": {
   "display_name": "Python 3 (ipykernel)",
   "language": "python",
   "name": "python3"
  },
  "language_info": {
   "codemirror_mode": {
    "name": "ipython",
    "version": 3
   },
   "file_extension": ".py",
   "mimetype": "text/x-python",
   "name": "python",
   "nbconvert_exporter": "python",
   "pygments_lexer": "ipython3",
   "version": "3.12.4"
  }
 },
 "nbformat": 4,
 "nbformat_minor": 5
}
