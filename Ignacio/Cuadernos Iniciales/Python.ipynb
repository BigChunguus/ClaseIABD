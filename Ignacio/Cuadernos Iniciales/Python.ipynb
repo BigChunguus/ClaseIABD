{
 "cells": [
  {
   "cell_type": "markdown",
   "id": "ba9215ea-4e65-422c-841e-b8d02b7f810f",
   "metadata": {},
   "source": [
    "# Listas"
   ]
  },
  {
   "cell_type": "code",
   "execution_count": 1,
   "id": "2c222861-d7d6-456e-b567-536dcfd1d4a7",
   "metadata": {
    "tags": []
   },
   "outputs": [
    {
     "name": "stdout",
     "output_type": "stream",
     "text": [
      "<class 'list'>\n",
      "['ana', True, 21, 8.75, 'luis', 1, 2, 3, 4]\n"
     ]
    }
   ],
   "source": [
    "list_datos = [\"ana\", True, 21, 8.75, \"luis\"]\n",
    "list_otros_datos = [1, 2, 3, 4]\n",
    "list_datos = list_datos + list_otros_datos\n",
    "print(type(list_datos))\n",
    "print(list_datos)"
   ]
  },
  {
   "cell_type": "markdown",
   "id": "ac394380-8d92-43a5-9cf3-b09913a75d54",
   "metadata": {},
   "source": [
    "# Tuplas"
   ]
  },
  {
   "cell_type": "code",
   "execution_count": 2,
   "id": "ab6f78f2-1128-4739-9db3-2fb897115e47",
   "metadata": {
    "tags": []
   },
   "outputs": [
    {
     "name": "stdout",
     "output_type": "stream",
     "text": [
      "<class 'tuple'>\n",
      "(23, 'Ana', False, 'Ana', 24.68, 'Pepe')\n"
     ]
    }
   ],
   "source": [
    "tup_datos = (23,\"Ana\",False,\"Ana\", 24.68,\"Pepe\")\n",
    "print(type(tup_datos))\n",
    "print(tup_datos)"
   ]
  },
  {
   "cell_type": "markdown",
   "id": "f790da7a-6586-4f37-9c55-be1d67683b0c",
   "metadata": {},
   "source": [
    "# Sets"
   ]
  },
  {
   "cell_type": "code",
   "execution_count": 3,
   "id": "faa37845-a26f-4075-8c3e-de3545a8ff64",
   "metadata": {
    "tags": []
   },
   "outputs": [
    {
     "name": "stdout",
     "output_type": "stream",
     "text": [
      "<class 'set'>\n",
      "{1, 3, 'dos'}\n"
     ]
    }
   ],
   "source": [
    "set_datos = {1, 1, \"dos\", \"dos\", 3}\n",
    "print(type(set_datos))\n",
    "print(set_datos)"
   ]
  },
  {
   "cell_type": "markdown",
   "id": "0c89c875-488e-4e6e-92ef-2181dd090af5",
   "metadata": {},
   "source": [
    "# Diccionarios"
   ]
  },
  {
   "cell_type": "code",
   "execution_count": 5,
   "id": "4df20cf5-feab-4c71-adc1-24427d75c104",
   "metadata": {
    "tags": []
   },
   "outputs": [
    {
     "name": "stdout",
     "output_type": "stream",
     "text": [
      "<class 'dict'>\n",
      "{'NOMBRE': 'Luis', 'EDAD': 12, 'PESO': 25, 'LOCALIDAD': 'Castro'}\n"
     ]
    }
   ],
   "source": [
    "dic_datos = {\"NOMBRE\": 'Luis', \"EDAD\": 12, \"PESO\": 25, \"LOCALIDAD\": 'Castro'}\n",
    "print(type(dic_datos))\n",
    "print(dic_datos)"
   ]
  },
  {
   "cell_type": "markdown",
   "id": "305807d7-b45e-41d8-801e-218bb256ccb3",
   "metadata": {},
   "source": [
    "# Estadística"
   ]
  },
  {
   "cell_type": "code",
   "execution_count": 9,
   "id": "63b8b487-8ace-4f4c-bb19-933307bda74a",
   "metadata": {
    "tags": []
   },
   "outputs": [
    {
     "name": "stdout",
     "output_type": "stream",
     "text": [
      "Media:  6.5\n",
      "Mediana:  4.1\n",
      "Mediana Baja:  4.1\n",
      "Mediana Alta:  4.1\n",
      "Moda:  4.1\n",
      "Desviacion Tipica:  4.68134596029817\n",
      "Varianza:  21.915000000000003\n",
      "Cuartiles [3.1999999999999997, 4.1, 11.0]\n"
     ]
    }
   ],
   "source": [
    "import statistics as stats\n",
    "list_valores = [8, 4.1, 2.3, 14, 4.1]\n",
    "media = stats.mean(list_valores)\n",
    "print('Media: ', stats.mean(list_valores))\n",
    "print('Mediana: ', stats.median(list_valores))\n",
    "print('Mediana Baja: ', stats.median_low(list_valores))\n",
    "print('Mediana Alta: ', stats.median_high(list_valores))\n",
    "print('Moda: ', stats.mode(list_valores))\n",
    "print('Desviacion Tipica: ', stats.stdev(list_valores))\n",
    "print('Varianza: ', stats.variance(list_valores))\n",
    "print('Cuartiles', stats.quantiles(list_valores))"
   ]
  },
  {
   "cell_type": "code",
   "execution_count": null,
   "id": "1927045e-d339-4170-9dc0-2015b33ad414",
   "metadata": {},
   "outputs": [],
   "source": []
  },
  {
   "cell_type": "markdown",
   "id": "9037c03e-e070-4c47-9941-8d184e1fe4c1",
   "metadata": {},
   "source": [
    "# Funciones"
   ]
  },
  {
   "cell_type": "code",
   "execution_count": 12,
   "id": "c8c6b473-0352-4669-9342-a2a847c63244",
   "metadata": {
    "tags": []
   },
   "outputs": [
    {
     "name": "stdout",
     "output_type": "stream",
     "text": [
      "Suma:  12\n",
      "Resta:  4\n"
     ]
    }
   ],
   "source": [
    "def suma_resta(valor1, valor2):\n",
    "    \"\"\"\n",
    "    Calcula la suma y la resta de dos valores\n",
    "    \"\"\"\n",
    "    suma = valor1 + valor2\n",
    "    resta = valor1 - valor2\n",
    "    return suma, resta\n",
    "s, r = suma_resta(8,4)\n",
    "print('Suma: ', s)\n",
    "print('Resta: ', r)\n"
   ]
  }
 ],
 "metadata": {
  "kernelspec": {
   "display_name": "Python 3 (ipykernel)",
   "language": "python",
   "name": "python3"
  },
  "language_info": {
   "codemirror_mode": {
    "name": "ipython",
    "version": 3
   },
   "file_extension": ".py",
   "mimetype": "text/x-python",
   "name": "python",
   "nbconvert_exporter": "python",
   "pygments_lexer": "ipython3",
   "version": "3.12.4"
  }
 },
 "nbformat": 4,
 "nbformat_minor": 5
}
