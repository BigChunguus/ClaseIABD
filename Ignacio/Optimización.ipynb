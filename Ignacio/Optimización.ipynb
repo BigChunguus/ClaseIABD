{
 "cells": [
  {
   "cell_type": "code",
   "execution_count": 1,
   "id": "db1ef962-0870-491e-b133-83a54491a028",
   "metadata": {},
   "outputs": [
    {
     "name": "stdout",
     "output_type": "stream",
     "text": [
      "   x1  x2  y\n",
      "0   3   2  6\n",
      "1   4   1  7\n",
      "Función de Pérdida:  (b + 3*w1 + 2*w2 - 6)**2/2 + (b + 4*w1 + w2 - 7)**2/2\n",
      "Derivada Parcial de Función de Pérdida respecto a w1:  7*b + 25*w1 + 10*w2 - 46\n",
      "Derivada Parcial de Función de Pérdida respecto a w2:  3*b + 10*w1 + 5*w2 - 19\n",
      "Derivada Parcial de Función de Pérdida respecto a b:  2*b + 7*w1 + 3*w2 - 13\n",
      "w1:  -1\n",
      "w2:  2\n",
      "b:  1\n",
      "Pérdida:  40\n",
      "Pendiente de w1:  -44\n",
      "Pendiente de w2:  -16\n",
      "Pendiente de b:  -12\n"
     ]
    }
   ],
   "source": [
    "import pandas as pd\n",
    "import numpy as np\n",
    "import sympy as sym\n",
    "import math\n",
    "\n",
    "x1 = sym.Symbol(\"x1\")\n",
    "x2 = sym.Symbol(\"x2\")\n",
    "w1 = sym.Symbol(\"w1\")\n",
    "w2 = sym.Symbol(\"w2\")\n",
    "b = sym.Symbol(\"b\")\n",
    "\n",
    "dataset = pd.DataFrame(np.array([[3, 2, 6], [4, 1, 7]]), columns=['x1', 'x2', 'y'])\n",
    "print(dataset)\n",
    "\n",
    "# La función suma es la suma de los productos de cada entrada por su peso más el sesgo\n",
    "suma = w1*x1 + w2*x2 + b\n",
    "# El resultado de la función de activación es el valor predicho \n",
    "# La salida de la función de activación es el valor predicho\n",
    "# En este caso la función de activación es la función identidad\n",
    "y_predicho = suma\n",
    "# En este caso la función de activación es la función sigmoide\n",
    "# y_predicho = 1 / (1 + math.e**(-suma))\n",
    "\n",
    "# Como función de pérdida (L) se va a utilizar la MSE\n",
    "funcion_perdida = ( \n",
    "    (y_predicho.subs({x1: dataset.loc[0, 'x1'], x2: dataset.loc[0, 'x2']}) - dataset.loc[0, 'y'])**2 + \n",
    "    (y_predicho.subs({x1: dataset.loc[1, 'x1'], x2: dataset.loc[1, 'x2']}) - dataset.loc[1, 'y'])**2 \n",
    "    ) / 2\n",
    "# Se calculan las derivadas parciales respecto a w1, w2 y b de la función de pérdida\n",
    "derivada_funcion_perdida_w1 = sym.diff(funcion_perdida, w1)\n",
    "derivada_funcion_perdida_w2 = sym.diff(funcion_perdida, w2)\n",
    "derivada_funcion_perdida_b = sym.diff(funcion_perdida, b)\n",
    "\n",
    "print(\"Función de Pérdida: \", funcion_perdida)\n",
    "print(\"Derivada Parcial de Función de Pérdida respecto a w1: \", derivada_funcion_perdida_w1)\n",
    "print(\"Derivada Parcial de Función de Pérdida respecto a w2: \", derivada_funcion_perdida_w2)\n",
    "print(\"Derivada Parcial de Función de Pérdida respecto a b: \", derivada_funcion_perdida_b)\n",
    "\n",
    "valor_w1 = -1\n",
    "valor_w2 = 2\n",
    "valor_b = 1\n",
    "print(\"w1: \", valor_w1)\n",
    "print(\"w2: \", valor_w2)\n",
    "print(\"b: \", valor_b)\n",
    "\n",
    "print(\"Pérdida: \", funcion_perdida.subs({w1: valor_w1, w2: valor_w2, b: valor_b}))\n",
    "print(\"Pendiente de w1: \", derivada_funcion_perdida_w1.subs({w1: valor_w1, w2: valor_w2, b: valor_b}))\n",
    "print(\"Pendiente de w2: \", derivada_funcion_perdida_w2.subs({w1: valor_w1, w2: valor_w2, b: valor_b}))\n",
    "print(\"Pendiente de b: \", derivada_funcion_perdida_b.subs({w1: valor_w1, w2: valor_w2, b: valor_b}))"
   ]
  },
  {
   "cell_type": "code",
   "execution_count": null,
   "id": "4d976593-9403-42d2-98ad-7c88f3cbb3a0",
   "metadata": {},
   "outputs": [],
   "source": []
  }
 ],
 "metadata": {
  "kernelspec": {
   "display_name": "Python 3 (ipykernel)",
   "language": "python",
   "name": "python3"
  },
  "language_info": {
   "codemirror_mode": {
    "name": "ipython",
    "version": 3
   },
   "file_extension": ".py",
   "mimetype": "text/x-python",
   "name": "python",
   "nbconvert_exporter": "python",
   "pygments_lexer": "ipython3",
   "version": "3.12.4"
  }
 },
 "nbformat": 4,
 "nbformat_minor": 5
}
